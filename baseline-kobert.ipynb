{
 "cells": [
  {
   "cell_type": "markdown",
   "id": "1470f55a",
   "metadata": {
    "papermill": {
     "duration": 0.006767,
     "end_time": "2024-10-13T15:12:56.119800",
     "exception": false,
     "start_time": "2024-10-13T15:12:56.113033",
     "status": "completed"
    },
    "tags": []
   },
   "source": [
    "# Import"
   ]
  },
  {
   "cell_type": "code",
   "execution_count": 1,
   "id": "a3d02c93",
   "metadata": {
    "execution": {
     "iopub.execute_input": "2024-10-13T15:12:56.133912Z",
     "iopub.status.busy": "2024-10-13T15:12:56.133503Z",
     "iopub.status.idle": "2024-10-13T15:13:03.559662Z",
     "shell.execute_reply": "2024-10-13T15:13:03.558865Z"
    },
    "papermill": {
     "duration": 7.435788,
     "end_time": "2024-10-13T15:13:03.561988",
     "exception": false,
     "start_time": "2024-10-13T15:12:56.126200",
     "status": "completed"
    },
    "tags": []
   },
   "outputs": [],
   "source": [
    "import torch\n",
    "from torch.utils.data import Dataset, DataLoader\n",
    "from transformers import BertTokenizer, BertForSequenceClassification, AdamW\n",
    "from sklearn.model_selection import train_test_split\n",
    "from sklearn.metrics import f1_score\n",
    "from tqdm import tqdm\n",
    "import pandas as pd\n",
    "from types import SimpleNamespace"
   ]
  },
  {
   "cell_type": "markdown",
   "id": "274f1614",
   "metadata": {
    "papermill": {
     "duration": 0.006003,
     "end_time": "2024-10-13T15:13:03.574532",
     "exception": false,
     "start_time": "2024-10-13T15:13:03.568529",
     "status": "completed"
    },
    "tags": []
   },
   "source": [
    "# Hyperparameter"
   ]
  },
  {
   "cell_type": "code",
   "execution_count": 2,
   "id": "7ee4a7fa",
   "metadata": {
    "execution": {
     "iopub.execute_input": "2024-10-13T15:13:03.589499Z",
     "iopub.status.busy": "2024-10-13T15:13:03.588941Z",
     "iopub.status.idle": "2024-10-13T15:13:03.593701Z",
     "shell.execute_reply": "2024-10-13T15:13:03.592850Z"
    },
    "papermill": {
     "duration": 0.015008,
     "end_time": "2024-10-13T15:13:03.595654",
     "exception": false,
     "start_time": "2024-10-13T15:13:03.580646",
     "status": "completed"
    },
    "tags": []
   },
   "outputs": [],
   "source": [
    "config = {\n",
    "    \"learning_rate\": 5e-5,\n",
    "    \"epoch\": 10,\n",
    "    \"batch_size\": 128\n",
    "}\n",
    "\n",
    "CFG = SimpleNamespace(**config)"
   ]
  },
  {
   "cell_type": "markdown",
   "id": "f7f11b91",
   "metadata": {
    "papermill": {
     "duration": 0.005848,
     "end_time": "2024-10-13T15:13:03.607670",
     "exception": false,
     "start_time": "2024-10-13T15:13:03.601822",
     "status": "completed"
    },
    "tags": []
   },
   "source": [
    "# Load Data"
   ]
  },
  {
   "cell_type": "code",
   "execution_count": 3,
   "id": "cdf5b9f4",
   "metadata": {
    "execution": {
     "iopub.execute_input": "2024-10-13T15:13:03.621437Z",
     "iopub.status.busy": "2024-10-13T15:13:03.621053Z",
     "iopub.status.idle": "2024-10-13T15:13:06.963104Z",
     "shell.execute_reply": "2024-10-13T15:13:06.962211Z"
    },
    "papermill": {
     "duration": 3.351979,
     "end_time": "2024-10-13T15:13:06.965693",
     "exception": false,
     "start_time": "2024-10-13T15:13:03.613714",
     "status": "completed"
    },
    "tags": []
   },
   "outputs": [],
   "source": [
    "#augmented, 500개로 맞춤\n",
    "#augmented2, 1000개로 맞춤\n",
    "#augmented_combined, 동일 카테고리별로 5개씩 묶고, 합친 갯수가 200개보다 적으면 200개까지 증강\n",
    "#augmented_combined3, 동일 카테고리별로 2개씩 묶고, 합친 갯수가 200개보다 적으면 50개까지 증강\n",
    "#augmented_combined4, 셔플 추가, 동일 카테고리별로 2개씩 묶고, 합친 갯수가 200개보다 적으면 50개까지 증강\n",
    "#augmented_combined5, 셔플 추가, 동일 카테고리별로 2개씩 묶고, 합친 갯수가 200개보다 적으면 50개까지 증강\n",
    "#그리고 지역은 5000개까지 줄임\n",
    "#augmented_combined6, 셔플 추가, 동일 카테고리별로 2개씩 묶고, 합친 갯수가 30개보다 적으면 30개까지 증강\n",
    "#augmented_combined7, 셔플 추가, 동일 카테고리별로 2개씩 묶고, 합친 갯수가 30개보다 적으면 30개까지 증강\n",
    "#그리고 지역은 7000개까지 줄임\n",
    "#augmented_combined8, 셔플 추가, 동일 카테고리별로 2개씩 묶고, 합친 갯수가 30개보다 적으면 30개까지 증강\n",
    "#그리고 지역은 5000개까지 줄임\n",
    "#augmented_combined7, 셔플 추가, 동일 카테고리별로 2개씩 묶고, 합친 갯수가 30개보다 적으면 30개까지 증강\n",
    "#그리고 지역은 3000개까지 줄임\n",
    "#augmented_combined7, 셔플 추가, 동일 카테고리별로 2개씩 묶고, 합친 갯수가 30개보다 적으면 30개까지 증강\n",
    "#그리고 지역은 2000개까지 줄임\n",
    "train_df = pd.read_csv(\"/kaggle/input/dacon-dataset/train.csv\")\n",
    "test_df = pd.read_csv(\"/kaggle/input/dacon-dataset/test.csv\")"
   ]
  },
  {
   "cell_type": "code",
   "execution_count": 4,
   "id": "c3d5cfe9",
   "metadata": {
    "execution": {
     "iopub.execute_input": "2024-10-13T15:13:06.981120Z",
     "iopub.status.busy": "2024-10-13T15:13:06.980739Z",
     "iopub.status.idle": "2024-10-13T15:13:07.008498Z",
     "shell.execute_reply": "2024-10-13T15:13:07.007525Z"
    },
    "papermill": {
     "duration": 0.037746,
     "end_time": "2024-10-13T15:13:07.010433",
     "exception": false,
     "start_time": "2024-10-13T15:13:06.972687",
     "status": "completed"
    },
    "tags": []
   },
   "outputs": [
    {
     "data": {
      "text/plain": [
       "분류\n",
       "지역               26950\n",
       "경제:부동산            3454\n",
       "사회:사건_사고          2568\n",
       "경제:반도체            2318\n",
       "사회:사회일반           1480\n",
       "사회:교육_시험           995\n",
       "정치:국회_정당           966\n",
       "사회:의료_건강           950\n",
       "경제:취업_창업           845\n",
       "스포츠:올림픽_아시안게임      841\n",
       "경제:산업_기업           711\n",
       "문화:전시_공연           671\n",
       "경제:자동차             640\n",
       "경제:경제일반            625\n",
       "사회:장애인             621\n",
       "스포츠:골프             617\n",
       "정치:선거              608\n",
       "경제:유통              589\n",
       "IT_과학:모바일          537\n",
       "사회:여성              536\n",
       "사회:노동_복지           447\n",
       "사회:환경              396\n",
       "경제:서비스_쇼핑          387\n",
       "경제:무역              375\n",
       "정치:행정_자치           349\n",
       "국제                 337\n",
       "문화:방송_연예           335\n",
       "스포츠:축구             328\n",
       "경제:금융_재테크          327\n",
       "정치:청와대             279\n",
       "문화:출판              248\n",
       "IT_과학:IT_과학일반      243\n",
       "IT_과학:인터넷_SNS      238\n",
       "문화:미술_건축           229\n",
       "정치:정치일반            221\n",
       "IT_과학:과학           215\n",
       "문화:문화일반            213\n",
       "문화:학술_문화재          202\n",
       "문화:요리_여행           190\n",
       "경제:자원              178\n",
       "문화:종교              173\n",
       "IT_과학:콘텐츠          160\n",
       "사회:미디어             128\n",
       "사회:날씨              124\n",
       "스포츠:농구_배구          113\n",
       "문화:음악              110\n",
       "문화:생활              102\n",
       "IT_과학:보안            94\n",
       "스포츠:월드컵             90\n",
       "경제:증권_증시            76\n",
       "정치:북한               67\n",
       "정치:외교               31\n",
       "스포츠:스포츠일반           29\n",
       "문화:영화               27\n",
       "스포츠:야구              17\n",
       "경제:외환                9\n",
       "Name: count, dtype: int64"
      ]
     },
     "execution_count": 4,
     "metadata": {},
     "output_type": "execute_result"
    }
   ],
   "source": [
    "train_df[\"분류\"].value_counts()"
   ]
  },
  {
   "cell_type": "code",
   "execution_count": 5,
   "id": "45e27bc7",
   "metadata": {
    "execution": {
     "iopub.execute_input": "2024-10-13T15:13:07.024583Z",
     "iopub.status.busy": "2024-10-13T15:13:07.024252Z",
     "iopub.status.idle": "2024-10-13T15:19:45.188569Z",
     "shell.execute_reply": "2024-10-13T15:19:45.187593Z"
    },
    "papermill": {
     "duration": 398.179778,
     "end_time": "2024-10-13T15:19:45.196688",
     "exception": false,
     "start_time": "2024-10-13T15:13:07.016910",
     "status": "completed"
    },
    "tags": []
   },
   "outputs": [
    {
     "name": "stdout",
     "output_type": "stream",
     "text": [
      "지역 카테고리에서 중복된 데이터 11667개 제거 완료.\n"
     ]
    }
   ],
   "source": [
    "from sklearn.feature_extraction.text import TfidfVectorizer\n",
    "from sklearn.metrics.pairwise import cosine_similarity\n",
    "import random\n",
    "\n",
    "# 1. '지역' 카테고리 필터링\n",
    "region_df = train_df[train_df['분류'] == '지역'].copy()\n",
    "\n",
    "# 2. 제목과 키워드 데이터를 각각 리스트로 변환\n",
    "title_texts = region_df['제목'].tolist()\n",
    "keyword_texts = region_df['키워드'].tolist()\n",
    "\n",
    "# 3. TF-IDF 벡터화\n",
    "title_vectorizer = TfidfVectorizer().fit_transform(title_texts)\n",
    "keyword_vectorizer = TfidfVectorizer().fit_transform(keyword_texts)\n",
    "\n",
    "# 4. 코사인 유사도 계산 (제목과 키워드 각각)\n",
    "title_cosine_similarities = cosine_similarity(title_vectorizer, title_vectorizer)\n",
    "keyword_cosine_similarities = cosine_similarity(keyword_vectorizer, keyword_vectorizer)\n",
    "\n",
    "# 5. 유사도 임계값 설정 (0.8 이상이면 중복으로 간주)\n",
    "threshold = 0.5\n",
    "\n",
    "# 6. 중복 데이터 탐지 함수 (일부 제거)\n",
    "def find_duplicate_indices(cosine_similarities, threshold):\n",
    "    duplicate_indices = []\n",
    "    for i in range(len(cosine_similarities)):\n",
    "        for j in range(i + 1, len(cosine_similarities)):\n",
    "            if cosine_similarities[i][j] > threshold:\n",
    "                duplicate_indices.append(j)\n",
    "    # 중복된 데이터 중에서 절반만 제거하도록 선택\n",
    "    unique_duplicate_indices = list(set(duplicate_indices))\n",
    "    to_remove = random.sample(unique_duplicate_indices, len(unique_duplicate_indices) // 2)\n",
    "    return to_remove\n",
    "\n",
    "# 7. 제목과 키워드에서 각각 유사한 데이터의 중복 인덱스 찾기\n",
    "title_duplicate_indices = find_duplicate_indices(title_cosine_similarities, threshold)\n",
    "keyword_duplicate_indices = find_duplicate_indices(keyword_cosine_similarities, threshold)\n",
    "\n",
    "# 8. 제목과 키워드 중복 인덱스의 교집합만 제거\n",
    "duplicate_indices = list(set(title_duplicate_indices) | set(keyword_duplicate_indices)) \n",
    "# 9. 중복 데이터 제거\n",
    "region_df_cleaned = region_df.drop(region_df.index[duplicate_indices]).reset_index(drop=True)\n",
    "\n",
    "\n",
    "# 10. 중복된 데이터 수 확인\n",
    "print(f\"지역 카테고리에서 중복된 데이터 {len(duplicate_indices)}개 제거 완료.\")"
   ]
  },
  {
   "cell_type": "code",
   "execution_count": 6,
   "id": "fa7a8bb6",
   "metadata": {
    "execution": {
     "iopub.execute_input": "2024-10-13T15:19:45.210993Z",
     "iopub.status.busy": "2024-10-13T15:19:45.210590Z",
     "iopub.status.idle": "2024-10-13T15:19:45.235246Z",
     "shell.execute_reply": "2024-10-13T15:19:45.234161Z"
    },
    "papermill": {
     "duration": 0.034339,
     "end_time": "2024-10-13T15:19:45.237447",
     "exception": false,
     "start_time": "2024-10-13T15:19:45.203108",
     "status": "completed"
    },
    "tags": []
   },
   "outputs": [
    {
     "name": "stdout",
     "output_type": "stream",
     "text": [
      "전체 데이터 크기: (42942, 4)\n"
     ]
    }
   ],
   "source": [
    "# 11. 원래 데이터프레임에서 지역 카테고리를 업데이트\n",
    "train_df_updated = pd.concat([train_df[train_df['분류'] != '지역'], region_df_cleaned], ignore_index=True)\n",
    "\n",
    "# 제거된 후의 데이터프레임 확인\n",
    "print(f\"전체 데이터 크기: {train_df_updated.shape}\")"
   ]
  },
  {
   "cell_type": "code",
   "execution_count": 7,
   "id": "f8aad939",
   "metadata": {
    "execution": {
     "iopub.execute_input": "2024-10-13T15:19:45.251875Z",
     "iopub.status.busy": "2024-10-13T15:19:45.251549Z",
     "iopub.status.idle": "2024-10-13T15:19:45.265163Z",
     "shell.execute_reply": "2024-10-13T15:19:45.264277Z"
    },
    "papermill": {
     "duration": 0.023101,
     "end_time": "2024-10-13T15:19:45.267262",
     "exception": false,
     "start_time": "2024-10-13T15:19:45.244161",
     "status": "completed"
    },
    "tags": []
   },
   "outputs": [
    {
     "data": {
      "text/plain": [
       "분류\n",
       "지역               15283\n",
       "경제:부동산            3454\n",
       "사회:사건_사고          2568\n",
       "경제:반도체            2318\n",
       "사회:사회일반           1480\n",
       "사회:교육_시험           995\n",
       "정치:국회_정당           966\n",
       "사회:의료_건강           950\n",
       "경제:취업_창업           845\n",
       "스포츠:올림픽_아시안게임      841\n",
       "경제:산업_기업           711\n",
       "문화:전시_공연           671\n",
       "경제:자동차             640\n",
       "경제:경제일반            625\n",
       "사회:장애인             621\n",
       "스포츠:골프             617\n",
       "정치:선거              608\n",
       "경제:유통              589\n",
       "IT_과학:모바일          537\n",
       "사회:여성              536\n",
       "사회:노동_복지           447\n",
       "사회:환경              396\n",
       "경제:서비스_쇼핑          387\n",
       "경제:무역              375\n",
       "정치:행정_자치           349\n",
       "국제                 337\n",
       "문화:방송_연예           335\n",
       "스포츠:축구             328\n",
       "경제:금융_재테크          327\n",
       "정치:청와대             279\n",
       "문화:출판              248\n",
       "IT_과학:IT_과학일반      243\n",
       "IT_과학:인터넷_SNS      238\n",
       "문화:미술_건축           229\n",
       "정치:정치일반            221\n",
       "IT_과학:과학           215\n",
       "문화:문화일반            213\n",
       "문화:학술_문화재          202\n",
       "문화:요리_여행           190\n",
       "경제:자원              178\n",
       "문화:종교              173\n",
       "IT_과학:콘텐츠          160\n",
       "사회:미디어             128\n",
       "사회:날씨              124\n",
       "스포츠:농구_배구          113\n",
       "문화:음악              110\n",
       "문화:생활              102\n",
       "IT_과학:보안            94\n",
       "스포츠:월드컵             90\n",
       "경제:증권_증시            76\n",
       "정치:북한               67\n",
       "정치:외교               31\n",
       "스포츠:스포츠일반           29\n",
       "문화:영화               27\n",
       "스포츠:야구              17\n",
       "경제:외환                9\n",
       "Name: count, dtype: int64"
      ]
     },
     "execution_count": 7,
     "metadata": {},
     "output_type": "execute_result"
    }
   ],
   "source": [
    "train_df_updated[\"분류\"].value_counts()"
   ]
  },
  {
   "cell_type": "markdown",
   "id": "0f0e7372",
   "metadata": {
    "papermill": {
     "duration": 0.006415,
     "end_time": "2024-10-13T15:19:45.280490",
     "exception": false,
     "start_time": "2024-10-13T15:19:45.274075",
     "status": "completed"
    },
    "tags": []
   },
   "source": [
    "# Load Model"
   ]
  },
  {
   "cell_type": "code",
   "execution_count": 8,
   "id": "a7ae0809",
   "metadata": {
    "execution": {
     "iopub.execute_input": "2024-10-13T15:19:45.295697Z",
     "iopub.status.busy": "2024-10-13T15:19:45.295335Z",
     "iopub.status.idle": "2024-10-13T15:19:48.356135Z",
     "shell.execute_reply": "2024-10-13T15:19:48.355092Z"
    },
    "papermill": {
     "duration": 3.071499,
     "end_time": "2024-10-13T15:19:48.358578",
     "exception": false,
     "start_time": "2024-10-13T15:19:45.287079",
     "status": "completed"
    },
    "tags": []
   },
   "outputs": [
    {
     "data": {
      "application/vnd.jupyter.widget-view+json": {
       "model_id": "e3d27dcec80441ee967b8eaefeece6fa",
       "version_major": 2,
       "version_minor": 0
      },
      "text/plain": [
       "tokenizer_config.json:   0%|          | 0.00/263 [00:00<?, ?B/s]"
      ]
     },
     "metadata": {},
     "output_type": "display_data"
    },
    {
     "data": {
      "application/vnd.jupyter.widget-view+json": {
       "model_id": "4c7c988d8cb7480b96c645034384b0d8",
       "version_major": 2,
       "version_minor": 0
      },
      "text/plain": [
       "vocab.txt:   0%|          | 0.00/77.8k [00:00<?, ?B/s]"
      ]
     },
     "metadata": {},
     "output_type": "display_data"
    },
    {
     "name": "stderr",
     "output_type": "stream",
     "text": [
      "The tokenizer class you load from this checkpoint is not the same type as the class this function is called from. It may result in unexpected tokenization. \n",
      "The tokenizer class you load from this checkpoint is 'KoBertTokenizer'. \n",
      "The class this function is called from is 'BertTokenizer'.\n",
      "/opt/conda/lib/python3.10/site-packages/transformers/tokenization_utils_base.py:1601: FutureWarning: `clean_up_tokenization_spaces` was not set. It will be set to `True` by default. This behavior will be depracted in transformers v4.45, and will be then set to `False` by default. For more details check this issue: https://github.com/huggingface/transformers/issues/31884\n",
      "  warnings.warn(\n"
     ]
    },
    {
     "data": {
      "application/vnd.jupyter.widget-view+json": {
       "model_id": "6767c553d94f409989f1035aaa010b3a",
       "version_major": 2,
       "version_minor": 0
      },
      "text/plain": [
       "config.json:   0%|          | 0.00/426 [00:00<?, ?B/s]"
      ]
     },
     "metadata": {},
     "output_type": "display_data"
    },
    {
     "data": {
      "application/vnd.jupyter.widget-view+json": {
       "model_id": "efd97bf3ec414d33bc497c936aad524e",
       "version_major": 2,
       "version_minor": 0
      },
      "text/plain": [
       "model.safetensors:   0%|          | 0.00/369M [00:00<?, ?B/s]"
      ]
     },
     "metadata": {},
     "output_type": "display_data"
    },
    {
     "name": "stderr",
     "output_type": "stream",
     "text": [
      "Some weights of BertForSequenceClassification were not initialized from the model checkpoint at monologg/kobert and are newly initialized: ['classifier.bias', 'classifier.weight']\n",
      "You should probably TRAIN this model on a down-stream task to be able to use it for predictions and inference.\n"
     ]
    }
   ],
   "source": [
    "device = torch.device('cuda' if torch.cuda.is_available() else 'cpu')\n",
    "tokenizer = BertTokenizer.from_pretrained('monologg/kobert')\n",
    "#tokenizer = KoBertTokenizer.from_pretrained('monologg/kobert')\n",
    "model = BertForSequenceClassification.from_pretrained('monologg/kobert', num_labels=len(train_df['분류'].unique())).to(device)"
   ]
  },
  {
   "cell_type": "markdown",
   "id": "51b5daee",
   "metadata": {
    "papermill": {
     "duration": 0.007425,
     "end_time": "2024-10-13T15:19:48.373928",
     "exception": false,
     "start_time": "2024-10-13T15:19:48.366503",
     "status": "completed"
    },
    "tags": []
   },
   "source": [
    "# Custom Dataset"
   ]
  },
  {
   "cell_type": "code",
   "execution_count": 9,
   "id": "0acdfa27",
   "metadata": {
    "execution": {
     "iopub.execute_input": "2024-10-13T15:19:48.390492Z",
     "iopub.status.busy": "2024-10-13T15:19:48.390126Z",
     "iopub.status.idle": "2024-10-13T15:19:48.398603Z",
     "shell.execute_reply": "2024-10-13T15:19:48.397705Z"
    },
    "papermill": {
     "duration": 0.019048,
     "end_time": "2024-10-13T15:19:48.400498",
     "exception": false,
     "start_time": "2024-10-13T15:19:48.381450",
     "status": "completed"
    },
    "tags": []
   },
   "outputs": [],
   "source": [
    "class TextDataset(Dataset):\n",
    "    def __init__(self, texts, labels, tokenizer, max_len=128):\n",
    "        self.texts = texts\n",
    "        self.labels = labels\n",
    "        self.tokenizer = tokenizer\n",
    "        self.max_len = max_len\n",
    "\n",
    "    def __len__(self):\n",
    "        return len(self.texts)\n",
    "\n",
    "    def __getitem__(self, item):\n",
    "        text = str(self.texts[item])\n",
    "        label = self.labels[item] if self.labels is not None else -1\n",
    "        encoding = self.tokenizer.encode_plus(\n",
    "            text,\n",
    "            add_special_tokens=True,\n",
    "            max_length=self.max_len,\n",
    "            return_token_type_ids=False,\n",
    "            padding='max_length',\n",
    "            truncation=True,\n",
    "            return_attention_mask=True,\n",
    "            return_tensors='pt',\n",
    "        )\n",
    "        return {\n",
    "            'text': text,\n",
    "            'input_ids': encoding['input_ids'].flatten(),\n",
    "            'attention_mask': encoding['attention_mask'].flatten(),\n",
    "            'labels': torch.tensor(label, dtype=torch.long)\n",
    "        }\n"
   ]
  },
  {
   "cell_type": "markdown",
   "id": "28b66b89",
   "metadata": {
    "papermill": {
     "duration": 0.007353,
     "end_time": "2024-10-13T15:19:48.415443",
     "exception": false,
     "start_time": "2024-10-13T15:19:48.408090",
     "status": "completed"
    },
    "tags": []
   },
   "source": [
    "# Data Preprocessing"
   ]
  },
  {
   "cell_type": "code",
   "execution_count": 10,
   "id": "4078e916",
   "metadata": {
    "execution": {
     "iopub.execute_input": "2024-10-13T15:19:48.431986Z",
     "iopub.status.busy": "2024-10-13T15:19:48.431623Z",
     "iopub.status.idle": "2024-10-13T15:19:48.632450Z",
     "shell.execute_reply": "2024-10-13T15:19:48.631658Z"
    },
    "papermill": {
     "duration": 0.211807,
     "end_time": "2024-10-13T15:19:48.634759",
     "exception": false,
     "start_time": "2024-10-13T15:19:48.422952",
     "status": "completed"
    },
    "tags": []
   },
   "outputs": [],
   "source": [
    "# 데이터 준비\n",
    "train_df['제목_키워드'] = train_df['제목'] + ' ' + train_df['키워드']\n",
    "test_df['제목_키워드'] = test_df['제목'] + ' ' + test_df['키워드']\n",
    "\n",
    "# 레이블 인코딩\n",
    "label_encoder = {label: i for i, label in enumerate(train_df['분류'].unique())}\n",
    "train_df['label'] = train_df['분류'].map(label_encoder)\n",
    "\n",
    "# 데이터 분할 (train -> train + validation)\n",
    "train_df, val_df = train_test_split(train_df, test_size=0.2, stratify=train_df['분류'], random_state=42)\n",
    "\n",
    "# 데이터셋 생성\n",
    "train_dataset = TextDataset(train_df.제목_키워드.tolist(), train_df.label.tolist(), tokenizer)\n",
    "val_dataset = TextDataset(val_df.제목_키워드.tolist(), val_df.label.tolist(), tokenizer)\n",
    "test_dataset = TextDataset(test_df.제목_키워드.tolist(), None, tokenizer)  # 라벨 없음\n",
    "\n",
    "# 데이터 로더 생성\n",
    "train_loader = DataLoader(train_dataset, batch_size=CFG.batch_size, shuffle=True)\n",
    "val_loader = DataLoader(val_dataset, batch_size=CFG.batch_size, shuffle=False)\n",
    "test_loader = DataLoader(test_dataset, batch_size=CFG.batch_size, shuffle=False)"
   ]
  },
  {
   "cell_type": "code",
   "execution_count": 11,
   "id": "31c2b596",
   "metadata": {
    "execution": {
     "iopub.execute_input": "2024-10-13T15:19:48.652315Z",
     "iopub.status.busy": "2024-10-13T15:19:48.651726Z",
     "iopub.status.idle": "2024-10-13T15:19:48.667635Z",
     "shell.execute_reply": "2024-10-13T15:19:48.666651Z"
    },
    "papermill": {
     "duration": 0.027131,
     "end_time": "2024-10-13T15:19:48.669929",
     "exception": false,
     "start_time": "2024-10-13T15:19:48.642798",
     "status": "completed"
    },
    "tags": []
   },
   "outputs": [
    {
     "data": {
      "text/html": [
       "<div>\n",
       "<style scoped>\n",
       "    .dataframe tbody tr th:only-of-type {\n",
       "        vertical-align: middle;\n",
       "    }\n",
       "\n",
       "    .dataframe tbody tr th {\n",
       "        vertical-align: top;\n",
       "    }\n",
       "\n",
       "    .dataframe thead th {\n",
       "        text-align: right;\n",
       "    }\n",
       "</style>\n",
       "<table border=\"1\" class=\"dataframe\">\n",
       "  <thead>\n",
       "    <tr style=\"text-align: right;\">\n",
       "      <th></th>\n",
       "      <th>ID</th>\n",
       "      <th>제목</th>\n",
       "      <th>키워드</th>\n",
       "      <th>제목_키워드</th>\n",
       "    </tr>\n",
       "  </thead>\n",
       "  <tbody>\n",
       "    <tr>\n",
       "      <th>0</th>\n",
       "      <td>TEST_00000</td>\n",
       "      <td>[부고] 김태수씨 별세 외</td>\n",
       "      <td>김태수,별세,김태수씨,서울,광남초등학,교장,별세,김윤정,이노코리아,대표,희정,한성대...</td>\n",
       "      <td>[부고] 김태수씨 별세 외 김태수,별세,김태수씨,서울,광남초등학,교장,별세,김윤정,...</td>\n",
       "    </tr>\n",
       "    <tr>\n",
       "      <th>1</th>\n",
       "      <td>TEST_00001</td>\n",
       "      <td>신규 확진 나흘째 세자릿수... 방역당국, 핼러윈 풍선효과 차단 총력</td>\n",
       "      <td>신규,확진,나흘,세자릿수,방역당국,핼러윈,풍선,효과,차단,총력,감염증,신종,코로나바...</td>\n",
       "      <td>신규 확진 나흘째 세자릿수... 방역당국, 핼러윈 풍선효과 차단 총력 신규,확진,나...</td>\n",
       "    </tr>\n",
       "    <tr>\n",
       "      <th>2</th>\n",
       "      <td>TEST_00002</td>\n",
       "      <td>[서경이 만난 사람] 전해철 장관 \"재정분권 강화 '지방자치 2.0 시대' 마중물 ...</td>\n",
       "      <td>전해철,장관,재정,분권,강화,지방자치,2.0,시대,마중물,마련,장관,전해철,행정안전...</td>\n",
       "      <td>[서경이 만난 사람] 전해철 장관 \"재정분권 강화 '지방자치 2.0 시대' 마중물 ...</td>\n",
       "    </tr>\n",
       "    <tr>\n",
       "      <th>3</th>\n",
       "      <td>TEST_00003</td>\n",
       "      <td>용인시, 12일 '장애인 구인 구직 만남의 날' 채용 행사</td>\n",
       "      <td>용인시,구인,장애인,구직,만남,채용,행사,노호근,용인특례시,장애인,취업,지원,대회의...</td>\n",
       "      <td>용인시, 12일 '장애인 구인 구직 만남의 날' 채용 행사 용인시,구인,장애인,구직...</td>\n",
       "    </tr>\n",
       "    <tr>\n",
       "      <th>4</th>\n",
       "      <td>TEST_00004</td>\n",
       "      <td>지자체 벽 터 경기지역 산단 활성화 모색</td>\n",
       "      <td>지자체,경기,북동부,지역,산업단지,혁신단위,설정,전략,지역,연계,특성,제시,경기도경...</td>\n",
       "      <td>지자체 벽 터 경기지역 산단 활성화 모색 지자체,경기,북동부,지역,산업단지,혁신단위...</td>\n",
       "    </tr>\n",
       "    <tr>\n",
       "      <th>...</th>\n",
       "      <td>...</td>\n",
       "      <td>...</td>\n",
       "      <td>...</td>\n",
       "      <td>...</td>\n",
       "    </tr>\n",
       "    <tr>\n",
       "      <th>23400</th>\n",
       "      <td>TEST_23400</td>\n",
       "      <td>코로나19 감염 경로 '조사중' 32.4% 최고치 일상감염 지속</td>\n",
       "      <td>코로나19,감염,경로,조사,32.4%,최고,일상감염,지속,기준,확진자,기준,코로나1...</td>\n",
       "      <td>코로나19 감염 경로 '조사중' 32.4% 최고치 일상감염 지속 코로나19,감염,경...</td>\n",
       "    </tr>\n",
       "    <tr>\n",
       "      <th>23401</th>\n",
       "      <td>TEST_23401</td>\n",
       "      <td>“여행 외식해라” vs “모임 자제하라” 시민들 “어쩌란 건가” 혼란</td>\n",
       "      <td>여행,외식,자제,vs,모임,시민들,혼란,인천국제공항,아시아나항공,한반도,일주,비행,...</td>\n",
       "      <td>“여행 외식해라” vs “모임 자제하라” 시민들 “어쩌란 건가” 혼란 여행,외식,자...</td>\n",
       "    </tr>\n",
       "    <tr>\n",
       "      <th>23402</th>\n",
       "      <td>TEST_23402</td>\n",
       "      <td>송철호 울산시장 배우자 용인 임야 쪼개기 매입 의혹</td>\n",
       "      <td>임야,송철호,울산,시장,배우자,용인,매입,의혹,송철호,울산,시장,배우자,경기,용인,...</td>\n",
       "      <td>송철호 울산시장 배우자 용인 임야 쪼개기 매입 의혹 임야,송철호,울산,시장,배우자,...</td>\n",
       "    </tr>\n",
       "    <tr>\n",
       "      <th>23403</th>\n",
       "      <td>TEST_23403</td>\n",
       "      <td>여직원 배에 '자궁 모형' 올리고 사진 찍어 홍보용으로 쓴 한의사</td>\n",
       "      <td>여직원,자궁,모형,사진,홍보용,한의사,한의원,간호조무사,동의,자궁,모형,사진,한의사...</td>\n",
       "      <td>여직원 배에 '자궁 모형' 올리고 사진 찍어 홍보용으로 쓴 한의사 여직원,자궁,모형...</td>\n",
       "    </tr>\n",
       "    <tr>\n",
       "      <th>23404</th>\n",
       "      <td>TEST_23404</td>\n",
       "      <td>용인시, 팜 앤 포레스트 조성 '급물살'</td>\n",
       "      <td>용인시,급물살,포레스트,조성,관광휴양복합단지,용인,특례,농어촌,관광,휴양,복합,단지...</td>\n",
       "      <td>용인시, 팜 앤 포레스트 조성 '급물살' 용인시,급물살,포레스트,조성,관광휴양복합단...</td>\n",
       "    </tr>\n",
       "  </tbody>\n",
       "</table>\n",
       "<p>23405 rows × 4 columns</p>\n",
       "</div>"
      ],
      "text/plain": [
       "               ID                                                 제목  \\\n",
       "0      TEST_00000                                     [부고] 김태수씨 별세 외   \n",
       "1      TEST_00001             신규 확진 나흘째 세자릿수... 방역당국, 핼러윈 풍선효과 차단 총력   \n",
       "2      TEST_00002  [서경이 만난 사람] 전해철 장관 \"재정분권 강화 '지방자치 2.0 시대' 마중물 ...   \n",
       "3      TEST_00003                   용인시, 12일 '장애인 구인 구직 만남의 날' 채용 행사   \n",
       "4      TEST_00004                             지자체 벽 터 경기지역 산단 활성화 모색   \n",
       "...           ...                                                ...   \n",
       "23400  TEST_23400                코로나19 감염 경로 '조사중' 32.4% 최고치 일상감염 지속   \n",
       "23401  TEST_23401             “여행 외식해라” vs “모임 자제하라” 시민들 “어쩌란 건가” 혼란   \n",
       "23402  TEST_23402                       송철호 울산시장 배우자 용인 임야 쪼개기 매입 의혹   \n",
       "23403  TEST_23403               여직원 배에 '자궁 모형' 올리고 사진 찍어 홍보용으로 쓴 한의사   \n",
       "23404  TEST_23404                             용인시, 팜 앤 포레스트 조성 '급물살'   \n",
       "\n",
       "                                                     키워드  \\\n",
       "0      김태수,별세,김태수씨,서울,광남초등학,교장,별세,김윤정,이노코리아,대표,희정,한성대...   \n",
       "1      신규,확진,나흘,세자릿수,방역당국,핼러윈,풍선,효과,차단,총력,감염증,신종,코로나바...   \n",
       "2      전해철,장관,재정,분권,강화,지방자치,2.0,시대,마중물,마련,장관,전해철,행정안전...   \n",
       "3      용인시,구인,장애인,구직,만남,채용,행사,노호근,용인특례시,장애인,취업,지원,대회의...   \n",
       "4      지자체,경기,북동부,지역,산업단지,혁신단위,설정,전략,지역,연계,특성,제시,경기도경...   \n",
       "...                                                  ...   \n",
       "23400  코로나19,감염,경로,조사,32.4%,최고,일상감염,지속,기준,확진자,기준,코로나1...   \n",
       "23401  여행,외식,자제,vs,모임,시민들,혼란,인천국제공항,아시아나항공,한반도,일주,비행,...   \n",
       "23402  임야,송철호,울산,시장,배우자,용인,매입,의혹,송철호,울산,시장,배우자,경기,용인,...   \n",
       "23403  여직원,자궁,모형,사진,홍보용,한의사,한의원,간호조무사,동의,자궁,모형,사진,한의사...   \n",
       "23404  용인시,급물살,포레스트,조성,관광휴양복합단지,용인,특례,농어촌,관광,휴양,복합,단지...   \n",
       "\n",
       "                                                  제목_키워드  \n",
       "0      [부고] 김태수씨 별세 외 김태수,별세,김태수씨,서울,광남초등학,교장,별세,김윤정,...  \n",
       "1      신규 확진 나흘째 세자릿수... 방역당국, 핼러윈 풍선효과 차단 총력 신규,확진,나...  \n",
       "2      [서경이 만난 사람] 전해철 장관 \"재정분권 강화 '지방자치 2.0 시대' 마중물 ...  \n",
       "3      용인시, 12일 '장애인 구인 구직 만남의 날' 채용 행사 용인시,구인,장애인,구직...  \n",
       "4      지자체 벽 터 경기지역 산단 활성화 모색 지자체,경기,북동부,지역,산업단지,혁신단위...  \n",
       "...                                                  ...  \n",
       "23400  코로나19 감염 경로 '조사중' 32.4% 최고치 일상감염 지속 코로나19,감염,경...  \n",
       "23401  “여행 외식해라” vs “모임 자제하라” 시민들 “어쩌란 건가” 혼란 여행,외식,자...  \n",
       "23402  송철호 울산시장 배우자 용인 임야 쪼개기 매입 의혹 임야,송철호,울산,시장,배우자,...  \n",
       "23403  여직원 배에 '자궁 모형' 올리고 사진 찍어 홍보용으로 쓴 한의사 여직원,자궁,모형...  \n",
       "23404  용인시, 팜 앤 포레스트 조성 '급물살' 용인시,급물살,포레스트,조성,관광휴양복합단...  \n",
       "\n",
       "[23405 rows x 4 columns]"
      ]
     },
     "execution_count": 11,
     "metadata": {},
     "output_type": "execute_result"
    }
   ],
   "source": [
    "test_df"
   ]
  },
  {
   "cell_type": "code",
   "execution_count": 12,
   "id": "4f7c11b1",
   "metadata": {
    "execution": {
     "iopub.execute_input": "2024-10-13T15:19:48.689279Z",
     "iopub.status.busy": "2024-10-13T15:19:48.688515Z",
     "iopub.status.idle": "2024-10-13T15:19:48.702812Z",
     "shell.execute_reply": "2024-10-13T15:19:48.701916Z"
    },
    "papermill": {
     "duration": 0.026242,
     "end_time": "2024-10-13T15:19:48.704910",
     "exception": false,
     "start_time": "2024-10-13T15:19:48.678668",
     "status": "completed"
    },
    "tags": []
   },
   "outputs": [
    {
     "data": {
      "text/plain": [
       "분류\n",
       "지역               21560\n",
       "경제:부동산            2763\n",
       "사회:사건_사고          2054\n",
       "경제:반도체            1854\n",
       "사회:사회일반           1184\n",
       "사회:교육_시험           796\n",
       "정치:국회_정당           773\n",
       "사회:의료_건강           760\n",
       "경제:취업_창업           676\n",
       "스포츠:올림픽_아시안게임      673\n",
       "경제:산업_기업           569\n",
       "문화:전시_공연           537\n",
       "경제:자동차             512\n",
       "경제:경제일반            500\n",
       "사회:장애인             497\n",
       "스포츠:골프             494\n",
       "정치:선거              486\n",
       "경제:유통              471\n",
       "IT_과학:모바일          430\n",
       "사회:여성              429\n",
       "사회:노동_복지           358\n",
       "사회:환경              317\n",
       "경제:서비스_쇼핑          310\n",
       "경제:무역              300\n",
       "정치:행정_자치           279\n",
       "국제                 270\n",
       "문화:방송_연예           268\n",
       "경제:금융_재테크          262\n",
       "스포츠:축구             262\n",
       "정치:청와대             223\n",
       "문화:출판              198\n",
       "IT_과학:IT_과학일반      194\n",
       "IT_과학:인터넷_SNS      190\n",
       "문화:미술_건축           183\n",
       "정치:정치일반            177\n",
       "IT_과학:과학           172\n",
       "문화:문화일반            170\n",
       "문화:학술_문화재          162\n",
       "문화:요리_여행           152\n",
       "경제:자원              142\n",
       "문화:종교              138\n",
       "IT_과학:콘텐츠          128\n",
       "사회:미디어             102\n",
       "사회:날씨               99\n",
       "스포츠:농구_배구           90\n",
       "문화:음악               88\n",
       "문화:생활               82\n",
       "IT_과학:보안            75\n",
       "스포츠:월드컵             72\n",
       "경제:증권_증시            61\n",
       "정치:북한               54\n",
       "정치:외교               25\n",
       "스포츠:스포츠일반           23\n",
       "문화:영화               22\n",
       "스포츠:야구              14\n",
       "경제:외환                7\n",
       "Name: count, dtype: int64"
      ]
     },
     "execution_count": 12,
     "metadata": {},
     "output_type": "execute_result"
    }
   ],
   "source": [
    "train_df[\"분류\"].value_counts()"
   ]
  },
  {
   "cell_type": "code",
   "execution_count": 13,
   "id": "58f82d51",
   "metadata": {
    "execution": {
     "iopub.execute_input": "2024-10-13T15:19:48.723853Z",
     "iopub.status.busy": "2024-10-13T15:19:48.723216Z",
     "iopub.status.idle": "2024-10-13T15:19:49.387639Z",
     "shell.execute_reply": "2024-10-13T15:19:49.386815Z"
    },
    "papermill": {
     "duration": 0.676241,
     "end_time": "2024-10-13T15:19:49.389866",
     "exception": false,
     "start_time": "2024-10-13T15:19:48.713625",
     "status": "completed"
    },
    "tags": []
   },
   "outputs": [
    {
     "name": "stderr",
     "output_type": "stream",
     "text": [
      "/opt/conda/lib/python3.10/site-packages/transformers/optimization.py:591: FutureWarning: This implementation of AdamW is deprecated and will be removed in a future version. Use the PyTorch implementation torch.optim.AdamW instead, or set `no_deprecation_warning=True` to disable this warning\n",
      "  warnings.warn(\n"
     ]
    }
   ],
   "source": [
    "# 옵티마이저 및 학습 파라미터 설정\n",
    "optimizer = AdamW(model.parameters(), lr=CFG.learning_rate)"
   ]
  },
  {
   "cell_type": "code",
   "execution_count": 14,
   "id": "ad3ef62b",
   "metadata": {
    "execution": {
     "iopub.execute_input": "2024-10-13T15:19:49.410432Z",
     "iopub.status.busy": "2024-10-13T15:19:49.409057Z",
     "iopub.status.idle": "2024-10-13T18:29:41.665893Z",
     "shell.execute_reply": "2024-10-13T18:29:41.664928Z"
    },
    "papermill": {
     "duration": 11392.765317,
     "end_time": "2024-10-13T18:29:42.164169",
     "exception": false,
     "start_time": "2024-10-13T15:19:49.398852",
     "status": "completed"
    },
    "tags": []
   },
   "outputs": [
    {
     "name": "stderr",
     "output_type": "stream",
     "text": [
      "Epoch 1/15: 100%|██████████| 342/342 [11:14<00:00,  1.97s/it]\n",
      "Validating: 100%|██████████| 86/86 [01:31<00:00,  1.07s/it]\n"
     ]
    },
    {
     "name": "stdout",
     "output_type": "stream",
     "text": [
      "Validation F1 Score: 0.08\n"
     ]
    },
    {
     "name": "stderr",
     "output_type": "stream",
     "text": [
      "Epoch 2/15: 100%|██████████| 342/342 [11:07<00:00,  1.95s/it]\n",
      "Validating: 100%|██████████| 86/86 [01:31<00:00,  1.07s/it]\n"
     ]
    },
    {
     "name": "stdout",
     "output_type": "stream",
     "text": [
      "Validation F1 Score: 0.22\n"
     ]
    },
    {
     "name": "stderr",
     "output_type": "stream",
     "text": [
      "Epoch 3/15: 100%|██████████| 342/342 [11:08<00:00,  1.95s/it]\n",
      "Validating: 100%|██████████| 86/86 [01:32<00:00,  1.07s/it]\n"
     ]
    },
    {
     "name": "stdout",
     "output_type": "stream",
     "text": [
      "Validation F1 Score: 0.30\n"
     ]
    },
    {
     "name": "stderr",
     "output_type": "stream",
     "text": [
      "Epoch 4/15: 100%|██████████| 342/342 [11:07<00:00,  1.95s/it]\n",
      "Validating: 100%|██████████| 86/86 [01:31<00:00,  1.07s/it]\n"
     ]
    },
    {
     "name": "stdout",
     "output_type": "stream",
     "text": [
      "Validation F1 Score: 0.37\n"
     ]
    },
    {
     "name": "stderr",
     "output_type": "stream",
     "text": [
      "Epoch 5/15: 100%|██████████| 342/342 [11:07<00:00,  1.95s/it]\n",
      "Validating: 100%|██████████| 86/86 [01:31<00:00,  1.07s/it]\n"
     ]
    },
    {
     "name": "stdout",
     "output_type": "stream",
     "text": [
      "Validation F1 Score: 0.41\n"
     ]
    },
    {
     "name": "stderr",
     "output_type": "stream",
     "text": [
      "Epoch 6/15: 100%|██████████| 342/342 [11:07<00:00,  1.95s/it]\n",
      "Validating: 100%|██████████| 86/86 [01:32<00:00,  1.07s/it]\n"
     ]
    },
    {
     "name": "stdout",
     "output_type": "stream",
     "text": [
      "Validation F1 Score: 0.44\n"
     ]
    },
    {
     "name": "stderr",
     "output_type": "stream",
     "text": [
      "Epoch 7/15: 100%|██████████| 342/342 [11:07<00:00,  1.95s/it]\n",
      "Validating: 100%|██████████| 86/86 [01:31<00:00,  1.07s/it]\n"
     ]
    },
    {
     "name": "stdout",
     "output_type": "stream",
     "text": [
      "Validation F1 Score: 0.45\n"
     ]
    },
    {
     "name": "stderr",
     "output_type": "stream",
     "text": [
      "Epoch 8/15: 100%|██████████| 342/342 [11:07<00:00,  1.95s/it]\n",
      "Validating: 100%|██████████| 86/86 [01:31<00:00,  1.07s/it]\n"
     ]
    },
    {
     "name": "stdout",
     "output_type": "stream",
     "text": [
      "Validation F1 Score: 0.45\n"
     ]
    },
    {
     "name": "stderr",
     "output_type": "stream",
     "text": [
      "Epoch 9/15: 100%|██████████| 342/342 [11:06<00:00,  1.95s/it]\n",
      "Validating: 100%|██████████| 86/86 [01:31<00:00,  1.07s/it]\n"
     ]
    },
    {
     "name": "stdout",
     "output_type": "stream",
     "text": [
      "Validation F1 Score: 0.46\n"
     ]
    },
    {
     "name": "stderr",
     "output_type": "stream",
     "text": [
      "Epoch 10/15: 100%|██████████| 342/342 [11:06<00:00,  1.95s/it]\n",
      "Validating: 100%|██████████| 86/86 [01:32<00:00,  1.07s/it]\n"
     ]
    },
    {
     "name": "stdout",
     "output_type": "stream",
     "text": [
      "Validation F1 Score: 0.47\n"
     ]
    },
    {
     "name": "stderr",
     "output_type": "stream",
     "text": [
      "Epoch 11/15: 100%|██████████| 342/342 [11:06<00:00,  1.95s/it]\n",
      "Validating: 100%|██████████| 86/86 [01:32<00:00,  1.07s/it]\n"
     ]
    },
    {
     "name": "stdout",
     "output_type": "stream",
     "text": [
      "Validation F1 Score: 0.48\n"
     ]
    },
    {
     "name": "stderr",
     "output_type": "stream",
     "text": [
      "Epoch 12/15: 100%|██████████| 342/342 [11:06<00:00,  1.95s/it]\n",
      "Validating: 100%|██████████| 86/86 [01:31<00:00,  1.07s/it]\n"
     ]
    },
    {
     "name": "stdout",
     "output_type": "stream",
     "text": [
      "Validation F1 Score: 0.47\n"
     ]
    },
    {
     "name": "stderr",
     "output_type": "stream",
     "text": [
      "Epoch 13/15: 100%|██████████| 342/342 [11:06<00:00,  1.95s/it]\n",
      "Validating: 100%|██████████| 86/86 [01:31<00:00,  1.07s/it]\n"
     ]
    },
    {
     "name": "stdout",
     "output_type": "stream",
     "text": [
      "Validation F1 Score: 0.47\n"
     ]
    },
    {
     "name": "stderr",
     "output_type": "stream",
     "text": [
      "Epoch 14/15: 100%|██████████| 342/342 [11:05<00:00,  1.95s/it]\n",
      "Validating: 100%|██████████| 86/86 [01:32<00:00,  1.08s/it]\n"
     ]
    },
    {
     "name": "stdout",
     "output_type": "stream",
     "text": [
      "Validation F1 Score: 0.49\n"
     ]
    },
    {
     "name": "stderr",
     "output_type": "stream",
     "text": [
      "Epoch 15/15: 100%|██████████| 342/342 [11:05<00:00,  1.95s/it]\n",
      "Validating: 100%|██████████| 86/86 [01:31<00:00,  1.07s/it]"
     ]
    },
    {
     "name": "stdout",
     "output_type": "stream",
     "text": [
      "Validation F1 Score: 0.49\n"
     ]
    },
    {
     "name": "stderr",
     "output_type": "stream",
     "text": [
      "\n"
     ]
    }
   ],
   "source": [
    "# 학습\n",
    "model.train()\n",
    "#for epoch in range(CFG.epoch):\n",
    "for epoch in range(15):\n",
    "    for batch in tqdm(train_loader, desc=f'Epoch {epoch + 1}/{15}'):\n",
    "        optimizer.zero_grad()\n",
    "        input_ids = batch['input_ids'].to(device)\n",
    "        attention_mask = batch['attention_mask'].to(device)\n",
    "        labels = batch['labels'].to(device)\n",
    "        outputs = model(input_ids, attention_mask=attention_mask, labels=labels)\n",
    "        loss = outputs.loss\n",
    "        loss.backward()\n",
    "        optimizer.step()\n",
    "\n",
    "    # Validation\n",
    "    model.eval()\n",
    "    val_predictions = []\n",
    "    val_true_labels = []\n",
    "    with torch.no_grad():\n",
    "        for batch in tqdm(val_loader, desc='Validating'):\n",
    "            input_ids = batch['input_ids'].to(device)\n",
    "            attention_mask = batch['attention_mask'].to(device)\n",
    "            labels = batch['labels'].to(device)\n",
    "            outputs = model(input_ids, attention_mask=attention_mask)\n",
    "            _, preds = torch.max(outputs.logits, dim=1)\n",
    "            val_predictions.extend(preds.cpu().tolist())\n",
    "            val_true_labels.extend(labels.cpu().tolist())\n",
    "    \n",
    "    # 검증 결과 출력\n",
    "    val_f1 = f1_score(val_true_labels, val_predictions, average='macro')\n",
    "    print(f\"Validation F1 Score: {val_f1:.2f}\")"
   ]
  },
  {
   "cell_type": "markdown",
   "id": "ae93cd77",
   "metadata": {
    "papermill": {
     "duration": 0.554627,
     "end_time": "2024-10-13T18:29:43.229719",
     "exception": false,
     "start_time": "2024-10-13T18:29:42.675092",
     "status": "completed"
    },
    "tags": []
   },
   "source": [
    "# Inference"
   ]
  },
  {
   "cell_type": "code",
   "execution_count": 15,
   "id": "6997ceaf",
   "metadata": {
    "execution": {
     "iopub.execute_input": "2024-10-13T18:29:44.254719Z",
     "iopub.status.busy": "2024-10-13T18:29:44.254343Z",
     "iopub.status.idle": "2024-10-13T18:33:01.877709Z",
     "shell.execute_reply": "2024-10-13T18:33:01.876900Z"
    },
    "papermill": {
     "duration": 198.136726,
     "end_time": "2024-10-13T18:33:01.879967",
     "exception": false,
     "start_time": "2024-10-13T18:29:43.743241",
     "status": "completed"
    },
    "tags": []
   },
   "outputs": [
    {
     "name": "stderr",
     "output_type": "stream",
     "text": [
      "Testing: 100%|██████████| 183/183 [03:17<00:00,  1.08s/it]\n"
     ]
    }
   ],
   "source": [
    "model.eval()\n",
    "test_predictions = []\n",
    "\n",
    "with torch.no_grad():\n",
    "    for batch in tqdm(test_loader, desc='Testing'):\n",
    "        input_ids = batch['input_ids'].to(device)\n",
    "        attention_mask = batch['attention_mask'].to(device)\n",
    "        \n",
    "        # 모델을 통한 예측\n",
    "        outputs = model(input_ids, attention_mask=attention_mask)\n",
    "        _, preds = torch.max(outputs.logits, dim=1)\n",
    "        \n",
    "        # 예측 결과 저장\n",
    "        test_predictions.extend(preds.cpu().tolist())\n",
    "\n",
    "# test.csv 파일에서 'id' 값을 그대로 사용\n",
    "test_df = pd.read_csv('/kaggle/input/dacon-dataset/test.csv')  # test.csv에 'id' 칼럼이 존재한다고 가정\n",
    "\n",
    "# 라벨 디코딩\n",
    "label_decoder = {i: label for label, i in label_encoder.items()}\n",
    "decoded_predictions = [label_decoder[pred] for pred in test_predictions]\n",
    "\n"
   ]
  },
  {
   "cell_type": "code",
   "execution_count": 16,
   "id": "1148c5e3",
   "metadata": {
    "execution": {
     "iopub.execute_input": "2024-10-13T18:33:02.995276Z",
     "iopub.status.busy": "2024-10-13T18:33:02.994843Z",
     "iopub.status.idle": "2024-10-13T18:33:03.045140Z",
     "shell.execute_reply": "2024-10-13T18:33:03.043912Z"
    },
    "papermill": {
     "duration": 0.640896,
     "end_time": "2024-10-13T18:33:03.047538",
     "exception": false,
     "start_time": "2024-10-13T18:33:02.406642",
     "status": "completed"
    },
    "tags": []
   },
   "outputs": [
    {
     "name": "stdout",
     "output_type": "stream",
     "text": [
      "예측 결과가 submission.csv 파일로 저장되었습니다.\n"
     ]
    }
   ],
   "source": [
    "# 예측 결과를 데이터프레임으로 저장\n",
    "df_results = pd.DataFrame({\n",
    "    'ID': test_df['ID'],             # test.csv의 'id' 값을 그대로 사용\n",
    "    '분류': decoded_predictions  # 디코딩된 예측 라벨\n",
    "})\n",
    "\n",
    "# CSV 파일로 저장\n",
    "df_results.to_csv('/kaggle/working/submission.csv', index=False)\n",
    "\n",
    "print(\"예측 결과가 submission.csv 파일로 저장되었습니다.\")"
   ]
  },
  {
   "cell_type": "code",
   "execution_count": 17,
   "id": "e9a40305",
   "metadata": {
    "execution": {
     "iopub.execute_input": "2024-10-13T18:33:04.103681Z",
     "iopub.status.busy": "2024-10-13T18:33:04.103273Z",
     "iopub.status.idle": "2024-10-13T18:33:04.127486Z",
     "shell.execute_reply": "2024-10-13T18:33:04.126711Z"
    },
    "papermill": {
     "duration": 0.553348,
     "end_time": "2024-10-13T18:33:04.129689",
     "exception": false,
     "start_time": "2024-10-13T18:33:03.576341",
     "status": "completed"
    },
    "tags": []
   },
   "outputs": [],
   "source": [
    "df=pd.read_csv('/kaggle/working/submission.csv')"
   ]
  },
  {
   "cell_type": "code",
   "execution_count": 18,
   "id": "d3ab3b18",
   "metadata": {
    "execution": {
     "iopub.execute_input": "2024-10-13T18:33:05.219801Z",
     "iopub.status.busy": "2024-10-13T18:33:05.219416Z",
     "iopub.status.idle": "2024-10-13T18:33:05.233668Z",
     "shell.execute_reply": "2024-10-13T18:33:05.232666Z"
    },
    "papermill": {
     "duration": 0.579157,
     "end_time": "2024-10-13T18:33:05.236337",
     "exception": false,
     "start_time": "2024-10-13T18:33:04.657180",
     "status": "completed"
    },
    "tags": []
   },
   "outputs": [
    {
     "data": {
      "text/html": [
       "<div>\n",
       "<style scoped>\n",
       "    .dataframe tbody tr th:only-of-type {\n",
       "        vertical-align: middle;\n",
       "    }\n",
       "\n",
       "    .dataframe tbody tr th {\n",
       "        vertical-align: top;\n",
       "    }\n",
       "\n",
       "    .dataframe thead th {\n",
       "        text-align: right;\n",
       "    }\n",
       "</style>\n",
       "<table border=\"1\" class=\"dataframe\">\n",
       "  <thead>\n",
       "    <tr style=\"text-align: right;\">\n",
       "      <th></th>\n",
       "      <th>ID</th>\n",
       "      <th>분류</th>\n",
       "    </tr>\n",
       "  </thead>\n",
       "  <tbody>\n",
       "    <tr>\n",
       "      <th>0</th>\n",
       "      <td>TEST_00000</td>\n",
       "      <td>사회:의료_건강</td>\n",
       "    </tr>\n",
       "    <tr>\n",
       "      <th>1</th>\n",
       "      <td>TEST_00001</td>\n",
       "      <td>사회:사회일반</td>\n",
       "    </tr>\n",
       "    <tr>\n",
       "      <th>2</th>\n",
       "      <td>TEST_00002</td>\n",
       "      <td>정치:정치일반</td>\n",
       "    </tr>\n",
       "    <tr>\n",
       "      <th>3</th>\n",
       "      <td>TEST_00003</td>\n",
       "      <td>경제:취업_창업</td>\n",
       "    </tr>\n",
       "    <tr>\n",
       "      <th>4</th>\n",
       "      <td>TEST_00004</td>\n",
       "      <td>지역</td>\n",
       "    </tr>\n",
       "    <tr>\n",
       "      <th>5</th>\n",
       "      <td>TEST_00005</td>\n",
       "      <td>경제:반도체</td>\n",
       "    </tr>\n",
       "    <tr>\n",
       "      <th>6</th>\n",
       "      <td>TEST_00006</td>\n",
       "      <td>경제:경제일반</td>\n",
       "    </tr>\n",
       "    <tr>\n",
       "      <th>7</th>\n",
       "      <td>TEST_00007</td>\n",
       "      <td>국제</td>\n",
       "    </tr>\n",
       "    <tr>\n",
       "      <th>8</th>\n",
       "      <td>TEST_00008</td>\n",
       "      <td>사회:사건_사고</td>\n",
       "    </tr>\n",
       "    <tr>\n",
       "      <th>9</th>\n",
       "      <td>TEST_00009</td>\n",
       "      <td>지역</td>\n",
       "    </tr>\n",
       "    <tr>\n",
       "      <th>10</th>\n",
       "      <td>TEST_00010</td>\n",
       "      <td>경제:부동산</td>\n",
       "    </tr>\n",
       "    <tr>\n",
       "      <th>11</th>\n",
       "      <td>TEST_00011</td>\n",
       "      <td>정치:국회_정당</td>\n",
       "    </tr>\n",
       "    <tr>\n",
       "      <th>12</th>\n",
       "      <td>TEST_00012</td>\n",
       "      <td>지역</td>\n",
       "    </tr>\n",
       "    <tr>\n",
       "      <th>13</th>\n",
       "      <td>TEST_00013</td>\n",
       "      <td>문화:생활</td>\n",
       "    </tr>\n",
       "    <tr>\n",
       "      <th>14</th>\n",
       "      <td>TEST_00014</td>\n",
       "      <td>IT_과학:인터넷_SNS</td>\n",
       "    </tr>\n",
       "    <tr>\n",
       "      <th>15</th>\n",
       "      <td>TEST_00015</td>\n",
       "      <td>문화:음악</td>\n",
       "    </tr>\n",
       "    <tr>\n",
       "      <th>16</th>\n",
       "      <td>TEST_00016</td>\n",
       "      <td>사회:사회일반</td>\n",
       "    </tr>\n",
       "    <tr>\n",
       "      <th>17</th>\n",
       "      <td>TEST_00017</td>\n",
       "      <td>경제:경제일반</td>\n",
       "    </tr>\n",
       "    <tr>\n",
       "      <th>18</th>\n",
       "      <td>TEST_00018</td>\n",
       "      <td>지역</td>\n",
       "    </tr>\n",
       "    <tr>\n",
       "      <th>19</th>\n",
       "      <td>TEST_00019</td>\n",
       "      <td>사회:의료_건강</td>\n",
       "    </tr>\n",
       "    <tr>\n",
       "      <th>20</th>\n",
       "      <td>TEST_00020</td>\n",
       "      <td>문화:문화일반</td>\n",
       "    </tr>\n",
       "    <tr>\n",
       "      <th>21</th>\n",
       "      <td>TEST_00021</td>\n",
       "      <td>지역</td>\n",
       "    </tr>\n",
       "    <tr>\n",
       "      <th>22</th>\n",
       "      <td>TEST_00022</td>\n",
       "      <td>지역</td>\n",
       "    </tr>\n",
       "    <tr>\n",
       "      <th>23</th>\n",
       "      <td>TEST_00023</td>\n",
       "      <td>지역</td>\n",
       "    </tr>\n",
       "    <tr>\n",
       "      <th>24</th>\n",
       "      <td>TEST_00024</td>\n",
       "      <td>사회:사회일반</td>\n",
       "    </tr>\n",
       "    <tr>\n",
       "      <th>25</th>\n",
       "      <td>TEST_00025</td>\n",
       "      <td>지역</td>\n",
       "    </tr>\n",
       "    <tr>\n",
       "      <th>26</th>\n",
       "      <td>TEST_00026</td>\n",
       "      <td>지역</td>\n",
       "    </tr>\n",
       "    <tr>\n",
       "      <th>27</th>\n",
       "      <td>TEST_00027</td>\n",
       "      <td>IT_과학:IT_과학일반</td>\n",
       "    </tr>\n",
       "    <tr>\n",
       "      <th>28</th>\n",
       "      <td>TEST_00028</td>\n",
       "      <td>스포츠:골프</td>\n",
       "    </tr>\n",
       "    <tr>\n",
       "      <th>29</th>\n",
       "      <td>TEST_00029</td>\n",
       "      <td>사회:사건_사고</td>\n",
       "    </tr>\n",
       "    <tr>\n",
       "      <th>30</th>\n",
       "      <td>TEST_00030</td>\n",
       "      <td>지역</td>\n",
       "    </tr>\n",
       "    <tr>\n",
       "      <th>31</th>\n",
       "      <td>TEST_00031</td>\n",
       "      <td>지역</td>\n",
       "    </tr>\n",
       "    <tr>\n",
       "      <th>32</th>\n",
       "      <td>TEST_00032</td>\n",
       "      <td>지역</td>\n",
       "    </tr>\n",
       "    <tr>\n",
       "      <th>33</th>\n",
       "      <td>TEST_00033</td>\n",
       "      <td>경제:부동산</td>\n",
       "    </tr>\n",
       "    <tr>\n",
       "      <th>34</th>\n",
       "      <td>TEST_00034</td>\n",
       "      <td>지역</td>\n",
       "    </tr>\n",
       "    <tr>\n",
       "      <th>35</th>\n",
       "      <td>TEST_00035</td>\n",
       "      <td>지역</td>\n",
       "    </tr>\n",
       "    <tr>\n",
       "      <th>36</th>\n",
       "      <td>TEST_00036</td>\n",
       "      <td>지역</td>\n",
       "    </tr>\n",
       "    <tr>\n",
       "      <th>37</th>\n",
       "      <td>TEST_00037</td>\n",
       "      <td>문화:전시_공연</td>\n",
       "    </tr>\n",
       "    <tr>\n",
       "      <th>38</th>\n",
       "      <td>TEST_00038</td>\n",
       "      <td>경제:취업_창업</td>\n",
       "    </tr>\n",
       "    <tr>\n",
       "      <th>39</th>\n",
       "      <td>TEST_00039</td>\n",
       "      <td>문화:방송_연예</td>\n",
       "    </tr>\n",
       "    <tr>\n",
       "      <th>40</th>\n",
       "      <td>TEST_00040</td>\n",
       "      <td>경제:부동산</td>\n",
       "    </tr>\n",
       "    <tr>\n",
       "      <th>41</th>\n",
       "      <td>TEST_00041</td>\n",
       "      <td>지역</td>\n",
       "    </tr>\n",
       "    <tr>\n",
       "      <th>42</th>\n",
       "      <td>TEST_00042</td>\n",
       "      <td>지역</td>\n",
       "    </tr>\n",
       "    <tr>\n",
       "      <th>43</th>\n",
       "      <td>TEST_00043</td>\n",
       "      <td>지역</td>\n",
       "    </tr>\n",
       "    <tr>\n",
       "      <th>44</th>\n",
       "      <td>TEST_00044</td>\n",
       "      <td>지역</td>\n",
       "    </tr>\n",
       "    <tr>\n",
       "      <th>45</th>\n",
       "      <td>TEST_00045</td>\n",
       "      <td>사회:사건_사고</td>\n",
       "    </tr>\n",
       "    <tr>\n",
       "      <th>46</th>\n",
       "      <td>TEST_00046</td>\n",
       "      <td>사회:장애인</td>\n",
       "    </tr>\n",
       "    <tr>\n",
       "      <th>47</th>\n",
       "      <td>TEST_00047</td>\n",
       "      <td>지역</td>\n",
       "    </tr>\n",
       "    <tr>\n",
       "      <th>48</th>\n",
       "      <td>TEST_00048</td>\n",
       "      <td>스포츠:올림픽_아시안게임</td>\n",
       "    </tr>\n",
       "    <tr>\n",
       "      <th>49</th>\n",
       "      <td>TEST_00049</td>\n",
       "      <td>지역</td>\n",
       "    </tr>\n",
       "  </tbody>\n",
       "</table>\n",
       "</div>"
      ],
      "text/plain": [
       "            ID             분류\n",
       "0   TEST_00000       사회:의료_건강\n",
       "1   TEST_00001        사회:사회일반\n",
       "2   TEST_00002        정치:정치일반\n",
       "3   TEST_00003       경제:취업_창업\n",
       "4   TEST_00004             지역\n",
       "5   TEST_00005         경제:반도체\n",
       "6   TEST_00006        경제:경제일반\n",
       "7   TEST_00007             국제\n",
       "8   TEST_00008       사회:사건_사고\n",
       "9   TEST_00009             지역\n",
       "10  TEST_00010         경제:부동산\n",
       "11  TEST_00011       정치:국회_정당\n",
       "12  TEST_00012             지역\n",
       "13  TEST_00013          문화:생활\n",
       "14  TEST_00014  IT_과학:인터넷_SNS\n",
       "15  TEST_00015          문화:음악\n",
       "16  TEST_00016        사회:사회일반\n",
       "17  TEST_00017        경제:경제일반\n",
       "18  TEST_00018             지역\n",
       "19  TEST_00019       사회:의료_건강\n",
       "20  TEST_00020        문화:문화일반\n",
       "21  TEST_00021             지역\n",
       "22  TEST_00022             지역\n",
       "23  TEST_00023             지역\n",
       "24  TEST_00024        사회:사회일반\n",
       "25  TEST_00025             지역\n",
       "26  TEST_00026             지역\n",
       "27  TEST_00027  IT_과학:IT_과학일반\n",
       "28  TEST_00028         스포츠:골프\n",
       "29  TEST_00029       사회:사건_사고\n",
       "30  TEST_00030             지역\n",
       "31  TEST_00031             지역\n",
       "32  TEST_00032             지역\n",
       "33  TEST_00033         경제:부동산\n",
       "34  TEST_00034             지역\n",
       "35  TEST_00035             지역\n",
       "36  TEST_00036             지역\n",
       "37  TEST_00037       문화:전시_공연\n",
       "38  TEST_00038       경제:취업_창업\n",
       "39  TEST_00039       문화:방송_연예\n",
       "40  TEST_00040         경제:부동산\n",
       "41  TEST_00041             지역\n",
       "42  TEST_00042             지역\n",
       "43  TEST_00043             지역\n",
       "44  TEST_00044             지역\n",
       "45  TEST_00045       사회:사건_사고\n",
       "46  TEST_00046         사회:장애인\n",
       "47  TEST_00047             지역\n",
       "48  TEST_00048  스포츠:올림픽_아시안게임\n",
       "49  TEST_00049             지역"
      ]
     },
     "execution_count": 18,
     "metadata": {},
     "output_type": "execute_result"
    }
   ],
   "source": [
    "df.head(50)"
   ]
  }
 ],
 "metadata": {
  "kaggle": {
   "accelerator": "gpu",
   "dataSources": [
    {
     "datasetId": 5773582,
     "sourceId": 9489760,
     "sourceType": "datasetVersion"
    },
    {
     "datasetId": 5773762,
     "sourceId": 9490030,
     "sourceType": "datasetVersion"
    },
    {
     "datasetId": 5846609,
     "sourceId": 9586995,
     "sourceType": "datasetVersion"
    },
    {
     "datasetId": 5863841,
     "sourceId": 9610079,
     "sourceType": "datasetVersion"
    },
    {
     "datasetId": 5867262,
     "sourceId": 9614670,
     "sourceType": "datasetVersion"
    }
   ],
   "dockerImageVersionId": 30776,
   "isGpuEnabled": true,
   "isInternetEnabled": true,
   "language": "python",
   "sourceType": "notebook"
  },
  "kernelspec": {
   "display_name": "Python 3",
   "language": "python",
   "name": "python3"
  },
  "language_info": {
   "codemirror_mode": {
    "name": "ipython",
    "version": 3
   },
   "file_extension": ".py",
   "mimetype": "text/x-python",
   "name": "python",
   "nbconvert_exporter": "python",
   "pygments_lexer": "ipython3",
   "version": "3.10.14"
  },
  "papermill": {
   "default_parameters": {},
   "duration": 12015.552223,
   "end_time": "2024-10-13T18:33:08.848691",
   "environment_variables": {},
   "exception": null,
   "input_path": "__notebook__.ipynb",
   "output_path": "__notebook__.ipynb",
   "parameters": {},
   "start_time": "2024-10-13T15:12:53.296468",
   "version": "2.6.0"
  },
  "widgets": {
   "application/vnd.jupyter.widget-state+json": {
    "state": {
     "0d401bd11496404a9da0310431f6ae32": {
      "model_module": "@jupyter-widgets/controls",
      "model_module_version": "1.5.0",
      "model_name": "ProgressStyleModel",
      "state": {
       "_model_module": "@jupyter-widgets/controls",
       "_model_module_version": "1.5.0",
       "_model_name": "ProgressStyleModel",
       "_view_count": null,
       "_view_module": "@jupyter-widgets/base",
       "_view_module_version": "1.2.0",
       "_view_name": "StyleView",
       "bar_color": null,
       "description_width": ""
      }
     },
     "0d4427a2158d4eb081b2c2a0c2ed0bd0": {
      "model_module": "@jupyter-widgets/controls",
      "model_module_version": "1.5.0",
      "model_name": "HTMLModel",
      "state": {
       "_dom_classes": [],
       "_model_module": "@jupyter-widgets/controls",
       "_model_module_version": "1.5.0",
       "_model_name": "HTMLModel",
       "_view_count": null,
       "_view_module": "@jupyter-widgets/controls",
       "_view_module_version": "1.5.0",
       "_view_name": "HTMLView",
       "description": "",
       "description_tooltip": null,
       "layout": "IPY_MODEL_c5bb297983ae468fac60e94180bee1fc",
       "placeholder": "​",
       "style": "IPY_MODEL_8a9833e949a749b69d35ccb1db9b8bd6",
       "value": " 426/426 [00:00&lt;00:00, 35.0kB/s]"
      }
     },
     "1ce9a06284424cb09ad23da1f0ad0a91": {
      "model_module": "@jupyter-widgets/controls",
      "model_module_version": "1.5.0",
      "model_name": "HTMLModel",
      "state": {
       "_dom_classes": [],
       "_model_module": "@jupyter-widgets/controls",
       "_model_module_version": "1.5.0",
       "_model_name": "HTMLModel",
       "_view_count": null,
       "_view_module": "@jupyter-widgets/controls",
       "_view_module_version": "1.5.0",
       "_view_name": "HTMLView",
       "description": "",
       "description_tooltip": null,
       "layout": "IPY_MODEL_6052298e30354fe0b88c6a67ffdcf682",
       "placeholder": "​",
       "style": "IPY_MODEL_9ef12cb636e744f18f994d43bac58d50",
       "value": "tokenizer_config.json: 100%"
      }
     },
     "2626bafcd5db416eaecfea74a5a3eba4": {
      "model_module": "@jupyter-widgets/controls",
      "model_module_version": "1.5.0",
      "model_name": "HTMLModel",
      "state": {
       "_dom_classes": [],
       "_model_module": "@jupyter-widgets/controls",
       "_model_module_version": "1.5.0",
       "_model_name": "HTMLModel",
       "_view_count": null,
       "_view_module": "@jupyter-widgets/controls",
       "_view_module_version": "1.5.0",
       "_view_name": "HTMLView",
       "description": "",
       "description_tooltip": null,
       "layout": "IPY_MODEL_7f254a717ba54b91a4dd7893f6f6007a",
       "placeholder": "​",
       "style": "IPY_MODEL_9527431522e24c0491528324b20ce3b3",
       "value": " 369M/369M [00:01&lt;00:00, 244MB/s]"
      }
     },
     "34d0acb25717408db79dd3f09de43100": {
      "model_module": "@jupyter-widgets/base",
      "model_module_version": "1.2.0",
      "model_name": "LayoutModel",
      "state": {
       "_model_module": "@jupyter-widgets/base",
       "_model_module_version": "1.2.0",
       "_model_name": "LayoutModel",
       "_view_count": null,
       "_view_module": "@jupyter-widgets/base",
       "_view_module_version": "1.2.0",
       "_view_name": "LayoutView",
       "align_content": null,
       "align_items": null,
       "align_self": null,
       "border": null,
       "bottom": null,
       "display": null,
       "flex": null,
       "flex_flow": null,
       "grid_area": null,
       "grid_auto_columns": null,
       "grid_auto_flow": null,
       "grid_auto_rows": null,
       "grid_column": null,
       "grid_gap": null,
       "grid_row": null,
       "grid_template_areas": null,
       "grid_template_columns": null,
       "grid_template_rows": null,
       "height": null,
       "justify_content": null,
       "justify_items": null,
       "left": null,
       "margin": null,
       "max_height": null,
       "max_width": null,
       "min_height": null,
       "min_width": null,
       "object_fit": null,
       "object_position": null,
       "order": null,
       "overflow": null,
       "overflow_x": null,
       "overflow_y": null,
       "padding": null,
       "right": null,
       "top": null,
       "visibility": null,
       "width": null
      }
     },
     "358884a208af4b29a31c278699f62f42": {
      "model_module": "@jupyter-widgets/base",
      "model_module_version": "1.2.0",
      "model_name": "LayoutModel",
      "state": {
       "_model_module": "@jupyter-widgets/base",
       "_model_module_version": "1.2.0",
       "_model_name": "LayoutModel",
       "_view_count": null,
       "_view_module": "@jupyter-widgets/base",
       "_view_module_version": "1.2.0",
       "_view_name": "LayoutView",
       "align_content": null,
       "align_items": null,
       "align_self": null,
       "border": null,
       "bottom": null,
       "display": null,
       "flex": null,
       "flex_flow": null,
       "grid_area": null,
       "grid_auto_columns": null,
       "grid_auto_flow": null,
       "grid_auto_rows": null,
       "grid_column": null,
       "grid_gap": null,
       "grid_row": null,
       "grid_template_areas": null,
       "grid_template_columns": null,
       "grid_template_rows": null,
       "height": null,
       "justify_content": null,
       "justify_items": null,
       "left": null,
       "margin": null,
       "max_height": null,
       "max_width": null,
       "min_height": null,
       "min_width": null,
       "object_fit": null,
       "object_position": null,
       "order": null,
       "overflow": null,
       "overflow_x": null,
       "overflow_y": null,
       "padding": null,
       "right": null,
       "top": null,
       "visibility": null,
       "width": null
      }
     },
     "35bb8e25653444a19f1d8311d5bd16ac": {
      "model_module": "@jupyter-widgets/base",
      "model_module_version": "1.2.0",
      "model_name": "LayoutModel",
      "state": {
       "_model_module": "@jupyter-widgets/base",
       "_model_module_version": "1.2.0",
       "_model_name": "LayoutModel",
       "_view_count": null,
       "_view_module": "@jupyter-widgets/base",
       "_view_module_version": "1.2.0",
       "_view_name": "LayoutView",
       "align_content": null,
       "align_items": null,
       "align_self": null,
       "border": null,
       "bottom": null,
       "display": null,
       "flex": null,
       "flex_flow": null,
       "grid_area": null,
       "grid_auto_columns": null,
       "grid_auto_flow": null,
       "grid_auto_rows": null,
       "grid_column": null,
       "grid_gap": null,
       "grid_row": null,
       "grid_template_areas": null,
       "grid_template_columns": null,
       "grid_template_rows": null,
       "height": null,
       "justify_content": null,
       "justify_items": null,
       "left": null,
       "margin": null,
       "max_height": null,
       "max_width": null,
       "min_height": null,
       "min_width": null,
       "object_fit": null,
       "object_position": null,
       "order": null,
       "overflow": null,
       "overflow_x": null,
       "overflow_y": null,
       "padding": null,
       "right": null,
       "top": null,
       "visibility": null,
       "width": null
      }
     },
     "41de4d11af52475fa88fe69e248eccb7": {
      "model_module": "@jupyter-widgets/controls",
      "model_module_version": "1.5.0",
      "model_name": "ProgressStyleModel",
      "state": {
       "_model_module": "@jupyter-widgets/controls",
       "_model_module_version": "1.5.0",
       "_model_name": "ProgressStyleModel",
       "_view_count": null,
       "_view_module": "@jupyter-widgets/base",
       "_view_module_version": "1.2.0",
       "_view_name": "StyleView",
       "bar_color": null,
       "description_width": ""
      }
     },
     "4306bd0b8b3d46229058866c56181a91": {
      "model_module": "@jupyter-widgets/controls",
      "model_module_version": "1.5.0",
      "model_name": "HTMLModel",
      "state": {
       "_dom_classes": [],
       "_model_module": "@jupyter-widgets/controls",
       "_model_module_version": "1.5.0",
       "_model_name": "HTMLModel",
       "_view_count": null,
       "_view_module": "@jupyter-widgets/controls",
       "_view_module_version": "1.5.0",
       "_view_name": "HTMLView",
       "description": "",
       "description_tooltip": null,
       "layout": "IPY_MODEL_95f339a70d7a4799926d13c3fee4c8f6",
       "placeholder": "​",
       "style": "IPY_MODEL_b6970b4712d34be4820639c63d4409a2",
       "value": " 263/263 [00:00&lt;00:00, 16.6kB/s]"
      }
     },
     "4c5b859f6f664564bd78c07b09038d74": {
      "model_module": "@jupyter-widgets/base",
      "model_module_version": "1.2.0",
      "model_name": "LayoutModel",
      "state": {
       "_model_module": "@jupyter-widgets/base",
       "_model_module_version": "1.2.0",
       "_model_name": "LayoutModel",
       "_view_count": null,
       "_view_module": "@jupyter-widgets/base",
       "_view_module_version": "1.2.0",
       "_view_name": "LayoutView",
       "align_content": null,
       "align_items": null,
       "align_self": null,
       "border": null,
       "bottom": null,
       "display": null,
       "flex": null,
       "flex_flow": null,
       "grid_area": null,
       "grid_auto_columns": null,
       "grid_auto_flow": null,
       "grid_auto_rows": null,
       "grid_column": null,
       "grid_gap": null,
       "grid_row": null,
       "grid_template_areas": null,
       "grid_template_columns": null,
       "grid_template_rows": null,
       "height": null,
       "justify_content": null,
       "justify_items": null,
       "left": null,
       "margin": null,
       "max_height": null,
       "max_width": null,
       "min_height": null,
       "min_width": null,
       "object_fit": null,
       "object_position": null,
       "order": null,
       "overflow": null,
       "overflow_x": null,
       "overflow_y": null,
       "padding": null,
       "right": null,
       "top": null,
       "visibility": null,
       "width": null
      }
     },
     "4c7c988d8cb7480b96c645034384b0d8": {
      "model_module": "@jupyter-widgets/controls",
      "model_module_version": "1.5.0",
      "model_name": "HBoxModel",
      "state": {
       "_dom_classes": [],
       "_model_module": "@jupyter-widgets/controls",
       "_model_module_version": "1.5.0",
       "_model_name": "HBoxModel",
       "_view_count": null,
       "_view_module": "@jupyter-widgets/controls",
       "_view_module_version": "1.5.0",
       "_view_name": "HBoxView",
       "box_style": "",
       "children": [
        "IPY_MODEL_b243a8768e374cc3b07958551171d143",
        "IPY_MODEL_4e96398837874ce180842507377d4544",
        "IPY_MODEL_cb8255cb10ba4c1f931ed17e2fc22577"
       ],
       "layout": "IPY_MODEL_f4771064cdfb4cb3994fe8c03e0e071e"
      }
     },
     "4e630699a71b4a7b9bbf32e2a2ffd718": {
      "model_module": "@jupyter-widgets/base",
      "model_module_version": "1.2.0",
      "model_name": "LayoutModel",
      "state": {
       "_model_module": "@jupyter-widgets/base",
       "_model_module_version": "1.2.0",
       "_model_name": "LayoutModel",
       "_view_count": null,
       "_view_module": "@jupyter-widgets/base",
       "_view_module_version": "1.2.0",
       "_view_name": "LayoutView",
       "align_content": null,
       "align_items": null,
       "align_self": null,
       "border": null,
       "bottom": null,
       "display": null,
       "flex": null,
       "flex_flow": null,
       "grid_area": null,
       "grid_auto_columns": null,
       "grid_auto_flow": null,
       "grid_auto_rows": null,
       "grid_column": null,
       "grid_gap": null,
       "grid_row": null,
       "grid_template_areas": null,
       "grid_template_columns": null,
       "grid_template_rows": null,
       "height": null,
       "justify_content": null,
       "justify_items": null,
       "left": null,
       "margin": null,
       "max_height": null,
       "max_width": null,
       "min_height": null,
       "min_width": null,
       "object_fit": null,
       "object_position": null,
       "order": null,
       "overflow": null,
       "overflow_x": null,
       "overflow_y": null,
       "padding": null,
       "right": null,
       "top": null,
       "visibility": null,
       "width": null
      }
     },
     "4e96398837874ce180842507377d4544": {
      "model_module": "@jupyter-widgets/controls",
      "model_module_version": "1.5.0",
      "model_name": "FloatProgressModel",
      "state": {
       "_dom_classes": [],
       "_model_module": "@jupyter-widgets/controls",
       "_model_module_version": "1.5.0",
       "_model_name": "FloatProgressModel",
       "_view_count": null,
       "_view_module": "@jupyter-widgets/controls",
       "_view_module_version": "1.5.0",
       "_view_name": "ProgressView",
       "bar_style": "success",
       "description": "",
       "description_tooltip": null,
       "layout": "IPY_MODEL_631e3212c61541f28ba760b4124cb2ad",
       "max": 77779.0,
       "min": 0.0,
       "orientation": "horizontal",
       "style": "IPY_MODEL_41de4d11af52475fa88fe69e248eccb7",
       "value": 77779.0
      }
     },
     "5e929b91f35f4ce58047f4e1d7a9cbec": {
      "model_module": "@jupyter-widgets/base",
      "model_module_version": "1.2.0",
      "model_name": "LayoutModel",
      "state": {
       "_model_module": "@jupyter-widgets/base",
       "_model_module_version": "1.2.0",
       "_model_name": "LayoutModel",
       "_view_count": null,
       "_view_module": "@jupyter-widgets/base",
       "_view_module_version": "1.2.0",
       "_view_name": "LayoutView",
       "align_content": null,
       "align_items": null,
       "align_self": null,
       "border": null,
       "bottom": null,
       "display": null,
       "flex": null,
       "flex_flow": null,
       "grid_area": null,
       "grid_auto_columns": null,
       "grid_auto_flow": null,
       "grid_auto_rows": null,
       "grid_column": null,
       "grid_gap": null,
       "grid_row": null,
       "grid_template_areas": null,
       "grid_template_columns": null,
       "grid_template_rows": null,
       "height": null,
       "justify_content": null,
       "justify_items": null,
       "left": null,
       "margin": null,
       "max_height": null,
       "max_width": null,
       "min_height": null,
       "min_width": null,
       "object_fit": null,
       "object_position": null,
       "order": null,
       "overflow": null,
       "overflow_x": null,
       "overflow_y": null,
       "padding": null,
       "right": null,
       "top": null,
       "visibility": null,
       "width": null
      }
     },
     "6052298e30354fe0b88c6a67ffdcf682": {
      "model_module": "@jupyter-widgets/base",
      "model_module_version": "1.2.0",
      "model_name": "LayoutModel",
      "state": {
       "_model_module": "@jupyter-widgets/base",
       "_model_module_version": "1.2.0",
       "_model_name": "LayoutModel",
       "_view_count": null,
       "_view_module": "@jupyter-widgets/base",
       "_view_module_version": "1.2.0",
       "_view_name": "LayoutView",
       "align_content": null,
       "align_items": null,
       "align_self": null,
       "border": null,
       "bottom": null,
       "display": null,
       "flex": null,
       "flex_flow": null,
       "grid_area": null,
       "grid_auto_columns": null,
       "grid_auto_flow": null,
       "grid_auto_rows": null,
       "grid_column": null,
       "grid_gap": null,
       "grid_row": null,
       "grid_template_areas": null,
       "grid_template_columns": null,
       "grid_template_rows": null,
       "height": null,
       "justify_content": null,
       "justify_items": null,
       "left": null,
       "margin": null,
       "max_height": null,
       "max_width": null,
       "min_height": null,
       "min_width": null,
       "object_fit": null,
       "object_position": null,
       "order": null,
       "overflow": null,
       "overflow_x": null,
       "overflow_y": null,
       "padding": null,
       "right": null,
       "top": null,
       "visibility": null,
       "width": null
      }
     },
     "631e3212c61541f28ba760b4124cb2ad": {
      "model_module": "@jupyter-widgets/base",
      "model_module_version": "1.2.0",
      "model_name": "LayoutModel",
      "state": {
       "_model_module": "@jupyter-widgets/base",
       "_model_module_version": "1.2.0",
       "_model_name": "LayoutModel",
       "_view_count": null,
       "_view_module": "@jupyter-widgets/base",
       "_view_module_version": "1.2.0",
       "_view_name": "LayoutView",
       "align_content": null,
       "align_items": null,
       "align_self": null,
       "border": null,
       "bottom": null,
       "display": null,
       "flex": null,
       "flex_flow": null,
       "grid_area": null,
       "grid_auto_columns": null,
       "grid_auto_flow": null,
       "grid_auto_rows": null,
       "grid_column": null,
       "grid_gap": null,
       "grid_row": null,
       "grid_template_areas": null,
       "grid_template_columns": null,
       "grid_template_rows": null,
       "height": null,
       "justify_content": null,
       "justify_items": null,
       "left": null,
       "margin": null,
       "max_height": null,
       "max_width": null,
       "min_height": null,
       "min_width": null,
       "object_fit": null,
       "object_position": null,
       "order": null,
       "overflow": null,
       "overflow_x": null,
       "overflow_y": null,
       "padding": null,
       "right": null,
       "top": null,
       "visibility": null,
       "width": null
      }
     },
     "66152052b9cd4666afef3c2f3aa4c583": {
      "model_module": "@jupyter-widgets/controls",
      "model_module_version": "1.5.0",
      "model_name": "HTMLModel",
      "state": {
       "_dom_classes": [],
       "_model_module": "@jupyter-widgets/controls",
       "_model_module_version": "1.5.0",
       "_model_name": "HTMLModel",
       "_view_count": null,
       "_view_module": "@jupyter-widgets/controls",
       "_view_module_version": "1.5.0",
       "_view_name": "HTMLView",
       "description": "",
       "description_tooltip": null,
       "layout": "IPY_MODEL_69eb1519f886430a95714a97450656f8",
       "placeholder": "​",
       "style": "IPY_MODEL_b38047cfe60d46d284a21f650bcbcd4c",
       "value": "model.safetensors: 100%"
      }
     },
     "6767c553d94f409989f1035aaa010b3a": {
      "model_module": "@jupyter-widgets/controls",
      "model_module_version": "1.5.0",
      "model_name": "HBoxModel",
      "state": {
       "_dom_classes": [],
       "_model_module": "@jupyter-widgets/controls",
       "_model_module_version": "1.5.0",
       "_model_name": "HBoxModel",
       "_view_count": null,
       "_view_module": "@jupyter-widgets/controls",
       "_view_module_version": "1.5.0",
       "_view_name": "HBoxView",
       "box_style": "",
       "children": [
        "IPY_MODEL_ec321fc3d98b4131a9705c2586b4d062",
        "IPY_MODEL_c4596f9e99cf4460becdd2803f0834d3",
        "IPY_MODEL_0d4427a2158d4eb081b2c2a0c2ed0bd0"
       ],
       "layout": "IPY_MODEL_9fec252d717a42ba8cdf22e69e22c6a4"
      }
     },
     "68e069ac6b214f2c9b669acd398d9bfb": {
      "model_module": "@jupyter-widgets/controls",
      "model_module_version": "1.5.0",
      "model_name": "ProgressStyleModel",
      "state": {
       "_model_module": "@jupyter-widgets/controls",
       "_model_module_version": "1.5.0",
       "_model_name": "ProgressStyleModel",
       "_view_count": null,
       "_view_module": "@jupyter-widgets/base",
       "_view_module_version": "1.2.0",
       "_view_name": "StyleView",
       "bar_color": null,
       "description_width": ""
      }
     },
     "69eb1519f886430a95714a97450656f8": {
      "model_module": "@jupyter-widgets/base",
      "model_module_version": "1.2.0",
      "model_name": "LayoutModel",
      "state": {
       "_model_module": "@jupyter-widgets/base",
       "_model_module_version": "1.2.0",
       "_model_name": "LayoutModel",
       "_view_count": null,
       "_view_module": "@jupyter-widgets/base",
       "_view_module_version": "1.2.0",
       "_view_name": "LayoutView",
       "align_content": null,
       "align_items": null,
       "align_self": null,
       "border": null,
       "bottom": null,
       "display": null,
       "flex": null,
       "flex_flow": null,
       "grid_area": null,
       "grid_auto_columns": null,
       "grid_auto_flow": null,
       "grid_auto_rows": null,
       "grid_column": null,
       "grid_gap": null,
       "grid_row": null,
       "grid_template_areas": null,
       "grid_template_columns": null,
       "grid_template_rows": null,
       "height": null,
       "justify_content": null,
       "justify_items": null,
       "left": null,
       "margin": null,
       "max_height": null,
       "max_width": null,
       "min_height": null,
       "min_width": null,
       "object_fit": null,
       "object_position": null,
       "order": null,
       "overflow": null,
       "overflow_x": null,
       "overflow_y": null,
       "padding": null,
       "right": null,
       "top": null,
       "visibility": null,
       "width": null
      }
     },
     "7f254a717ba54b91a4dd7893f6f6007a": {
      "model_module": "@jupyter-widgets/base",
      "model_module_version": "1.2.0",
      "model_name": "LayoutModel",
      "state": {
       "_model_module": "@jupyter-widgets/base",
       "_model_module_version": "1.2.0",
       "_model_name": "LayoutModel",
       "_view_count": null,
       "_view_module": "@jupyter-widgets/base",
       "_view_module_version": "1.2.0",
       "_view_name": "LayoutView",
       "align_content": null,
       "align_items": null,
       "align_self": null,
       "border": null,
       "bottom": null,
       "display": null,
       "flex": null,
       "flex_flow": null,
       "grid_area": null,
       "grid_auto_columns": null,
       "grid_auto_flow": null,
       "grid_auto_rows": null,
       "grid_column": null,
       "grid_gap": null,
       "grid_row": null,
       "grid_template_areas": null,
       "grid_template_columns": null,
       "grid_template_rows": null,
       "height": null,
       "justify_content": null,
       "justify_items": null,
       "left": null,
       "margin": null,
       "max_height": null,
       "max_width": null,
       "min_height": null,
       "min_width": null,
       "object_fit": null,
       "object_position": null,
       "order": null,
       "overflow": null,
       "overflow_x": null,
       "overflow_y": null,
       "padding": null,
       "right": null,
       "top": null,
       "visibility": null,
       "width": null
      }
     },
     "866e6d8e0dd14b62a71c227bb49f5668": {
      "model_module": "@jupyter-widgets/controls",
      "model_module_version": "1.5.0",
      "model_name": "DescriptionStyleModel",
      "state": {
       "_model_module": "@jupyter-widgets/controls",
       "_model_module_version": "1.5.0",
       "_model_name": "DescriptionStyleModel",
       "_view_count": null,
       "_view_module": "@jupyter-widgets/base",
       "_view_module_version": "1.2.0",
       "_view_name": "StyleView",
       "description_width": ""
      }
     },
     "8a9833e949a749b69d35ccb1db9b8bd6": {
      "model_module": "@jupyter-widgets/controls",
      "model_module_version": "1.5.0",
      "model_name": "DescriptionStyleModel",
      "state": {
       "_model_module": "@jupyter-widgets/controls",
       "_model_module_version": "1.5.0",
       "_model_name": "DescriptionStyleModel",
       "_view_count": null,
       "_view_module": "@jupyter-widgets/base",
       "_view_module_version": "1.2.0",
       "_view_name": "StyleView",
       "description_width": ""
      }
     },
     "9527431522e24c0491528324b20ce3b3": {
      "model_module": "@jupyter-widgets/controls",
      "model_module_version": "1.5.0",
      "model_name": "DescriptionStyleModel",
      "state": {
       "_model_module": "@jupyter-widgets/controls",
       "_model_module_version": "1.5.0",
       "_model_name": "DescriptionStyleModel",
       "_view_count": null,
       "_view_module": "@jupyter-widgets/base",
       "_view_module_version": "1.2.0",
       "_view_name": "StyleView",
       "description_width": ""
      }
     },
     "95f339a70d7a4799926d13c3fee4c8f6": {
      "model_module": "@jupyter-widgets/base",
      "model_module_version": "1.2.0",
      "model_name": "LayoutModel",
      "state": {
       "_model_module": "@jupyter-widgets/base",
       "_model_module_version": "1.2.0",
       "_model_name": "LayoutModel",
       "_view_count": null,
       "_view_module": "@jupyter-widgets/base",
       "_view_module_version": "1.2.0",
       "_view_name": "LayoutView",
       "align_content": null,
       "align_items": null,
       "align_self": null,
       "border": null,
       "bottom": null,
       "display": null,
       "flex": null,
       "flex_flow": null,
       "grid_area": null,
       "grid_auto_columns": null,
       "grid_auto_flow": null,
       "grid_auto_rows": null,
       "grid_column": null,
       "grid_gap": null,
       "grid_row": null,
       "grid_template_areas": null,
       "grid_template_columns": null,
       "grid_template_rows": null,
       "height": null,
       "justify_content": null,
       "justify_items": null,
       "left": null,
       "margin": null,
       "max_height": null,
       "max_width": null,
       "min_height": null,
       "min_width": null,
       "object_fit": null,
       "object_position": null,
       "order": null,
       "overflow": null,
       "overflow_x": null,
       "overflow_y": null,
       "padding": null,
       "right": null,
       "top": null,
       "visibility": null,
       "width": null
      }
     },
     "9ef12cb636e744f18f994d43bac58d50": {
      "model_module": "@jupyter-widgets/controls",
      "model_module_version": "1.5.0",
      "model_name": "DescriptionStyleModel",
      "state": {
       "_model_module": "@jupyter-widgets/controls",
       "_model_module_version": "1.5.0",
       "_model_name": "DescriptionStyleModel",
       "_view_count": null,
       "_view_module": "@jupyter-widgets/base",
       "_view_module_version": "1.2.0",
       "_view_name": "StyleView",
       "description_width": ""
      }
     },
     "9fec252d717a42ba8cdf22e69e22c6a4": {
      "model_module": "@jupyter-widgets/base",
      "model_module_version": "1.2.0",
      "model_name": "LayoutModel",
      "state": {
       "_model_module": "@jupyter-widgets/base",
       "_model_module_version": "1.2.0",
       "_model_name": "LayoutModel",
       "_view_count": null,
       "_view_module": "@jupyter-widgets/base",
       "_view_module_version": "1.2.0",
       "_view_name": "LayoutView",
       "align_content": null,
       "align_items": null,
       "align_self": null,
       "border": null,
       "bottom": null,
       "display": null,
       "flex": null,
       "flex_flow": null,
       "grid_area": null,
       "grid_auto_columns": null,
       "grid_auto_flow": null,
       "grid_auto_rows": null,
       "grid_column": null,
       "grid_gap": null,
       "grid_row": null,
       "grid_template_areas": null,
       "grid_template_columns": null,
       "grid_template_rows": null,
       "height": null,
       "justify_content": null,
       "justify_items": null,
       "left": null,
       "margin": null,
       "max_height": null,
       "max_width": null,
       "min_height": null,
       "min_width": null,
       "object_fit": null,
       "object_position": null,
       "order": null,
       "overflow": null,
       "overflow_x": null,
       "overflow_y": null,
       "padding": null,
       "right": null,
       "top": null,
       "visibility": null,
       "width": null
      }
     },
     "b243a8768e374cc3b07958551171d143": {
      "model_module": "@jupyter-widgets/controls",
      "model_module_version": "1.5.0",
      "model_name": "HTMLModel",
      "state": {
       "_dom_classes": [],
       "_model_module": "@jupyter-widgets/controls",
       "_model_module_version": "1.5.0",
       "_model_name": "HTMLModel",
       "_view_count": null,
       "_view_module": "@jupyter-widgets/controls",
       "_view_module_version": "1.5.0",
       "_view_name": "HTMLView",
       "description": "",
       "description_tooltip": null,
       "layout": "IPY_MODEL_5e929b91f35f4ce58047f4e1d7a9cbec",
       "placeholder": "​",
       "style": "IPY_MODEL_b8b548f1d53546d68010ee19b2d39409",
       "value": "vocab.txt: 100%"
      }
     },
     "b38047cfe60d46d284a21f650bcbcd4c": {
      "model_module": "@jupyter-widgets/controls",
      "model_module_version": "1.5.0",
      "model_name": "DescriptionStyleModel",
      "state": {
       "_model_module": "@jupyter-widgets/controls",
       "_model_module_version": "1.5.0",
       "_model_name": "DescriptionStyleModel",
       "_view_count": null,
       "_view_module": "@jupyter-widgets/base",
       "_view_module_version": "1.2.0",
       "_view_name": "StyleView",
       "description_width": ""
      }
     },
     "b6970b4712d34be4820639c63d4409a2": {
      "model_module": "@jupyter-widgets/controls",
      "model_module_version": "1.5.0",
      "model_name": "DescriptionStyleModel",
      "state": {
       "_model_module": "@jupyter-widgets/controls",
       "_model_module_version": "1.5.0",
       "_model_name": "DescriptionStyleModel",
       "_view_count": null,
       "_view_module": "@jupyter-widgets/base",
       "_view_module_version": "1.2.0",
       "_view_name": "StyleView",
       "description_width": ""
      }
     },
     "b8b548f1d53546d68010ee19b2d39409": {
      "model_module": "@jupyter-widgets/controls",
      "model_module_version": "1.5.0",
      "model_name": "DescriptionStyleModel",
      "state": {
       "_model_module": "@jupyter-widgets/controls",
       "_model_module_version": "1.5.0",
       "_model_name": "DescriptionStyleModel",
       "_view_count": null,
       "_view_module": "@jupyter-widgets/base",
       "_view_module_version": "1.2.0",
       "_view_name": "StyleView",
       "description_width": ""
      }
     },
     "bd39d0b5e09f42dfb6e3f1f7842dfa83": {
      "model_module": "@jupyter-widgets/controls",
      "model_module_version": "1.5.0",
      "model_name": "ProgressStyleModel",
      "state": {
       "_model_module": "@jupyter-widgets/controls",
       "_model_module_version": "1.5.0",
       "_model_name": "ProgressStyleModel",
       "_view_count": null,
       "_view_module": "@jupyter-widgets/base",
       "_view_module_version": "1.2.0",
       "_view_name": "StyleView",
       "bar_color": null,
       "description_width": ""
      }
     },
     "c4596f9e99cf4460becdd2803f0834d3": {
      "model_module": "@jupyter-widgets/controls",
      "model_module_version": "1.5.0",
      "model_name": "FloatProgressModel",
      "state": {
       "_dom_classes": [],
       "_model_module": "@jupyter-widgets/controls",
       "_model_module_version": "1.5.0",
       "_model_name": "FloatProgressModel",
       "_view_count": null,
       "_view_module": "@jupyter-widgets/controls",
       "_view_module_version": "1.5.0",
       "_view_name": "ProgressView",
       "bar_style": "success",
       "description": "",
       "description_tooltip": null,
       "layout": "IPY_MODEL_4e630699a71b4a7b9bbf32e2a2ffd718",
       "max": 426.0,
       "min": 0.0,
       "orientation": "horizontal",
       "style": "IPY_MODEL_68e069ac6b214f2c9b669acd398d9bfb",
       "value": 426.0
      }
     },
     "c5bb297983ae468fac60e94180bee1fc": {
      "model_module": "@jupyter-widgets/base",
      "model_module_version": "1.2.0",
      "model_name": "LayoutModel",
      "state": {
       "_model_module": "@jupyter-widgets/base",
       "_model_module_version": "1.2.0",
       "_model_name": "LayoutModel",
       "_view_count": null,
       "_view_module": "@jupyter-widgets/base",
       "_view_module_version": "1.2.0",
       "_view_name": "LayoutView",
       "align_content": null,
       "align_items": null,
       "align_self": null,
       "border": null,
       "bottom": null,
       "display": null,
       "flex": null,
       "flex_flow": null,
       "grid_area": null,
       "grid_auto_columns": null,
       "grid_auto_flow": null,
       "grid_auto_rows": null,
       "grid_column": null,
       "grid_gap": null,
       "grid_row": null,
       "grid_template_areas": null,
       "grid_template_columns": null,
       "grid_template_rows": null,
       "height": null,
       "justify_content": null,
       "justify_items": null,
       "left": null,
       "margin": null,
       "max_height": null,
       "max_width": null,
       "min_height": null,
       "min_width": null,
       "object_fit": null,
       "object_position": null,
       "order": null,
       "overflow": null,
       "overflow_x": null,
       "overflow_y": null,
       "padding": null,
       "right": null,
       "top": null,
       "visibility": null,
       "width": null
      }
     },
     "cb8255cb10ba4c1f931ed17e2fc22577": {
      "model_module": "@jupyter-widgets/controls",
      "model_module_version": "1.5.0",
      "model_name": "HTMLModel",
      "state": {
       "_dom_classes": [],
       "_model_module": "@jupyter-widgets/controls",
       "_model_module_version": "1.5.0",
       "_model_name": "HTMLModel",
       "_view_count": null,
       "_view_module": "@jupyter-widgets/controls",
       "_view_module_version": "1.5.0",
       "_view_name": "HTMLView",
       "description": "",
       "description_tooltip": null,
       "layout": "IPY_MODEL_34d0acb25717408db79dd3f09de43100",
       "placeholder": "​",
       "style": "IPY_MODEL_f2715a3f12f74631ae37b8fc21122142",
       "value": " 77.8k/77.8k [00:00&lt;00:00, 3.71MB/s]"
      }
     },
     "d83e39dd48a8414ca11bf320fe0a5b7e": {
      "model_module": "@jupyter-widgets/base",
      "model_module_version": "1.2.0",
      "model_name": "LayoutModel",
      "state": {
       "_model_module": "@jupyter-widgets/base",
       "_model_module_version": "1.2.0",
       "_model_name": "LayoutModel",
       "_view_count": null,
       "_view_module": "@jupyter-widgets/base",
       "_view_module_version": "1.2.0",
       "_view_name": "LayoutView",
       "align_content": null,
       "align_items": null,
       "align_self": null,
       "border": null,
       "bottom": null,
       "display": null,
       "flex": null,
       "flex_flow": null,
       "grid_area": null,
       "grid_auto_columns": null,
       "grid_auto_flow": null,
       "grid_auto_rows": null,
       "grid_column": null,
       "grid_gap": null,
       "grid_row": null,
       "grid_template_areas": null,
       "grid_template_columns": null,
       "grid_template_rows": null,
       "height": null,
       "justify_content": null,
       "justify_items": null,
       "left": null,
       "margin": null,
       "max_height": null,
       "max_width": null,
       "min_height": null,
       "min_width": null,
       "object_fit": null,
       "object_position": null,
       "order": null,
       "overflow": null,
       "overflow_x": null,
       "overflow_y": null,
       "padding": null,
       "right": null,
       "top": null,
       "visibility": null,
       "width": null
      }
     },
     "de4e98a881d3472c8944ea13cf3a90f7": {
      "model_module": "@jupyter-widgets/controls",
      "model_module_version": "1.5.0",
      "model_name": "FloatProgressModel",
      "state": {
       "_dom_classes": [],
       "_model_module": "@jupyter-widgets/controls",
       "_model_module_version": "1.5.0",
       "_model_name": "FloatProgressModel",
       "_view_count": null,
       "_view_module": "@jupyter-widgets/controls",
       "_view_module_version": "1.5.0",
       "_view_name": "ProgressView",
       "bar_style": "success",
       "description": "",
       "description_tooltip": null,
       "layout": "IPY_MODEL_df3e16ddd4ee45afb7e9fb0b267de961",
       "max": 368769812.0,
       "min": 0.0,
       "orientation": "horizontal",
       "style": "IPY_MODEL_bd39d0b5e09f42dfb6e3f1f7842dfa83",
       "value": 368769812.0
      }
     },
     "df3e16ddd4ee45afb7e9fb0b267de961": {
      "model_module": "@jupyter-widgets/base",
      "model_module_version": "1.2.0",
      "model_name": "LayoutModel",
      "state": {
       "_model_module": "@jupyter-widgets/base",
       "_model_module_version": "1.2.0",
       "_model_name": "LayoutModel",
       "_view_count": null,
       "_view_module": "@jupyter-widgets/base",
       "_view_module_version": "1.2.0",
       "_view_name": "LayoutView",
       "align_content": null,
       "align_items": null,
       "align_self": null,
       "border": null,
       "bottom": null,
       "display": null,
       "flex": null,
       "flex_flow": null,
       "grid_area": null,
       "grid_auto_columns": null,
       "grid_auto_flow": null,
       "grid_auto_rows": null,
       "grid_column": null,
       "grid_gap": null,
       "grid_row": null,
       "grid_template_areas": null,
       "grid_template_columns": null,
       "grid_template_rows": null,
       "height": null,
       "justify_content": null,
       "justify_items": null,
       "left": null,
       "margin": null,
       "max_height": null,
       "max_width": null,
       "min_height": null,
       "min_width": null,
       "object_fit": null,
       "object_position": null,
       "order": null,
       "overflow": null,
       "overflow_x": null,
       "overflow_y": null,
       "padding": null,
       "right": null,
       "top": null,
       "visibility": null,
       "width": null
      }
     },
     "e1b7eb1d70374ac08d4b9171c942846e": {
      "model_module": "@jupyter-widgets/controls",
      "model_module_version": "1.5.0",
      "model_name": "FloatProgressModel",
      "state": {
       "_dom_classes": [],
       "_model_module": "@jupyter-widgets/controls",
       "_model_module_version": "1.5.0",
       "_model_name": "FloatProgressModel",
       "_view_count": null,
       "_view_module": "@jupyter-widgets/controls",
       "_view_module_version": "1.5.0",
       "_view_name": "ProgressView",
       "bar_style": "success",
       "description": "",
       "description_tooltip": null,
       "layout": "IPY_MODEL_35bb8e25653444a19f1d8311d5bd16ac",
       "max": 263.0,
       "min": 0.0,
       "orientation": "horizontal",
       "style": "IPY_MODEL_0d401bd11496404a9da0310431f6ae32",
       "value": 263.0
      }
     },
     "e3d27dcec80441ee967b8eaefeece6fa": {
      "model_module": "@jupyter-widgets/controls",
      "model_module_version": "1.5.0",
      "model_name": "HBoxModel",
      "state": {
       "_dom_classes": [],
       "_model_module": "@jupyter-widgets/controls",
       "_model_module_version": "1.5.0",
       "_model_name": "HBoxModel",
       "_view_count": null,
       "_view_module": "@jupyter-widgets/controls",
       "_view_module_version": "1.5.0",
       "_view_name": "HBoxView",
       "box_style": "",
       "children": [
        "IPY_MODEL_1ce9a06284424cb09ad23da1f0ad0a91",
        "IPY_MODEL_e1b7eb1d70374ac08d4b9171c942846e",
        "IPY_MODEL_4306bd0b8b3d46229058866c56181a91"
       ],
       "layout": "IPY_MODEL_358884a208af4b29a31c278699f62f42"
      }
     },
     "ec321fc3d98b4131a9705c2586b4d062": {
      "model_module": "@jupyter-widgets/controls",
      "model_module_version": "1.5.0",
      "model_name": "HTMLModel",
      "state": {
       "_dom_classes": [],
       "_model_module": "@jupyter-widgets/controls",
       "_model_module_version": "1.5.0",
       "_model_name": "HTMLModel",
       "_view_count": null,
       "_view_module": "@jupyter-widgets/controls",
       "_view_module_version": "1.5.0",
       "_view_name": "HTMLView",
       "description": "",
       "description_tooltip": null,
       "layout": "IPY_MODEL_4c5b859f6f664564bd78c07b09038d74",
       "placeholder": "​",
       "style": "IPY_MODEL_866e6d8e0dd14b62a71c227bb49f5668",
       "value": "config.json: 100%"
      }
     },
     "efd97bf3ec414d33bc497c936aad524e": {
      "model_module": "@jupyter-widgets/controls",
      "model_module_version": "1.5.0",
      "model_name": "HBoxModel",
      "state": {
       "_dom_classes": [],
       "_model_module": "@jupyter-widgets/controls",
       "_model_module_version": "1.5.0",
       "_model_name": "HBoxModel",
       "_view_count": null,
       "_view_module": "@jupyter-widgets/controls",
       "_view_module_version": "1.5.0",
       "_view_name": "HBoxView",
       "box_style": "",
       "children": [
        "IPY_MODEL_66152052b9cd4666afef3c2f3aa4c583",
        "IPY_MODEL_de4e98a881d3472c8944ea13cf3a90f7",
        "IPY_MODEL_2626bafcd5db416eaecfea74a5a3eba4"
       ],
       "layout": "IPY_MODEL_d83e39dd48a8414ca11bf320fe0a5b7e"
      }
     },
     "f2715a3f12f74631ae37b8fc21122142": {
      "model_module": "@jupyter-widgets/controls",
      "model_module_version": "1.5.0",
      "model_name": "DescriptionStyleModel",
      "state": {
       "_model_module": "@jupyter-widgets/controls",
       "_model_module_version": "1.5.0",
       "_model_name": "DescriptionStyleModel",
       "_view_count": null,
       "_view_module": "@jupyter-widgets/base",
       "_view_module_version": "1.2.0",
       "_view_name": "StyleView",
       "description_width": ""
      }
     },
     "f4771064cdfb4cb3994fe8c03e0e071e": {
      "model_module": "@jupyter-widgets/base",
      "model_module_version": "1.2.0",
      "model_name": "LayoutModel",
      "state": {
       "_model_module": "@jupyter-widgets/base",
       "_model_module_version": "1.2.0",
       "_model_name": "LayoutModel",
       "_view_count": null,
       "_view_module": "@jupyter-widgets/base",
       "_view_module_version": "1.2.0",
       "_view_name": "LayoutView",
       "align_content": null,
       "align_items": null,
       "align_self": null,
       "border": null,
       "bottom": null,
       "display": null,
       "flex": null,
       "flex_flow": null,
       "grid_area": null,
       "grid_auto_columns": null,
       "grid_auto_flow": null,
       "grid_auto_rows": null,
       "grid_column": null,
       "grid_gap": null,
       "grid_row": null,
       "grid_template_areas": null,
       "grid_template_columns": null,
       "grid_template_rows": null,
       "height": null,
       "justify_content": null,
       "justify_items": null,
       "left": null,
       "margin": null,
       "max_height": null,
       "max_width": null,
       "min_height": null,
       "min_width": null,
       "object_fit": null,
       "object_position": null,
       "order": null,
       "overflow": null,
       "overflow_x": null,
       "overflow_y": null,
       "padding": null,
       "right": null,
       "top": null,
       "visibility": null,
       "width": null
      }
     }
    },
    "version_major": 2,
    "version_minor": 0
   }
  }
 },
 "nbformat": 4,
 "nbformat_minor": 5
}
