{
 "cells": [
  {
   "cell_type": "markdown",
   "id": "87c0482f",
   "metadata": {
    "papermill": {
     "duration": 0.00677,
     "end_time": "2024-10-13T12:47:01.311372",
     "exception": false,
     "start_time": "2024-10-13T12:47:01.304602",
     "status": "completed"
    },
    "tags": []
   },
   "source": [
    "# Import"
   ]
  },
  {
   "cell_type": "code",
   "execution_count": 1,
   "id": "91b65be4",
   "metadata": {
    "execution": {
     "iopub.execute_input": "2024-10-13T12:47:01.325444Z",
     "iopub.status.busy": "2024-10-13T12:47:01.324636Z",
     "iopub.status.idle": "2024-10-13T12:47:08.544288Z",
     "shell.execute_reply": "2024-10-13T12:47:08.543285Z"
    },
    "papermill": {
     "duration": 7.229171,
     "end_time": "2024-10-13T12:47:08.546681",
     "exception": false,
     "start_time": "2024-10-13T12:47:01.317510",
     "status": "completed"
    },
    "tags": []
   },
   "outputs": [],
   "source": [
    "import torch\n",
    "from torch.utils.data import Dataset, DataLoader\n",
    "from transformers import BertTokenizer, BertForSequenceClassification, AdamW\n",
    "from sklearn.model_selection import train_test_split\n",
    "from sklearn.metrics import f1_score\n",
    "from tqdm import tqdm\n",
    "import pandas as pd\n",
    "from types import SimpleNamespace"
   ]
  },
  {
   "cell_type": "markdown",
   "id": "b302e68a",
   "metadata": {
    "papermill": {
     "duration": 0.005537,
     "end_time": "2024-10-13T12:47:08.558375",
     "exception": false,
     "start_time": "2024-10-13T12:47:08.552838",
     "status": "completed"
    },
    "tags": []
   },
   "source": [
    "# Hyperparameter"
   ]
  },
  {
   "cell_type": "code",
   "execution_count": 2,
   "id": "287db407",
   "metadata": {
    "execution": {
     "iopub.execute_input": "2024-10-13T12:47:08.571727Z",
     "iopub.status.busy": "2024-10-13T12:47:08.570814Z",
     "iopub.status.idle": "2024-10-13T12:47:08.575433Z",
     "shell.execute_reply": "2024-10-13T12:47:08.574576Z"
    },
    "papermill": {
     "duration": 0.013139,
     "end_time": "2024-10-13T12:47:08.577322",
     "exception": false,
     "start_time": "2024-10-13T12:47:08.564183",
     "status": "completed"
    },
    "tags": []
   },
   "outputs": [],
   "source": [
    "config = {\n",
    "    \"learning_rate\": 5e-5,\n",
    "    \"epoch\": 10,\n",
    "    \"batch_size\": 128\n",
    "}\n",
    "\n",
    "CFG = SimpleNamespace(**config)"
   ]
  },
  {
   "cell_type": "markdown",
   "id": "e0872376",
   "metadata": {
    "papermill": {
     "duration": 0.006252,
     "end_time": "2024-10-13T12:47:08.589190",
     "exception": false,
     "start_time": "2024-10-13T12:47:08.582938",
     "status": "completed"
    },
    "tags": []
   },
   "source": [
    "# Load Data"
   ]
  },
  {
   "cell_type": "code",
   "execution_count": 3,
   "id": "cc569dcc",
   "metadata": {
    "execution": {
     "iopub.execute_input": "2024-10-13T12:47:08.601712Z",
     "iopub.status.busy": "2024-10-13T12:47:08.601136Z",
     "iopub.status.idle": "2024-10-13T12:47:11.183122Z",
     "shell.execute_reply": "2024-10-13T12:47:11.182106Z"
    },
    "papermill": {
     "duration": 2.591082,
     "end_time": "2024-10-13T12:47:11.185768",
     "exception": false,
     "start_time": "2024-10-13T12:47:08.594686",
     "status": "completed"
    },
    "tags": []
   },
   "outputs": [],
   "source": [
    "#augmented, 500개로 맞춤\n",
    "#augmented2, 1000개로 맞춤\n",
    "#augmented_combined, 동일 카테고리별로 5개씩 묶고, 합친 갯수가 200개보다 적으면 200개까지 증강\n",
    "#augmented_combined3, 동일 카테고리별로 2개씩 묶고, 합친 갯수가 200개보다 적으면 50개까지 증강\n",
    "#augmented_combined4, 셔플 추가, 동일 카테고리별로 2개씩 묶고, 합친 갯수가 200개보다 적으면 50개까지 증강\n",
    "#augmented_combined5, 셔플 추가, 동일 카테고리별로 2개씩 묶고, 합친 갯수가 200개보다 적으면 50개까지 증강\n",
    "#그리고 지역은 5000개까지 줄임\n",
    "#augmented_combined6, 셔플 추가, 동일 카테고리별로 2개씩 묶고, 합친 갯수가 30개보다 적으면 30개까지 증강\n",
    "#augmented_combined7, 셔플 추가, 동일 카테고리별로 2개씩 묶고, 합친 갯수가 30개보다 적으면 30개까지 증강\n",
    "#그리고 지역은 7000개까지 줄임\n",
    "#augmented_combined8, 셔플 추가, 동일 카테고리별로 2개씩 묶고, 합친 갯수가 30개보다 적으면 30개까지 증강\n",
    "#그리고 지역은 5000개까지 줄임\n",
    "#augmented_combined7, 셔플 추가, 동일 카테고리별로 2개씩 묶고, 합친 갯수가 30개보다 적으면 30개까지 증강\n",
    "#그리고 지역은 3000개까지 줄임\n",
    "#augmented_combined7, 셔플 추가, 동일 카테고리별로 2개씩 묶고, 합친 갯수가 30개보다 적으면 30개까지 증강\n",
    "#그리고 지역은 2000개까지 줄임\n",
    "train_df = pd.read_csv(\"/kaggle/input/dataset/train_augmented_combined7.csv\")\n",
    "test_df = pd.read_csv(\"/kaggle/input/dacon-dataset/test.csv\")"
   ]
  },
  {
   "cell_type": "code",
   "execution_count": 4,
   "id": "997b49d3",
   "metadata": {
    "execution": {
     "iopub.execute_input": "2024-10-13T12:47:11.199193Z",
     "iopub.status.busy": "2024-10-13T12:47:11.198831Z",
     "iopub.status.idle": "2024-10-13T12:47:11.221162Z",
     "shell.execute_reply": "2024-10-13T12:47:11.220253Z"
    },
    "papermill": {
     "duration": 0.031185,
     "end_time": "2024-10-13T12:47:11.223190",
     "exception": false,
     "start_time": "2024-10-13T12:47:11.192005",
     "status": "completed"
    },
    "tags": []
   },
   "outputs": [
    {
     "data": {
      "text/plain": [
       "분류\n",
       "지역               7000\n",
       "경제:부동산           1727\n",
       "사회:사건_사고         1284\n",
       "경제:반도체           1159\n",
       "사회:사회일반           740\n",
       "사회:교육_시험          498\n",
       "정치:국회_정당          483\n",
       "사회:의료_건강          475\n",
       "경제:취업_창업          423\n",
       "스포츠:올림픽_아시안게임     421\n",
       "경제:산업_기업          356\n",
       "문화:전시_공연          336\n",
       "경제:자동차            320\n",
       "경제:경제일반           313\n",
       "사회:장애인            311\n",
       "스포츠:골프            309\n",
       "정치:선거             304\n",
       "경제:유통             295\n",
       "IT_과학:모바일         269\n",
       "사회:여성             268\n",
       "사회:노동_복지          224\n",
       "사회:환경             198\n",
       "경제:서비스_쇼핑         194\n",
       "경제:무역             188\n",
       "정치:행정_자치          175\n",
       "국제                169\n",
       "문화:방송_연예          168\n",
       "경제:금융_재테크         164\n",
       "스포츠:축구            164\n",
       "정치:청와대            140\n",
       "문화:출판             124\n",
       "IT_과학:IT_과학일반     122\n",
       "IT_과학:인터넷_SNS     119\n",
       "문화:미술_건축          115\n",
       "정치:정치일반           111\n",
       "IT_과학:과학          108\n",
       "문화:문화일반           107\n",
       "문화:학술_문화재         101\n",
       "문화:요리_여행           95\n",
       "경제:자원              89\n",
       "문화:종교              87\n",
       "IT_과학:콘텐츠          80\n",
       "사회:미디어             64\n",
       "사회:날씨              62\n",
       "스포츠:농구_배구          57\n",
       "문화:음악              55\n",
       "문화:생활              51\n",
       "정치:외교              50\n",
       "경제:증권_증시           50\n",
       "경제:외환              50\n",
       "정치:북한              50\n",
       "스포츠:야구             50\n",
       "IT_과학:보안           50\n",
       "문화:영화              50\n",
       "스포츠:월드컵            50\n",
       "스포츠:스포츠일반          50\n",
       "Name: count, dtype: int64"
      ]
     },
     "execution_count": 4,
     "metadata": {},
     "output_type": "execute_result"
    }
   ],
   "source": [
    "train_df[\"분류\"].value_counts()"
   ]
  },
  {
   "cell_type": "markdown",
   "id": "8c51dcb6",
   "metadata": {
    "papermill": {
     "duration": 0.005668,
     "end_time": "2024-10-13T12:47:11.234739",
     "exception": false,
     "start_time": "2024-10-13T12:47:11.229071",
     "status": "completed"
    },
    "tags": []
   },
   "source": [
    "# Load Model"
   ]
  },
  {
   "cell_type": "code",
   "execution_count": 5,
   "id": "dda4fee7",
   "metadata": {
    "execution": {
     "iopub.execute_input": "2024-10-13T12:47:11.247455Z",
     "iopub.status.busy": "2024-10-13T12:47:11.247177Z",
     "iopub.status.idle": "2024-10-13T12:47:14.273570Z",
     "shell.execute_reply": "2024-10-13T12:47:14.272519Z"
    },
    "papermill": {
     "duration": 3.035755,
     "end_time": "2024-10-13T12:47:14.276210",
     "exception": false,
     "start_time": "2024-10-13T12:47:11.240455",
     "status": "completed"
    },
    "tags": []
   },
   "outputs": [
    {
     "data": {
      "application/vnd.jupyter.widget-view+json": {
       "model_id": "488f84b076d84ecdabfda8f576f47ebc",
       "version_major": 2,
       "version_minor": 0
      },
      "text/plain": [
       "tokenizer_config.json:   0%|          | 0.00/263 [00:00<?, ?B/s]"
      ]
     },
     "metadata": {},
     "output_type": "display_data"
    },
    {
     "data": {
      "application/vnd.jupyter.widget-view+json": {
       "model_id": "5fc91509c01d4a5fbead6621282a5294",
       "version_major": 2,
       "version_minor": 0
      },
      "text/plain": [
       "vocab.txt:   0%|          | 0.00/77.8k [00:00<?, ?B/s]"
      ]
     },
     "metadata": {},
     "output_type": "display_data"
    },
    {
     "name": "stderr",
     "output_type": "stream",
     "text": [
      "The tokenizer class you load from this checkpoint is not the same type as the class this function is called from. It may result in unexpected tokenization. \n",
      "The tokenizer class you load from this checkpoint is 'KoBertTokenizer'. \n",
      "The class this function is called from is 'BertTokenizer'.\n",
      "/opt/conda/lib/python3.10/site-packages/transformers/tokenization_utils_base.py:1601: FutureWarning: `clean_up_tokenization_spaces` was not set. It will be set to `True` by default. This behavior will be depracted in transformers v4.45, and will be then set to `False` by default. For more details check this issue: https://github.com/huggingface/transformers/issues/31884\n",
      "  warnings.warn(\n"
     ]
    },
    {
     "data": {
      "application/vnd.jupyter.widget-view+json": {
       "model_id": "4d77a483b2914ab79a1897297f6b5359",
       "version_major": 2,
       "version_minor": 0
      },
      "text/plain": [
       "config.json:   0%|          | 0.00/426 [00:00<?, ?B/s]"
      ]
     },
     "metadata": {},
     "output_type": "display_data"
    },
    {
     "data": {
      "application/vnd.jupyter.widget-view+json": {
       "model_id": "4db1fa40c114401fb1544b1e59cac7f3",
       "version_major": 2,
       "version_minor": 0
      },
      "text/plain": [
       "model.safetensors:   0%|          | 0.00/369M [00:00<?, ?B/s]"
      ]
     },
     "metadata": {},
     "output_type": "display_data"
    },
    {
     "name": "stderr",
     "output_type": "stream",
     "text": [
      "Some weights of BertForSequenceClassification were not initialized from the model checkpoint at monologg/kobert and are newly initialized: ['classifier.bias', 'classifier.weight']\n",
      "You should probably TRAIN this model on a down-stream task to be able to use it for predictions and inference.\n"
     ]
    }
   ],
   "source": [
    "device = torch.device('cuda' if torch.cuda.is_available() else 'cpu')\n",
    "tokenizer = BertTokenizer.from_pretrained('monologg/kobert')\n",
    "model = BertForSequenceClassification.from_pretrained('monologg/kobert', num_labels=len(train_df['분류'].unique())).to(device)"
   ]
  },
  {
   "cell_type": "markdown",
   "id": "b69800db",
   "metadata": {
    "papermill": {
     "duration": 0.008106,
     "end_time": "2024-10-13T12:47:14.293226",
     "exception": false,
     "start_time": "2024-10-13T12:47:14.285120",
     "status": "completed"
    },
    "tags": []
   },
   "source": [
    "# Custom Dataset"
   ]
  },
  {
   "cell_type": "code",
   "execution_count": 6,
   "id": "c1d48874",
   "metadata": {
    "execution": {
     "iopub.execute_input": "2024-10-13T12:47:14.310725Z",
     "iopub.status.busy": "2024-10-13T12:47:14.310304Z",
     "iopub.status.idle": "2024-10-13T12:47:14.319798Z",
     "shell.execute_reply": "2024-10-13T12:47:14.318701Z"
    },
    "papermill": {
     "duration": 0.020769,
     "end_time": "2024-10-13T12:47:14.322009",
     "exception": false,
     "start_time": "2024-10-13T12:47:14.301240",
     "status": "completed"
    },
    "tags": []
   },
   "outputs": [],
   "source": [
    "class TextDataset(Dataset):\n",
    "    def __init__(self, texts, labels, tokenizer, max_len=128):\n",
    "        self.texts = texts\n",
    "        self.labels = labels\n",
    "        self.tokenizer = tokenizer\n",
    "        self.max_len = max_len\n",
    "\n",
    "    def __len__(self):\n",
    "        return len(self.texts)\n",
    "\n",
    "    def __getitem__(self, item):\n",
    "        text = str(self.texts[item])\n",
    "        label = self.labels[item] if self.labels is not None else -1\n",
    "        encoding = self.tokenizer.encode_plus(\n",
    "            text,\n",
    "            add_special_tokens=True,\n",
    "            max_length=self.max_len,\n",
    "            return_token_type_ids=False,\n",
    "            padding='max_length',\n",
    "            truncation=True,\n",
    "            return_attention_mask=True,\n",
    "            return_tensors='pt',\n",
    "        )\n",
    "        return {\n",
    "            'text': text,\n",
    "            'input_ids': encoding['input_ids'].flatten(),\n",
    "            'attention_mask': encoding['attention_mask'].flatten(),\n",
    "            'labels': torch.tensor(label, dtype=torch.long)\n",
    "        }\n"
   ]
  },
  {
   "cell_type": "markdown",
   "id": "636baeaf",
   "metadata": {
    "papermill": {
     "duration": 0.007371,
     "end_time": "2024-10-13T12:47:14.337057",
     "exception": false,
     "start_time": "2024-10-13T12:47:14.329686",
     "status": "completed"
    },
    "tags": []
   },
   "source": [
    "# Data Preprocessing"
   ]
  },
  {
   "cell_type": "code",
   "execution_count": 7,
   "id": "a81ff677",
   "metadata": {
    "execution": {
     "iopub.execute_input": "2024-10-13T12:47:14.353668Z",
     "iopub.status.busy": "2024-10-13T12:47:14.353313Z",
     "iopub.status.idle": "2024-10-13T12:47:14.510348Z",
     "shell.execute_reply": "2024-10-13T12:47:14.509511Z"
    },
    "papermill": {
     "duration": 0.168142,
     "end_time": "2024-10-13T12:47:14.512699",
     "exception": false,
     "start_time": "2024-10-13T12:47:14.344557",
     "status": "completed"
    },
    "tags": []
   },
   "outputs": [],
   "source": [
    "# 데이터 준비\n",
    "train_df['제목_키워드'] = train_df['제목'] + ' ' + train_df['키워드']\n",
    "test_df['제목_키워드'] = test_df['제목'] + ' ' + test_df['키워드']\n",
    "\n",
    "# 레이블 인코딩\n",
    "label_encoder = {label: i for i, label in enumerate(train_df['분류'].unique())}\n",
    "train_df['label'] = train_df['분류'].map(label_encoder)\n",
    "\n",
    "# 데이터 분할 (train -> train + validation)\n",
    "train_df, val_df = train_test_split(train_df, test_size=0.2, stratify=train_df['분류'], random_state=42)\n",
    "\n",
    "# 데이터셋 생성\n",
    "train_dataset = TextDataset(train_df.제목_키워드.tolist(), train_df.label.tolist(), tokenizer)\n",
    "val_dataset = TextDataset(val_df.제목_키워드.tolist(), val_df.label.tolist(), tokenizer)\n",
    "test_dataset = TextDataset(test_df.제목_키워드.tolist(), None, tokenizer)  # 라벨 없음\n",
    "\n",
    "# 데이터 로더 생성\n",
    "train_loader = DataLoader(train_dataset, batch_size=CFG.batch_size, shuffle=True)\n",
    "val_loader = DataLoader(val_dataset, batch_size=CFG.batch_size, shuffle=False)\n",
    "test_loader = DataLoader(test_dataset, batch_size=CFG.batch_size, shuffle=False)"
   ]
  },
  {
   "cell_type": "code",
   "execution_count": 8,
   "id": "8d2f0237",
   "metadata": {
    "execution": {
     "iopub.execute_input": "2024-10-13T12:47:14.528086Z",
     "iopub.status.busy": "2024-10-13T12:47:14.527746Z",
     "iopub.status.idle": "2024-10-13T12:47:14.543423Z",
     "shell.execute_reply": "2024-10-13T12:47:14.542505Z"
    },
    "papermill": {
     "duration": 0.02549,
     "end_time": "2024-10-13T12:47:14.545542",
     "exception": false,
     "start_time": "2024-10-13T12:47:14.520052",
     "status": "completed"
    },
    "tags": []
   },
   "outputs": [
    {
     "data": {
      "text/html": [
       "<div>\n",
       "<style scoped>\n",
       "    .dataframe tbody tr th:only-of-type {\n",
       "        vertical-align: middle;\n",
       "    }\n",
       "\n",
       "    .dataframe tbody tr th {\n",
       "        vertical-align: top;\n",
       "    }\n",
       "\n",
       "    .dataframe thead th {\n",
       "        text-align: right;\n",
       "    }\n",
       "</style>\n",
       "<table border=\"1\" class=\"dataframe\">\n",
       "  <thead>\n",
       "    <tr style=\"text-align: right;\">\n",
       "      <th></th>\n",
       "      <th>ID</th>\n",
       "      <th>제목</th>\n",
       "      <th>키워드</th>\n",
       "      <th>제목_키워드</th>\n",
       "    </tr>\n",
       "  </thead>\n",
       "  <tbody>\n",
       "    <tr>\n",
       "      <th>0</th>\n",
       "      <td>TEST_00000</td>\n",
       "      <td>[부고] 김태수씨 별세 외</td>\n",
       "      <td>김태수,별세,김태수씨,서울,광남초등학,교장,별세,김윤정,이노코리아,대표,희정,한성대...</td>\n",
       "      <td>[부고] 김태수씨 별세 외 김태수,별세,김태수씨,서울,광남초등학,교장,별세,김윤정,...</td>\n",
       "    </tr>\n",
       "    <tr>\n",
       "      <th>1</th>\n",
       "      <td>TEST_00001</td>\n",
       "      <td>신규 확진 나흘째 세자릿수... 방역당국, 핼러윈 풍선효과 차단 총력</td>\n",
       "      <td>신규,확진,나흘,세자릿수,방역당국,핼러윈,풍선,효과,차단,총력,감염증,신종,코로나바...</td>\n",
       "      <td>신규 확진 나흘째 세자릿수... 방역당국, 핼러윈 풍선효과 차단 총력 신규,확진,나...</td>\n",
       "    </tr>\n",
       "    <tr>\n",
       "      <th>2</th>\n",
       "      <td>TEST_00002</td>\n",
       "      <td>[서경이 만난 사람] 전해철 장관 \"재정분권 강화 '지방자치 2.0 시대' 마중물 ...</td>\n",
       "      <td>전해철,장관,재정,분권,강화,지방자치,2.0,시대,마중물,마련,장관,전해철,행정안전...</td>\n",
       "      <td>[서경이 만난 사람] 전해철 장관 \"재정분권 강화 '지방자치 2.0 시대' 마중물 ...</td>\n",
       "    </tr>\n",
       "    <tr>\n",
       "      <th>3</th>\n",
       "      <td>TEST_00003</td>\n",
       "      <td>용인시, 12일 '장애인 구인 구직 만남의 날' 채용 행사</td>\n",
       "      <td>용인시,구인,장애인,구직,만남,채용,행사,노호근,용인특례시,장애인,취업,지원,대회의...</td>\n",
       "      <td>용인시, 12일 '장애인 구인 구직 만남의 날' 채용 행사 용인시,구인,장애인,구직...</td>\n",
       "    </tr>\n",
       "    <tr>\n",
       "      <th>4</th>\n",
       "      <td>TEST_00004</td>\n",
       "      <td>지자체 벽 터 경기지역 산단 활성화 모색</td>\n",
       "      <td>지자체,경기,북동부,지역,산업단지,혁신단위,설정,전략,지역,연계,특성,제시,경기도경...</td>\n",
       "      <td>지자체 벽 터 경기지역 산단 활성화 모색 지자체,경기,북동부,지역,산업단지,혁신단위...</td>\n",
       "    </tr>\n",
       "    <tr>\n",
       "      <th>...</th>\n",
       "      <td>...</td>\n",
       "      <td>...</td>\n",
       "      <td>...</td>\n",
       "      <td>...</td>\n",
       "    </tr>\n",
       "    <tr>\n",
       "      <th>23400</th>\n",
       "      <td>TEST_23400</td>\n",
       "      <td>코로나19 감염 경로 '조사중' 32.4% 최고치 일상감염 지속</td>\n",
       "      <td>코로나19,감염,경로,조사,32.4%,최고,일상감염,지속,기준,확진자,기준,코로나1...</td>\n",
       "      <td>코로나19 감염 경로 '조사중' 32.4% 최고치 일상감염 지속 코로나19,감염,경...</td>\n",
       "    </tr>\n",
       "    <tr>\n",
       "      <th>23401</th>\n",
       "      <td>TEST_23401</td>\n",
       "      <td>“여행 외식해라” vs “모임 자제하라” 시민들 “어쩌란 건가” 혼란</td>\n",
       "      <td>여행,외식,자제,vs,모임,시민들,혼란,인천국제공항,아시아나항공,한반도,일주,비행,...</td>\n",
       "      <td>“여행 외식해라” vs “모임 자제하라” 시민들 “어쩌란 건가” 혼란 여행,외식,자...</td>\n",
       "    </tr>\n",
       "    <tr>\n",
       "      <th>23402</th>\n",
       "      <td>TEST_23402</td>\n",
       "      <td>송철호 울산시장 배우자 용인 임야 쪼개기 매입 의혹</td>\n",
       "      <td>임야,송철호,울산,시장,배우자,용인,매입,의혹,송철호,울산,시장,배우자,경기,용인,...</td>\n",
       "      <td>송철호 울산시장 배우자 용인 임야 쪼개기 매입 의혹 임야,송철호,울산,시장,배우자,...</td>\n",
       "    </tr>\n",
       "    <tr>\n",
       "      <th>23403</th>\n",
       "      <td>TEST_23403</td>\n",
       "      <td>여직원 배에 '자궁 모형' 올리고 사진 찍어 홍보용으로 쓴 한의사</td>\n",
       "      <td>여직원,자궁,모형,사진,홍보용,한의사,한의원,간호조무사,동의,자궁,모형,사진,한의사...</td>\n",
       "      <td>여직원 배에 '자궁 모형' 올리고 사진 찍어 홍보용으로 쓴 한의사 여직원,자궁,모형...</td>\n",
       "    </tr>\n",
       "    <tr>\n",
       "      <th>23404</th>\n",
       "      <td>TEST_23404</td>\n",
       "      <td>용인시, 팜 앤 포레스트 조성 '급물살'</td>\n",
       "      <td>용인시,급물살,포레스트,조성,관광휴양복합단지,용인,특례,농어촌,관광,휴양,복합,단지...</td>\n",
       "      <td>용인시, 팜 앤 포레스트 조성 '급물살' 용인시,급물살,포레스트,조성,관광휴양복합단...</td>\n",
       "    </tr>\n",
       "  </tbody>\n",
       "</table>\n",
       "<p>23405 rows × 4 columns</p>\n",
       "</div>"
      ],
      "text/plain": [
       "               ID                                                 제목  \\\n",
       "0      TEST_00000                                     [부고] 김태수씨 별세 외   \n",
       "1      TEST_00001             신규 확진 나흘째 세자릿수... 방역당국, 핼러윈 풍선효과 차단 총력   \n",
       "2      TEST_00002  [서경이 만난 사람] 전해철 장관 \"재정분권 강화 '지방자치 2.0 시대' 마중물 ...   \n",
       "3      TEST_00003                   용인시, 12일 '장애인 구인 구직 만남의 날' 채용 행사   \n",
       "4      TEST_00004                             지자체 벽 터 경기지역 산단 활성화 모색   \n",
       "...           ...                                                ...   \n",
       "23400  TEST_23400                코로나19 감염 경로 '조사중' 32.4% 최고치 일상감염 지속   \n",
       "23401  TEST_23401             “여행 외식해라” vs “모임 자제하라” 시민들 “어쩌란 건가” 혼란   \n",
       "23402  TEST_23402                       송철호 울산시장 배우자 용인 임야 쪼개기 매입 의혹   \n",
       "23403  TEST_23403               여직원 배에 '자궁 모형' 올리고 사진 찍어 홍보용으로 쓴 한의사   \n",
       "23404  TEST_23404                             용인시, 팜 앤 포레스트 조성 '급물살'   \n",
       "\n",
       "                                                     키워드  \\\n",
       "0      김태수,별세,김태수씨,서울,광남초등학,교장,별세,김윤정,이노코리아,대표,희정,한성대...   \n",
       "1      신규,확진,나흘,세자릿수,방역당국,핼러윈,풍선,효과,차단,총력,감염증,신종,코로나바...   \n",
       "2      전해철,장관,재정,분권,강화,지방자치,2.0,시대,마중물,마련,장관,전해철,행정안전...   \n",
       "3      용인시,구인,장애인,구직,만남,채용,행사,노호근,용인특례시,장애인,취업,지원,대회의...   \n",
       "4      지자체,경기,북동부,지역,산업단지,혁신단위,설정,전략,지역,연계,특성,제시,경기도경...   \n",
       "...                                                  ...   \n",
       "23400  코로나19,감염,경로,조사,32.4%,최고,일상감염,지속,기준,확진자,기준,코로나1...   \n",
       "23401  여행,외식,자제,vs,모임,시민들,혼란,인천국제공항,아시아나항공,한반도,일주,비행,...   \n",
       "23402  임야,송철호,울산,시장,배우자,용인,매입,의혹,송철호,울산,시장,배우자,경기,용인,...   \n",
       "23403  여직원,자궁,모형,사진,홍보용,한의사,한의원,간호조무사,동의,자궁,모형,사진,한의사...   \n",
       "23404  용인시,급물살,포레스트,조성,관광휴양복합단지,용인,특례,농어촌,관광,휴양,복합,단지...   \n",
       "\n",
       "                                                  제목_키워드  \n",
       "0      [부고] 김태수씨 별세 외 김태수,별세,김태수씨,서울,광남초등학,교장,별세,김윤정,...  \n",
       "1      신규 확진 나흘째 세자릿수... 방역당국, 핼러윈 풍선효과 차단 총력 신규,확진,나...  \n",
       "2      [서경이 만난 사람] 전해철 장관 \"재정분권 강화 '지방자치 2.0 시대' 마중물 ...  \n",
       "3      용인시, 12일 '장애인 구인 구직 만남의 날' 채용 행사 용인시,구인,장애인,구직...  \n",
       "4      지자체 벽 터 경기지역 산단 활성화 모색 지자체,경기,북동부,지역,산업단지,혁신단위...  \n",
       "...                                                  ...  \n",
       "23400  코로나19 감염 경로 '조사중' 32.4% 최고치 일상감염 지속 코로나19,감염,경...  \n",
       "23401  “여행 외식해라” vs “모임 자제하라” 시민들 “어쩌란 건가” 혼란 여행,외식,자...  \n",
       "23402  송철호 울산시장 배우자 용인 임야 쪼개기 매입 의혹 임야,송철호,울산,시장,배우자,...  \n",
       "23403  여직원 배에 '자궁 모형' 올리고 사진 찍어 홍보용으로 쓴 한의사 여직원,자궁,모형...  \n",
       "23404  용인시, 팜 앤 포레스트 조성 '급물살' 용인시,급물살,포레스트,조성,관광휴양복합단...  \n",
       "\n",
       "[23405 rows x 4 columns]"
      ]
     },
     "execution_count": 8,
     "metadata": {},
     "output_type": "execute_result"
    }
   ],
   "source": [
    "test_df"
   ]
  },
  {
   "cell_type": "code",
   "execution_count": 9,
   "id": "a6da6244",
   "metadata": {
    "execution": {
     "iopub.execute_input": "2024-10-13T12:47:14.562090Z",
     "iopub.status.busy": "2024-10-13T12:47:14.561184Z",
     "iopub.status.idle": "2024-10-13T12:47:14.571888Z",
     "shell.execute_reply": "2024-10-13T12:47:14.570983Z"
    },
    "papermill": {
     "duration": 0.020954,
     "end_time": "2024-10-13T12:47:14.573981",
     "exception": false,
     "start_time": "2024-10-13T12:47:14.553027",
     "status": "completed"
    },
    "tags": []
   },
   "outputs": [
    {
     "data": {
      "text/plain": [
       "분류\n",
       "지역               5600\n",
       "경제:부동산           1382\n",
       "사회:사건_사고         1027\n",
       "경제:반도체            927\n",
       "사회:사회일반           592\n",
       "사회:교육_시험          398\n",
       "정치:국회_정당          386\n",
       "사회:의료_건강          380\n",
       "경제:취업_창업          338\n",
       "스포츠:올림픽_아시안게임     337\n",
       "경제:산업_기업          285\n",
       "문화:전시_공연          269\n",
       "경제:자동차            256\n",
       "경제:경제일반           250\n",
       "사회:장애인            249\n",
       "스포츠:골프            247\n",
       "정치:선거             243\n",
       "경제:유통             236\n",
       "IT_과학:모바일         215\n",
       "사회:여성             214\n",
       "사회:노동_복지          179\n",
       "사회:환경             158\n",
       "경제:서비스_쇼핑         155\n",
       "경제:무역             150\n",
       "정치:행정_자치          140\n",
       "문화:방송_연예          135\n",
       "국제                135\n",
       "스포츠:축구            131\n",
       "경제:금융_재테크         131\n",
       "정치:청와대            112\n",
       "문화:출판              99\n",
       "IT_과학:IT_과학일반      98\n",
       "IT_과학:인터넷_SNS      95\n",
       "문화:미술_건축           92\n",
       "정치:정치일반            89\n",
       "IT_과학:과학           87\n",
       "문화:문화일반            86\n",
       "문화:학술_문화재          81\n",
       "문화:요리_여행           76\n",
       "경제:자원              71\n",
       "문화:종교              70\n",
       "IT_과학:콘텐츠          64\n",
       "사회:미디어             51\n",
       "사회:날씨              50\n",
       "스포츠:농구_배구          46\n",
       "문화:음악              44\n",
       "문화:생활              41\n",
       "IT_과학:보안           40\n",
       "경제:외환              40\n",
       "정치:외교              40\n",
       "스포츠:스포츠일반          40\n",
       "경제:증권_증시           40\n",
       "정치:북한              40\n",
       "문화:영화              40\n",
       "스포츠:월드컵            40\n",
       "스포츠:야구             40\n",
       "Name: count, dtype: int64"
      ]
     },
     "execution_count": 9,
     "metadata": {},
     "output_type": "execute_result"
    }
   ],
   "source": [
    "train_df[\"분류\"].value_counts()"
   ]
  },
  {
   "cell_type": "code",
   "execution_count": 10,
   "id": "26e3a776",
   "metadata": {
    "execution": {
     "iopub.execute_input": "2024-10-13T12:47:14.590000Z",
     "iopub.status.busy": "2024-10-13T12:47:14.589671Z",
     "iopub.status.idle": "2024-10-13T12:47:15.473540Z",
     "shell.execute_reply": "2024-10-13T12:47:15.472662Z"
    },
    "papermill": {
     "duration": 0.894551,
     "end_time": "2024-10-13T12:47:15.475864",
     "exception": false,
     "start_time": "2024-10-13T12:47:14.581313",
     "status": "completed"
    },
    "tags": []
   },
   "outputs": [
    {
     "name": "stderr",
     "output_type": "stream",
     "text": [
      "/opt/conda/lib/python3.10/site-packages/transformers/optimization.py:591: FutureWarning: This implementation of AdamW is deprecated and will be removed in a future version. Use the PyTorch implementation torch.optim.AdamW instead, or set `no_deprecation_warning=True` to disable this warning\n",
      "  warnings.warn(\n"
     ]
    }
   ],
   "source": [
    "# 옵티마이저 및 학습 파라미터 설정\n",
    "optimizer = AdamW(model.parameters(), lr=CFG.learning_rate)"
   ]
  },
  {
   "cell_type": "code",
   "execution_count": 11,
   "id": "73a0e62e",
   "metadata": {
    "execution": {
     "iopub.execute_input": "2024-10-13T12:47:15.492950Z",
     "iopub.status.busy": "2024-10-13T12:47:15.492454Z",
     "iopub.status.idle": "2024-10-13T13:53:16.513954Z",
     "shell.execute_reply": "2024-10-13T13:53:16.513042Z"
    },
    "papermill": {
     "duration": 3961.032088,
     "end_time": "2024-10-13T13:53:16.516043",
     "exception": false,
     "start_time": "2024-10-13T12:47:15.483955",
     "status": "completed"
    },
    "tags": []
   },
   "outputs": [
    {
     "name": "stderr",
     "output_type": "stream",
     "text": [
      "Epoch 1/10: 100%|██████████| 132/132 [05:43<00:00,  2.60s/it]\n",
      "Validating: 100%|██████████| 33/33 [00:55<00:00,  1.68s/it]\n"
     ]
    },
    {
     "name": "stdout",
     "output_type": "stream",
     "text": [
      "Validation F1 Score: 0.05\n"
     ]
    },
    {
     "name": "stderr",
     "output_type": "stream",
     "text": [
      "Epoch 2/10: 100%|██████████| 132/132 [05:39<00:00,  2.57s/it]\n",
      "Validating: 100%|██████████| 33/33 [00:55<00:00,  1.69s/it]\n"
     ]
    },
    {
     "name": "stdout",
     "output_type": "stream",
     "text": [
      "Validation F1 Score: 0.20\n"
     ]
    },
    {
     "name": "stderr",
     "output_type": "stream",
     "text": [
      "Epoch 3/10: 100%|██████████| 132/132 [05:39<00:00,  2.57s/it]\n",
      "Validating: 100%|██████████| 33/33 [00:55<00:00,  1.69s/it]\n"
     ]
    },
    {
     "name": "stdout",
     "output_type": "stream",
     "text": [
      "Validation F1 Score: 0.31\n"
     ]
    },
    {
     "name": "stderr",
     "output_type": "stream",
     "text": [
      "Epoch 4/10: 100%|██████████| 132/132 [05:40<00:00,  2.58s/it]\n",
      "Validating: 100%|██████████| 33/33 [00:55<00:00,  1.69s/it]\n"
     ]
    },
    {
     "name": "stdout",
     "output_type": "stream",
     "text": [
      "Validation F1 Score: 0.38\n"
     ]
    },
    {
     "name": "stderr",
     "output_type": "stream",
     "text": [
      "Epoch 5/10: 100%|██████████| 132/132 [05:40<00:00,  2.58s/it]\n",
      "Validating: 100%|██████████| 33/33 [00:55<00:00,  1.69s/it]\n"
     ]
    },
    {
     "name": "stdout",
     "output_type": "stream",
     "text": [
      "Validation F1 Score: 0.44\n"
     ]
    },
    {
     "name": "stderr",
     "output_type": "stream",
     "text": [
      "Epoch 6/10: 100%|██████████| 132/132 [05:40<00:00,  2.58s/it]\n",
      "Validating: 100%|██████████| 33/33 [00:56<00:00,  1.71s/it]\n"
     ]
    },
    {
     "name": "stdout",
     "output_type": "stream",
     "text": [
      "Validation F1 Score: 0.47\n"
     ]
    },
    {
     "name": "stderr",
     "output_type": "stream",
     "text": [
      "Epoch 7/10: 100%|██████████| 132/132 [05:39<00:00,  2.58s/it]\n",
      "Validating: 100%|██████████| 33/33 [00:55<00:00,  1.69s/it]\n"
     ]
    },
    {
     "name": "stdout",
     "output_type": "stream",
     "text": [
      "Validation F1 Score: 0.50\n"
     ]
    },
    {
     "name": "stderr",
     "output_type": "stream",
     "text": [
      "Epoch 8/10: 100%|██████████| 132/132 [05:39<00:00,  2.57s/it]\n",
      "Validating: 100%|██████████| 33/33 [00:56<00:00,  1.70s/it]\n"
     ]
    },
    {
     "name": "stdout",
     "output_type": "stream",
     "text": [
      "Validation F1 Score: 0.49\n"
     ]
    },
    {
     "name": "stderr",
     "output_type": "stream",
     "text": [
      "Epoch 9/10: 100%|██████████| 132/132 [05:40<00:00,  2.58s/it]\n",
      "Validating: 100%|██████████| 33/33 [00:55<00:00,  1.69s/it]\n"
     ]
    },
    {
     "name": "stdout",
     "output_type": "stream",
     "text": [
      "Validation F1 Score: 0.52\n"
     ]
    },
    {
     "name": "stderr",
     "output_type": "stream",
     "text": [
      "Epoch 10/10: 100%|██████████| 132/132 [05:40<00:00,  2.58s/it]\n",
      "Validating: 100%|██████████| 33/33 [00:55<00:00,  1.69s/it]"
     ]
    },
    {
     "name": "stdout",
     "output_type": "stream",
     "text": [
      "Validation F1 Score: 0.54\n"
     ]
    },
    {
     "name": "stderr",
     "output_type": "stream",
     "text": [
      "\n"
     ]
    }
   ],
   "source": [
    "# 학습\n",
    "model.train()\n",
    "for epoch in range(CFG.epoch):\n",
    "    for batch in tqdm(train_loader, desc=f'Epoch {epoch + 1}/{CFG.epoch}'):\n",
    "        optimizer.zero_grad()\n",
    "        input_ids = batch['input_ids'].to(device)\n",
    "        attention_mask = batch['attention_mask'].to(device)\n",
    "        labels = batch['labels'].to(device)\n",
    "        outputs = model(input_ids, attention_mask=attention_mask, labels=labels)\n",
    "        loss = outputs.loss\n",
    "        loss.backward()\n",
    "        optimizer.step()\n",
    "\n",
    "    # Validation\n",
    "    model.eval()\n",
    "    val_predictions = []\n",
    "    val_true_labels = []\n",
    "    with torch.no_grad():\n",
    "        for batch in tqdm(val_loader, desc='Validating'):\n",
    "            input_ids = batch['input_ids'].to(device)\n",
    "            attention_mask = batch['attention_mask'].to(device)\n",
    "            labels = batch['labels'].to(device)\n",
    "            outputs = model(input_ids, attention_mask=attention_mask)\n",
    "            _, preds = torch.max(outputs.logits, dim=1)\n",
    "            val_predictions.extend(preds.cpu().tolist())\n",
    "            val_true_labels.extend(labels.cpu().tolist())\n",
    "    \n",
    "    # 검증 결과 출력\n",
    "    val_f1 = f1_score(val_true_labels, val_predictions, average='macro')\n",
    "    print(f\"Validation F1 Score: {val_f1:.2f}\")"
   ]
  },
  {
   "cell_type": "markdown",
   "id": "5aef0696",
   "metadata": {
    "papermill": {
     "duration": 0.136866,
     "end_time": "2024-10-13T13:53:16.790396",
     "exception": false,
     "start_time": "2024-10-13T13:53:16.653530",
     "status": "completed"
    },
    "tags": []
   },
   "source": [
    "# Inference"
   ]
  },
  {
   "cell_type": "code",
   "execution_count": 12,
   "id": "1d157c5f",
   "metadata": {
    "execution": {
     "iopub.execute_input": "2024-10-13T13:53:17.071287Z",
     "iopub.status.busy": "2024-10-13T13:53:17.070890Z",
     "iopub.status.idle": "2024-10-13T13:56:35.397609Z",
     "shell.execute_reply": "2024-10-13T13:56:35.396819Z"
    },
    "papermill": {
     "duration": 198.471351,
     "end_time": "2024-10-13T13:56:35.399942",
     "exception": false,
     "start_time": "2024-10-13T13:53:16.928591",
     "status": "completed"
    },
    "tags": []
   },
   "outputs": [
    {
     "name": "stderr",
     "output_type": "stream",
     "text": [
      "Testing: 100%|██████████| 183/183 [03:17<00:00,  1.08s/it]\n"
     ]
    }
   ],
   "source": [
    "model.eval()\n",
    "test_predictions = []\n",
    "\n",
    "with torch.no_grad():\n",
    "    for batch in tqdm(test_loader, desc='Testing'):\n",
    "        input_ids = batch['input_ids'].to(device)\n",
    "        attention_mask = batch['attention_mask'].to(device)\n",
    "        \n",
    "        # 모델을 통한 예측\n",
    "        outputs = model(input_ids, attention_mask=attention_mask)\n",
    "        _, preds = torch.max(outputs.logits, dim=1)\n",
    "        \n",
    "        # 예측 결과 저장\n",
    "        test_predictions.extend(preds.cpu().tolist())\n",
    "\n",
    "# test.csv 파일에서 'id' 값을 그대로 사용\n",
    "test_df = pd.read_csv('/kaggle/input/dacon-dataset/test.csv')  # test.csv에 'id' 칼럼이 존재한다고 가정\n",
    "\n",
    "# 라벨 디코딩\n",
    "label_decoder = {i: label for label, i in label_encoder.items()}\n",
    "decoded_predictions = [label_decoder[pred] for pred in test_predictions]\n",
    "\n"
   ]
  },
  {
   "cell_type": "code",
   "execution_count": 13,
   "id": "39508159",
   "metadata": {
    "execution": {
     "iopub.execute_input": "2024-10-13T13:56:35.706467Z",
     "iopub.status.busy": "2024-10-13T13:56:35.705634Z",
     "iopub.status.idle": "2024-10-13T13:56:35.754790Z",
     "shell.execute_reply": "2024-10-13T13:56:35.753930Z"
    },
    "papermill": {
     "duration": 0.204363,
     "end_time": "2024-10-13T13:56:35.756677",
     "exception": false,
     "start_time": "2024-10-13T13:56:35.552314",
     "status": "completed"
    },
    "tags": []
   },
   "outputs": [
    {
     "name": "stdout",
     "output_type": "stream",
     "text": [
      "예측 결과가 submission.csv 파일로 저장되었습니다.\n"
     ]
    }
   ],
   "source": [
    "# 예측 결과를 데이터프레임으로 저장\n",
    "df_results = pd.DataFrame({\n",
    "    'ID': test_df['ID'],             # test.csv의 'id' 값을 그대로 사용\n",
    "    '분류': decoded_predictions  # 디코딩된 예측 라벨\n",
    "})\n",
    "\n",
    "# CSV 파일로 저장\n",
    "df_results.to_csv('/kaggle/working/submission.csv', index=False)\n",
    "\n",
    "print(\"예측 결과가 submission.csv 파일로 저장되었습니다.\")"
   ]
  },
  {
   "cell_type": "code",
   "execution_count": 14,
   "id": "4d5f2e74",
   "metadata": {
    "execution": {
     "iopub.execute_input": "2024-10-13T13:56:36.080152Z",
     "iopub.status.busy": "2024-10-13T13:56:36.079534Z",
     "iopub.status.idle": "2024-10-13T13:56:36.101278Z",
     "shell.execute_reply": "2024-10-13T13:56:36.100377Z"
    },
    "papermill": {
     "duration": 0.182047,
     "end_time": "2024-10-13T13:56:36.103459",
     "exception": false,
     "start_time": "2024-10-13T13:56:35.921412",
     "status": "completed"
    },
    "tags": []
   },
   "outputs": [],
   "source": [
    "df=pd.read_csv('/kaggle/working/submission.csv')"
   ]
  },
  {
   "cell_type": "code",
   "execution_count": 15,
   "id": "8a8c1a07",
   "metadata": {
    "execution": {
     "iopub.execute_input": "2024-10-13T13:56:36.464605Z",
     "iopub.status.busy": "2024-10-13T13:56:36.463734Z",
     "iopub.status.idle": "2024-10-13T13:56:36.477613Z",
     "shell.execute_reply": "2024-10-13T13:56:36.476723Z"
    },
    "papermill": {
     "duration": 0.170287,
     "end_time": "2024-10-13T13:56:36.479556",
     "exception": false,
     "start_time": "2024-10-13T13:56:36.309269",
     "status": "completed"
    },
    "tags": []
   },
   "outputs": [
    {
     "data": {
      "text/html": [
       "<div>\n",
       "<style scoped>\n",
       "    .dataframe tbody tr th:only-of-type {\n",
       "        vertical-align: middle;\n",
       "    }\n",
       "\n",
       "    .dataframe tbody tr th {\n",
       "        vertical-align: top;\n",
       "    }\n",
       "\n",
       "    .dataframe thead th {\n",
       "        text-align: right;\n",
       "    }\n",
       "</style>\n",
       "<table border=\"1\" class=\"dataframe\">\n",
       "  <thead>\n",
       "    <tr style=\"text-align: right;\">\n",
       "      <th></th>\n",
       "      <th>ID</th>\n",
       "      <th>분류</th>\n",
       "    </tr>\n",
       "  </thead>\n",
       "  <tbody>\n",
       "    <tr>\n",
       "      <th>0</th>\n",
       "      <td>TEST_00000</td>\n",
       "      <td>사회:의료_건강</td>\n",
       "    </tr>\n",
       "    <tr>\n",
       "      <th>1</th>\n",
       "      <td>TEST_00001</td>\n",
       "      <td>사회:사회일반</td>\n",
       "    </tr>\n",
       "    <tr>\n",
       "      <th>2</th>\n",
       "      <td>TEST_00002</td>\n",
       "      <td>정치:정치일반</td>\n",
       "    </tr>\n",
       "    <tr>\n",
       "      <th>3</th>\n",
       "      <td>TEST_00003</td>\n",
       "      <td>경제:취업_창업</td>\n",
       "    </tr>\n",
       "    <tr>\n",
       "      <th>4</th>\n",
       "      <td>TEST_00004</td>\n",
       "      <td>지역</td>\n",
       "    </tr>\n",
       "    <tr>\n",
       "      <th>5</th>\n",
       "      <td>TEST_00005</td>\n",
       "      <td>경제:반도체</td>\n",
       "    </tr>\n",
       "    <tr>\n",
       "      <th>6</th>\n",
       "      <td>TEST_00006</td>\n",
       "      <td>지역</td>\n",
       "    </tr>\n",
       "    <tr>\n",
       "      <th>7</th>\n",
       "      <td>TEST_00007</td>\n",
       "      <td>국제</td>\n",
       "    </tr>\n",
       "    <tr>\n",
       "      <th>8</th>\n",
       "      <td>TEST_00008</td>\n",
       "      <td>사회:사건_사고</td>\n",
       "    </tr>\n",
       "    <tr>\n",
       "      <th>9</th>\n",
       "      <td>TEST_00009</td>\n",
       "      <td>지역</td>\n",
       "    </tr>\n",
       "    <tr>\n",
       "      <th>10</th>\n",
       "      <td>TEST_00010</td>\n",
       "      <td>경제:부동산</td>\n",
       "    </tr>\n",
       "    <tr>\n",
       "      <th>11</th>\n",
       "      <td>TEST_00011</td>\n",
       "      <td>정치:국회_정당</td>\n",
       "    </tr>\n",
       "    <tr>\n",
       "      <th>12</th>\n",
       "      <td>TEST_00012</td>\n",
       "      <td>지역</td>\n",
       "    </tr>\n",
       "    <tr>\n",
       "      <th>13</th>\n",
       "      <td>TEST_00013</td>\n",
       "      <td>문화:문화일반</td>\n",
       "    </tr>\n",
       "    <tr>\n",
       "      <th>14</th>\n",
       "      <td>TEST_00014</td>\n",
       "      <td>IT_과학:인터넷_SNS</td>\n",
       "    </tr>\n",
       "    <tr>\n",
       "      <th>15</th>\n",
       "      <td>TEST_00015</td>\n",
       "      <td>문화:전시_공연</td>\n",
       "    </tr>\n",
       "    <tr>\n",
       "      <th>16</th>\n",
       "      <td>TEST_00016</td>\n",
       "      <td>사회:사회일반</td>\n",
       "    </tr>\n",
       "    <tr>\n",
       "      <th>17</th>\n",
       "      <td>TEST_00017</td>\n",
       "      <td>지역</td>\n",
       "    </tr>\n",
       "    <tr>\n",
       "      <th>18</th>\n",
       "      <td>TEST_00018</td>\n",
       "      <td>지역</td>\n",
       "    </tr>\n",
       "    <tr>\n",
       "      <th>19</th>\n",
       "      <td>TEST_00019</td>\n",
       "      <td>IT_과학:과학</td>\n",
       "    </tr>\n",
       "    <tr>\n",
       "      <th>20</th>\n",
       "      <td>TEST_00020</td>\n",
       "      <td>문화:문화일반</td>\n",
       "    </tr>\n",
       "    <tr>\n",
       "      <th>21</th>\n",
       "      <td>TEST_00021</td>\n",
       "      <td>지역</td>\n",
       "    </tr>\n",
       "    <tr>\n",
       "      <th>22</th>\n",
       "      <td>TEST_00022</td>\n",
       "      <td>경제:부동산</td>\n",
       "    </tr>\n",
       "    <tr>\n",
       "      <th>23</th>\n",
       "      <td>TEST_00023</td>\n",
       "      <td>지역</td>\n",
       "    </tr>\n",
       "    <tr>\n",
       "      <th>24</th>\n",
       "      <td>TEST_00024</td>\n",
       "      <td>지역</td>\n",
       "    </tr>\n",
       "    <tr>\n",
       "      <th>25</th>\n",
       "      <td>TEST_00025</td>\n",
       "      <td>지역</td>\n",
       "    </tr>\n",
       "    <tr>\n",
       "      <th>26</th>\n",
       "      <td>TEST_00026</td>\n",
       "      <td>지역</td>\n",
       "    </tr>\n",
       "    <tr>\n",
       "      <th>27</th>\n",
       "      <td>TEST_00027</td>\n",
       "      <td>경제:취업_창업</td>\n",
       "    </tr>\n",
       "    <tr>\n",
       "      <th>28</th>\n",
       "      <td>TEST_00028</td>\n",
       "      <td>스포츠:골프</td>\n",
       "    </tr>\n",
       "    <tr>\n",
       "      <th>29</th>\n",
       "      <td>TEST_00029</td>\n",
       "      <td>사회:사건_사고</td>\n",
       "    </tr>\n",
       "    <tr>\n",
       "      <th>30</th>\n",
       "      <td>TEST_00030</td>\n",
       "      <td>지역</td>\n",
       "    </tr>\n",
       "    <tr>\n",
       "      <th>31</th>\n",
       "      <td>TEST_00031</td>\n",
       "      <td>지역</td>\n",
       "    </tr>\n",
       "    <tr>\n",
       "      <th>32</th>\n",
       "      <td>TEST_00032</td>\n",
       "      <td>지역</td>\n",
       "    </tr>\n",
       "    <tr>\n",
       "      <th>33</th>\n",
       "      <td>TEST_00033</td>\n",
       "      <td>경제:부동산</td>\n",
       "    </tr>\n",
       "    <tr>\n",
       "      <th>34</th>\n",
       "      <td>TEST_00034</td>\n",
       "      <td>지역</td>\n",
       "    </tr>\n",
       "    <tr>\n",
       "      <th>35</th>\n",
       "      <td>TEST_00035</td>\n",
       "      <td>지역</td>\n",
       "    </tr>\n",
       "    <tr>\n",
       "      <th>36</th>\n",
       "      <td>TEST_00036</td>\n",
       "      <td>지역</td>\n",
       "    </tr>\n",
       "    <tr>\n",
       "      <th>37</th>\n",
       "      <td>TEST_00037</td>\n",
       "      <td>문화:문화일반</td>\n",
       "    </tr>\n",
       "    <tr>\n",
       "      <th>38</th>\n",
       "      <td>TEST_00038</td>\n",
       "      <td>경제:취업_창업</td>\n",
       "    </tr>\n",
       "    <tr>\n",
       "      <th>39</th>\n",
       "      <td>TEST_00039</td>\n",
       "      <td>문화:방송_연예</td>\n",
       "    </tr>\n",
       "    <tr>\n",
       "      <th>40</th>\n",
       "      <td>TEST_00040</td>\n",
       "      <td>경제:부동산</td>\n",
       "    </tr>\n",
       "    <tr>\n",
       "      <th>41</th>\n",
       "      <td>TEST_00041</td>\n",
       "      <td>지역</td>\n",
       "    </tr>\n",
       "    <tr>\n",
       "      <th>42</th>\n",
       "      <td>TEST_00042</td>\n",
       "      <td>지역</td>\n",
       "    </tr>\n",
       "    <tr>\n",
       "      <th>43</th>\n",
       "      <td>TEST_00043</td>\n",
       "      <td>지역</td>\n",
       "    </tr>\n",
       "    <tr>\n",
       "      <th>44</th>\n",
       "      <td>TEST_00044</td>\n",
       "      <td>지역</td>\n",
       "    </tr>\n",
       "    <tr>\n",
       "      <th>45</th>\n",
       "      <td>TEST_00045</td>\n",
       "      <td>사회:사건_사고</td>\n",
       "    </tr>\n",
       "    <tr>\n",
       "      <th>46</th>\n",
       "      <td>TEST_00046</td>\n",
       "      <td>사회:장애인</td>\n",
       "    </tr>\n",
       "    <tr>\n",
       "      <th>47</th>\n",
       "      <td>TEST_00047</td>\n",
       "      <td>지역</td>\n",
       "    </tr>\n",
       "    <tr>\n",
       "      <th>48</th>\n",
       "      <td>TEST_00048</td>\n",
       "      <td>스포츠:올림픽_아시안게임</td>\n",
       "    </tr>\n",
       "    <tr>\n",
       "      <th>49</th>\n",
       "      <td>TEST_00049</td>\n",
       "      <td>지역</td>\n",
       "    </tr>\n",
       "  </tbody>\n",
       "</table>\n",
       "</div>"
      ],
      "text/plain": [
       "            ID             분류\n",
       "0   TEST_00000       사회:의료_건강\n",
       "1   TEST_00001        사회:사회일반\n",
       "2   TEST_00002        정치:정치일반\n",
       "3   TEST_00003       경제:취업_창업\n",
       "4   TEST_00004             지역\n",
       "5   TEST_00005         경제:반도체\n",
       "6   TEST_00006             지역\n",
       "7   TEST_00007             국제\n",
       "8   TEST_00008       사회:사건_사고\n",
       "9   TEST_00009             지역\n",
       "10  TEST_00010         경제:부동산\n",
       "11  TEST_00011       정치:국회_정당\n",
       "12  TEST_00012             지역\n",
       "13  TEST_00013        문화:문화일반\n",
       "14  TEST_00014  IT_과학:인터넷_SNS\n",
       "15  TEST_00015       문화:전시_공연\n",
       "16  TEST_00016        사회:사회일반\n",
       "17  TEST_00017             지역\n",
       "18  TEST_00018             지역\n",
       "19  TEST_00019       IT_과학:과학\n",
       "20  TEST_00020        문화:문화일반\n",
       "21  TEST_00021             지역\n",
       "22  TEST_00022         경제:부동산\n",
       "23  TEST_00023             지역\n",
       "24  TEST_00024             지역\n",
       "25  TEST_00025             지역\n",
       "26  TEST_00026             지역\n",
       "27  TEST_00027       경제:취업_창업\n",
       "28  TEST_00028         스포츠:골프\n",
       "29  TEST_00029       사회:사건_사고\n",
       "30  TEST_00030             지역\n",
       "31  TEST_00031             지역\n",
       "32  TEST_00032             지역\n",
       "33  TEST_00033         경제:부동산\n",
       "34  TEST_00034             지역\n",
       "35  TEST_00035             지역\n",
       "36  TEST_00036             지역\n",
       "37  TEST_00037        문화:문화일반\n",
       "38  TEST_00038       경제:취업_창업\n",
       "39  TEST_00039       문화:방송_연예\n",
       "40  TEST_00040         경제:부동산\n",
       "41  TEST_00041             지역\n",
       "42  TEST_00042             지역\n",
       "43  TEST_00043             지역\n",
       "44  TEST_00044             지역\n",
       "45  TEST_00045       사회:사건_사고\n",
       "46  TEST_00046         사회:장애인\n",
       "47  TEST_00047             지역\n",
       "48  TEST_00048  스포츠:올림픽_아시안게임\n",
       "49  TEST_00049             지역"
      ]
     },
     "execution_count": 15,
     "metadata": {},
     "output_type": "execute_result"
    }
   ],
   "source": [
    "df.head(50)"
   ]
  }
 ],
 "metadata": {
  "kaggle": {
   "accelerator": "gpu",
   "dataSources": [
    {
     "datasetId": 5773582,
     "sourceId": 9489760,
     "sourceType": "datasetVersion"
    },
    {
     "datasetId": 5773762,
     "sourceId": 9490030,
     "sourceType": "datasetVersion"
    },
    {
     "datasetId": 5846609,
     "sourceId": 9586995,
     "sourceType": "datasetVersion"
    },
    {
     "datasetId": 5863841,
     "sourceId": 9610079,
     "sourceType": "datasetVersion"
    },
    {
     "datasetId": 5867262,
     "sourceId": 9614670,
     "sourceType": "datasetVersion"
    }
   ],
   "dockerImageVersionId": 30776,
   "isGpuEnabled": true,
   "isInternetEnabled": true,
   "language": "python",
   "sourceType": "notebook"
  },
  "kernelspec": {
   "display_name": "Python 3",
   "language": "python",
   "name": "python3"
  },
  "language_info": {
   "codemirror_mode": {
    "name": "ipython",
    "version": 3
   },
   "file_extension": ".py",
   "mimetype": "text/x-python",
   "name": "python",
   "nbconvert_exporter": "python",
   "pygments_lexer": "ipython3",
   "version": "3.10.14"
  },
  "papermill": {
   "default_parameters": {},
   "duration": 4180.607614,
   "end_time": "2024-10-13T13:56:39.166184",
   "environment_variables": {},
   "exception": null,
   "input_path": "__notebook__.ipynb",
   "output_path": "__notebook__.ipynb",
   "parameters": {},
   "start_time": "2024-10-13T12:46:58.558570",
   "version": "2.6.0"
  },
  "widgets": {
   "application/vnd.jupyter.widget-state+json": {
    "state": {
     "0131dd6d74eb4f5b8a97ef98964dc347": {
      "model_module": "@jupyter-widgets/controls",
      "model_module_version": "1.5.0",
      "model_name": "ProgressStyleModel",
      "state": {
       "_model_module": "@jupyter-widgets/controls",
       "_model_module_version": "1.5.0",
       "_model_name": "ProgressStyleModel",
       "_view_count": null,
       "_view_module": "@jupyter-widgets/base",
       "_view_module_version": "1.2.0",
       "_view_name": "StyleView",
       "bar_color": null,
       "description_width": ""
      }
     },
     "0f818a95135b42f2a99ba0080e344387": {
      "model_module": "@jupyter-widgets/controls",
      "model_module_version": "1.5.0",
      "model_name": "ProgressStyleModel",
      "state": {
       "_model_module": "@jupyter-widgets/controls",
       "_model_module_version": "1.5.0",
       "_model_name": "ProgressStyleModel",
       "_view_count": null,
       "_view_module": "@jupyter-widgets/base",
       "_view_module_version": "1.2.0",
       "_view_name": "StyleView",
       "bar_color": null,
       "description_width": ""
      }
     },
     "1224db92d98248eab465477d107fcedf": {
      "model_module": "@jupyter-widgets/controls",
      "model_module_version": "1.5.0",
      "model_name": "HTMLModel",
      "state": {
       "_dom_classes": [],
       "_model_module": "@jupyter-widgets/controls",
       "_model_module_version": "1.5.0",
       "_model_name": "HTMLModel",
       "_view_count": null,
       "_view_module": "@jupyter-widgets/controls",
       "_view_module_version": "1.5.0",
       "_view_name": "HTMLView",
       "description": "",
       "description_tooltip": null,
       "layout": "IPY_MODEL_3f64fa410d30473b822f8dc0a2de58dd",
       "placeholder": "​",
       "style": "IPY_MODEL_3de572a69c514a3d8b5c3dc70fe48c1c",
       "value": " 426/426 [00:00&lt;00:00, 35.2kB/s]"
      }
     },
     "19a4e0ec6ba64e1e8b6ce9beb33139cc": {
      "model_module": "@jupyter-widgets/controls",
      "model_module_version": "1.5.0",
      "model_name": "HTMLModel",
      "state": {
       "_dom_classes": [],
       "_model_module": "@jupyter-widgets/controls",
       "_model_module_version": "1.5.0",
       "_model_name": "HTMLModel",
       "_view_count": null,
       "_view_module": "@jupyter-widgets/controls",
       "_view_module_version": "1.5.0",
       "_view_name": "HTMLView",
       "description": "",
       "description_tooltip": null,
       "layout": "IPY_MODEL_ec29a6fbc167489db369a13b7f667203",
       "placeholder": "​",
       "style": "IPY_MODEL_1af49e21aeda45a388c85d20e4c2bbe9",
       "value": "tokenizer_config.json: 100%"
      }
     },
     "1af49e21aeda45a388c85d20e4c2bbe9": {
      "model_module": "@jupyter-widgets/controls",
      "model_module_version": "1.5.0",
      "model_name": "DescriptionStyleModel",
      "state": {
       "_model_module": "@jupyter-widgets/controls",
       "_model_module_version": "1.5.0",
       "_model_name": "DescriptionStyleModel",
       "_view_count": null,
       "_view_module": "@jupyter-widgets/base",
       "_view_module_version": "1.2.0",
       "_view_name": "StyleView",
       "description_width": ""
      }
     },
     "2b17a0805c964782ab145ca6bb0e90e1": {
      "model_module": "@jupyter-widgets/base",
      "model_module_version": "1.2.0",
      "model_name": "LayoutModel",
      "state": {
       "_model_module": "@jupyter-widgets/base",
       "_model_module_version": "1.2.0",
       "_model_name": "LayoutModel",
       "_view_count": null,
       "_view_module": "@jupyter-widgets/base",
       "_view_module_version": "1.2.0",
       "_view_name": "LayoutView",
       "align_content": null,
       "align_items": null,
       "align_self": null,
       "border": null,
       "bottom": null,
       "display": null,
       "flex": null,
       "flex_flow": null,
       "grid_area": null,
       "grid_auto_columns": null,
       "grid_auto_flow": null,
       "grid_auto_rows": null,
       "grid_column": null,
       "grid_gap": null,
       "grid_row": null,
       "grid_template_areas": null,
       "grid_template_columns": null,
       "grid_template_rows": null,
       "height": null,
       "justify_content": null,
       "justify_items": null,
       "left": null,
       "margin": null,
       "max_height": null,
       "max_width": null,
       "min_height": null,
       "min_width": null,
       "object_fit": null,
       "object_position": null,
       "order": null,
       "overflow": null,
       "overflow_x": null,
       "overflow_y": null,
       "padding": null,
       "right": null,
       "top": null,
       "visibility": null,
       "width": null
      }
     },
     "34874379b271405db47d969385560149": {
      "model_module": "@jupyter-widgets/controls",
      "model_module_version": "1.5.0",
      "model_name": "HTMLModel",
      "state": {
       "_dom_classes": [],
       "_model_module": "@jupyter-widgets/controls",
       "_model_module_version": "1.5.0",
       "_model_name": "HTMLModel",
       "_view_count": null,
       "_view_module": "@jupyter-widgets/controls",
       "_view_module_version": "1.5.0",
       "_view_name": "HTMLView",
       "description": "",
       "description_tooltip": null,
       "layout": "IPY_MODEL_2b17a0805c964782ab145ca6bb0e90e1",
       "placeholder": "​",
       "style": "IPY_MODEL_ea2402e4b1d64e3e96eb8896bce27de9",
       "value": "model.safetensors: 100%"
      }
     },
     "34caee92348c42119b0ebc0d6f982258": {
      "model_module": "@jupyter-widgets/controls",
      "model_module_version": "1.5.0",
      "model_name": "HTMLModel",
      "state": {
       "_dom_classes": [],
       "_model_module": "@jupyter-widgets/controls",
       "_model_module_version": "1.5.0",
       "_model_name": "HTMLModel",
       "_view_count": null,
       "_view_module": "@jupyter-widgets/controls",
       "_view_module_version": "1.5.0",
       "_view_name": "HTMLView",
       "description": "",
       "description_tooltip": null,
       "layout": "IPY_MODEL_58d5092bb54240a0941d05c8a61c1c7b",
       "placeholder": "​",
       "style": "IPY_MODEL_bff33e863c6b45efa4b4a7d86f9f64bd",
       "value": "config.json: 100%"
      }
     },
     "3de572a69c514a3d8b5c3dc70fe48c1c": {
      "model_module": "@jupyter-widgets/controls",
      "model_module_version": "1.5.0",
      "model_name": "DescriptionStyleModel",
      "state": {
       "_model_module": "@jupyter-widgets/controls",
       "_model_module_version": "1.5.0",
       "_model_name": "DescriptionStyleModel",
       "_view_count": null,
       "_view_module": "@jupyter-widgets/base",
       "_view_module_version": "1.2.0",
       "_view_name": "StyleView",
       "description_width": ""
      }
     },
     "3f64fa410d30473b822f8dc0a2de58dd": {
      "model_module": "@jupyter-widgets/base",
      "model_module_version": "1.2.0",
      "model_name": "LayoutModel",
      "state": {
       "_model_module": "@jupyter-widgets/base",
       "_model_module_version": "1.2.0",
       "_model_name": "LayoutModel",
       "_view_count": null,
       "_view_module": "@jupyter-widgets/base",
       "_view_module_version": "1.2.0",
       "_view_name": "LayoutView",
       "align_content": null,
       "align_items": null,
       "align_self": null,
       "border": null,
       "bottom": null,
       "display": null,
       "flex": null,
       "flex_flow": null,
       "grid_area": null,
       "grid_auto_columns": null,
       "grid_auto_flow": null,
       "grid_auto_rows": null,
       "grid_column": null,
       "grid_gap": null,
       "grid_row": null,
       "grid_template_areas": null,
       "grid_template_columns": null,
       "grid_template_rows": null,
       "height": null,
       "justify_content": null,
       "justify_items": null,
       "left": null,
       "margin": null,
       "max_height": null,
       "max_width": null,
       "min_height": null,
       "min_width": null,
       "object_fit": null,
       "object_position": null,
       "order": null,
       "overflow": null,
       "overflow_x": null,
       "overflow_y": null,
       "padding": null,
       "right": null,
       "top": null,
       "visibility": null,
       "width": null
      }
     },
     "3fd1d85899d840c591cef5b1135838f9": {
      "model_module": "@jupyter-widgets/controls",
      "model_module_version": "1.5.0",
      "model_name": "HTMLModel",
      "state": {
       "_dom_classes": [],
       "_model_module": "@jupyter-widgets/controls",
       "_model_module_version": "1.5.0",
       "_model_name": "HTMLModel",
       "_view_count": null,
       "_view_module": "@jupyter-widgets/controls",
       "_view_module_version": "1.5.0",
       "_view_name": "HTMLView",
       "description": "",
       "description_tooltip": null,
       "layout": "IPY_MODEL_4e3e63c3ba874e818a2cd35e1cc543ba",
       "placeholder": "​",
       "style": "IPY_MODEL_7f3b4b95cf234cd8b7c16bf65ccb2efe",
       "value": "vocab.txt: 100%"
      }
     },
     "468b7d229ea946f6a4fcf9ba34dfb862": {
      "model_module": "@jupyter-widgets/base",
      "model_module_version": "1.2.0",
      "model_name": "LayoutModel",
      "state": {
       "_model_module": "@jupyter-widgets/base",
       "_model_module_version": "1.2.0",
       "_model_name": "LayoutModel",
       "_view_count": null,
       "_view_module": "@jupyter-widgets/base",
       "_view_module_version": "1.2.0",
       "_view_name": "LayoutView",
       "align_content": null,
       "align_items": null,
       "align_self": null,
       "border": null,
       "bottom": null,
       "display": null,
       "flex": null,
       "flex_flow": null,
       "grid_area": null,
       "grid_auto_columns": null,
       "grid_auto_flow": null,
       "grid_auto_rows": null,
       "grid_column": null,
       "grid_gap": null,
       "grid_row": null,
       "grid_template_areas": null,
       "grid_template_columns": null,
       "grid_template_rows": null,
       "height": null,
       "justify_content": null,
       "justify_items": null,
       "left": null,
       "margin": null,
       "max_height": null,
       "max_width": null,
       "min_height": null,
       "min_width": null,
       "object_fit": null,
       "object_position": null,
       "order": null,
       "overflow": null,
       "overflow_x": null,
       "overflow_y": null,
       "padding": null,
       "right": null,
       "top": null,
       "visibility": null,
       "width": null
      }
     },
     "488f84b076d84ecdabfda8f576f47ebc": {
      "model_module": "@jupyter-widgets/controls",
      "model_module_version": "1.5.0",
      "model_name": "HBoxModel",
      "state": {
       "_dom_classes": [],
       "_model_module": "@jupyter-widgets/controls",
       "_model_module_version": "1.5.0",
       "_model_name": "HBoxModel",
       "_view_count": null,
       "_view_module": "@jupyter-widgets/controls",
       "_view_module_version": "1.5.0",
       "_view_name": "HBoxView",
       "box_style": "",
       "children": [
        "IPY_MODEL_19a4e0ec6ba64e1e8b6ce9beb33139cc",
        "IPY_MODEL_f857672443fe451fa65b7223f250e3ba",
        "IPY_MODEL_a7ea1255b2ea48f3b85aae56625a47b9"
       ],
       "layout": "IPY_MODEL_fd01c0e38e8543ea8ee212fbe0c5276a"
      }
     },
     "4d77a483b2914ab79a1897297f6b5359": {
      "model_module": "@jupyter-widgets/controls",
      "model_module_version": "1.5.0",
      "model_name": "HBoxModel",
      "state": {
       "_dom_classes": [],
       "_model_module": "@jupyter-widgets/controls",
       "_model_module_version": "1.5.0",
       "_model_name": "HBoxModel",
       "_view_count": null,
       "_view_module": "@jupyter-widgets/controls",
       "_view_module_version": "1.5.0",
       "_view_name": "HBoxView",
       "box_style": "",
       "children": [
        "IPY_MODEL_34caee92348c42119b0ebc0d6f982258",
        "IPY_MODEL_50fd7c496ed4466fbf540d78f372df1e",
        "IPY_MODEL_1224db92d98248eab465477d107fcedf"
       ],
       "layout": "IPY_MODEL_78e2665dbf25403bbd05cb05a38b7a96"
      }
     },
     "4db1fa40c114401fb1544b1e59cac7f3": {
      "model_module": "@jupyter-widgets/controls",
      "model_module_version": "1.5.0",
      "model_name": "HBoxModel",
      "state": {
       "_dom_classes": [],
       "_model_module": "@jupyter-widgets/controls",
       "_model_module_version": "1.5.0",
       "_model_name": "HBoxModel",
       "_view_count": null,
       "_view_module": "@jupyter-widgets/controls",
       "_view_module_version": "1.5.0",
       "_view_name": "HBoxView",
       "box_style": "",
       "children": [
        "IPY_MODEL_34874379b271405db47d969385560149",
        "IPY_MODEL_79f02ca25bb24f6186ac397373c10856",
        "IPY_MODEL_88b57fa6163a44688f1e26bff00d7c82"
       ],
       "layout": "IPY_MODEL_468b7d229ea946f6a4fcf9ba34dfb862"
      }
     },
     "4e3e63c3ba874e818a2cd35e1cc543ba": {
      "model_module": "@jupyter-widgets/base",
      "model_module_version": "1.2.0",
      "model_name": "LayoutModel",
      "state": {
       "_model_module": "@jupyter-widgets/base",
       "_model_module_version": "1.2.0",
       "_model_name": "LayoutModel",
       "_view_count": null,
       "_view_module": "@jupyter-widgets/base",
       "_view_module_version": "1.2.0",
       "_view_name": "LayoutView",
       "align_content": null,
       "align_items": null,
       "align_self": null,
       "border": null,
       "bottom": null,
       "display": null,
       "flex": null,
       "flex_flow": null,
       "grid_area": null,
       "grid_auto_columns": null,
       "grid_auto_flow": null,
       "grid_auto_rows": null,
       "grid_column": null,
       "grid_gap": null,
       "grid_row": null,
       "grid_template_areas": null,
       "grid_template_columns": null,
       "grid_template_rows": null,
       "height": null,
       "justify_content": null,
       "justify_items": null,
       "left": null,
       "margin": null,
       "max_height": null,
       "max_width": null,
       "min_height": null,
       "min_width": null,
       "object_fit": null,
       "object_position": null,
       "order": null,
       "overflow": null,
       "overflow_x": null,
       "overflow_y": null,
       "padding": null,
       "right": null,
       "top": null,
       "visibility": null,
       "width": null
      }
     },
     "50fd7c496ed4466fbf540d78f372df1e": {
      "model_module": "@jupyter-widgets/controls",
      "model_module_version": "1.5.0",
      "model_name": "FloatProgressModel",
      "state": {
       "_dom_classes": [],
       "_model_module": "@jupyter-widgets/controls",
       "_model_module_version": "1.5.0",
       "_model_name": "FloatProgressModel",
       "_view_count": null,
       "_view_module": "@jupyter-widgets/controls",
       "_view_module_version": "1.5.0",
       "_view_name": "ProgressView",
       "bar_style": "success",
       "description": "",
       "description_tooltip": null,
       "layout": "IPY_MODEL_cc0b354eec9a4ca69e4167275740d288",
       "max": 426.0,
       "min": 0.0,
       "orientation": "horizontal",
       "style": "IPY_MODEL_f599bd628e884d31b85c2257772ad656",
       "value": 426.0
      }
     },
     "58d5092bb54240a0941d05c8a61c1c7b": {
      "model_module": "@jupyter-widgets/base",
      "model_module_version": "1.2.0",
      "model_name": "LayoutModel",
      "state": {
       "_model_module": "@jupyter-widgets/base",
       "_model_module_version": "1.2.0",
       "_model_name": "LayoutModel",
       "_view_count": null,
       "_view_module": "@jupyter-widgets/base",
       "_view_module_version": "1.2.0",
       "_view_name": "LayoutView",
       "align_content": null,
       "align_items": null,
       "align_self": null,
       "border": null,
       "bottom": null,
       "display": null,
       "flex": null,
       "flex_flow": null,
       "grid_area": null,
       "grid_auto_columns": null,
       "grid_auto_flow": null,
       "grid_auto_rows": null,
       "grid_column": null,
       "grid_gap": null,
       "grid_row": null,
       "grid_template_areas": null,
       "grid_template_columns": null,
       "grid_template_rows": null,
       "height": null,
       "justify_content": null,
       "justify_items": null,
       "left": null,
       "margin": null,
       "max_height": null,
       "max_width": null,
       "min_height": null,
       "min_width": null,
       "object_fit": null,
       "object_position": null,
       "order": null,
       "overflow": null,
       "overflow_x": null,
       "overflow_y": null,
       "padding": null,
       "right": null,
       "top": null,
       "visibility": null,
       "width": null
      }
     },
     "5fc91509c01d4a5fbead6621282a5294": {
      "model_module": "@jupyter-widgets/controls",
      "model_module_version": "1.5.0",
      "model_name": "HBoxModel",
      "state": {
       "_dom_classes": [],
       "_model_module": "@jupyter-widgets/controls",
       "_model_module_version": "1.5.0",
       "_model_name": "HBoxModel",
       "_view_count": null,
       "_view_module": "@jupyter-widgets/controls",
       "_view_module_version": "1.5.0",
       "_view_name": "HBoxView",
       "box_style": "",
       "children": [
        "IPY_MODEL_3fd1d85899d840c591cef5b1135838f9",
        "IPY_MODEL_cf015665fa7c46bbbd866a6a7725c256",
        "IPY_MODEL_686a13c3e4324e8c842bd13ce52d2040"
       ],
       "layout": "IPY_MODEL_9b18859df5c54615b59c7f1d4fc40911"
      }
     },
     "686a13c3e4324e8c842bd13ce52d2040": {
      "model_module": "@jupyter-widgets/controls",
      "model_module_version": "1.5.0",
      "model_name": "HTMLModel",
      "state": {
       "_dom_classes": [],
       "_model_module": "@jupyter-widgets/controls",
       "_model_module_version": "1.5.0",
       "_model_name": "HTMLModel",
       "_view_count": null,
       "_view_module": "@jupyter-widgets/controls",
       "_view_module_version": "1.5.0",
       "_view_name": "HTMLView",
       "description": "",
       "description_tooltip": null,
       "layout": "IPY_MODEL_8542a7a9a2514870b1643a0638d244da",
       "placeholder": "​",
       "style": "IPY_MODEL_a80f7c9243444e108b70e55a1055db19",
       "value": " 77.8k/77.8k [00:00&lt;00:00, 3.02MB/s]"
      }
     },
     "703858e8e35543faa535f03426386c96": {
      "model_module": "@jupyter-widgets/base",
      "model_module_version": "1.2.0",
      "model_name": "LayoutModel",
      "state": {
       "_model_module": "@jupyter-widgets/base",
       "_model_module_version": "1.2.0",
       "_model_name": "LayoutModel",
       "_view_count": null,
       "_view_module": "@jupyter-widgets/base",
       "_view_module_version": "1.2.0",
       "_view_name": "LayoutView",
       "align_content": null,
       "align_items": null,
       "align_self": null,
       "border": null,
       "bottom": null,
       "display": null,
       "flex": null,
       "flex_flow": null,
       "grid_area": null,
       "grid_auto_columns": null,
       "grid_auto_flow": null,
       "grid_auto_rows": null,
       "grid_column": null,
       "grid_gap": null,
       "grid_row": null,
       "grid_template_areas": null,
       "grid_template_columns": null,
       "grid_template_rows": null,
       "height": null,
       "justify_content": null,
       "justify_items": null,
       "left": null,
       "margin": null,
       "max_height": null,
       "max_width": null,
       "min_height": null,
       "min_width": null,
       "object_fit": null,
       "object_position": null,
       "order": null,
       "overflow": null,
       "overflow_x": null,
       "overflow_y": null,
       "padding": null,
       "right": null,
       "top": null,
       "visibility": null,
       "width": null
      }
     },
     "78e2665dbf25403bbd05cb05a38b7a96": {
      "model_module": "@jupyter-widgets/base",
      "model_module_version": "1.2.0",
      "model_name": "LayoutModel",
      "state": {
       "_model_module": "@jupyter-widgets/base",
       "_model_module_version": "1.2.0",
       "_model_name": "LayoutModel",
       "_view_count": null,
       "_view_module": "@jupyter-widgets/base",
       "_view_module_version": "1.2.0",
       "_view_name": "LayoutView",
       "align_content": null,
       "align_items": null,
       "align_self": null,
       "border": null,
       "bottom": null,
       "display": null,
       "flex": null,
       "flex_flow": null,
       "grid_area": null,
       "grid_auto_columns": null,
       "grid_auto_flow": null,
       "grid_auto_rows": null,
       "grid_column": null,
       "grid_gap": null,
       "grid_row": null,
       "grid_template_areas": null,
       "grid_template_columns": null,
       "grid_template_rows": null,
       "height": null,
       "justify_content": null,
       "justify_items": null,
       "left": null,
       "margin": null,
       "max_height": null,
       "max_width": null,
       "min_height": null,
       "min_width": null,
       "object_fit": null,
       "object_position": null,
       "order": null,
       "overflow": null,
       "overflow_x": null,
       "overflow_y": null,
       "padding": null,
       "right": null,
       "top": null,
       "visibility": null,
       "width": null
      }
     },
     "79f02ca25bb24f6186ac397373c10856": {
      "model_module": "@jupyter-widgets/controls",
      "model_module_version": "1.5.0",
      "model_name": "FloatProgressModel",
      "state": {
       "_dom_classes": [],
       "_model_module": "@jupyter-widgets/controls",
       "_model_module_version": "1.5.0",
       "_model_name": "FloatProgressModel",
       "_view_count": null,
       "_view_module": "@jupyter-widgets/controls",
       "_view_module_version": "1.5.0",
       "_view_name": "ProgressView",
       "bar_style": "success",
       "description": "",
       "description_tooltip": null,
       "layout": "IPY_MODEL_b9dbbeeea15a41d68f2ed19d465690d7",
       "max": 368769812.0,
       "min": 0.0,
       "orientation": "horizontal",
       "style": "IPY_MODEL_cde2795372ea455090f2990e73abca1e",
       "value": 368769812.0
      }
     },
     "7f3b4b95cf234cd8b7c16bf65ccb2efe": {
      "model_module": "@jupyter-widgets/controls",
      "model_module_version": "1.5.0",
      "model_name": "DescriptionStyleModel",
      "state": {
       "_model_module": "@jupyter-widgets/controls",
       "_model_module_version": "1.5.0",
       "_model_name": "DescriptionStyleModel",
       "_view_count": null,
       "_view_module": "@jupyter-widgets/base",
       "_view_module_version": "1.2.0",
       "_view_name": "StyleView",
       "description_width": ""
      }
     },
     "84dd738d9aaf4047918a28d7c9566440": {
      "model_module": "@jupyter-widgets/base",
      "model_module_version": "1.2.0",
      "model_name": "LayoutModel",
      "state": {
       "_model_module": "@jupyter-widgets/base",
       "_model_module_version": "1.2.0",
       "_model_name": "LayoutModel",
       "_view_count": null,
       "_view_module": "@jupyter-widgets/base",
       "_view_module_version": "1.2.0",
       "_view_name": "LayoutView",
       "align_content": null,
       "align_items": null,
       "align_self": null,
       "border": null,
       "bottom": null,
       "display": null,
       "flex": null,
       "flex_flow": null,
       "grid_area": null,
       "grid_auto_columns": null,
       "grid_auto_flow": null,
       "grid_auto_rows": null,
       "grid_column": null,
       "grid_gap": null,
       "grid_row": null,
       "grid_template_areas": null,
       "grid_template_columns": null,
       "grid_template_rows": null,
       "height": null,
       "justify_content": null,
       "justify_items": null,
       "left": null,
       "margin": null,
       "max_height": null,
       "max_width": null,
       "min_height": null,
       "min_width": null,
       "object_fit": null,
       "object_position": null,
       "order": null,
       "overflow": null,
       "overflow_x": null,
       "overflow_y": null,
       "padding": null,
       "right": null,
       "top": null,
       "visibility": null,
       "width": null
      }
     },
     "8542a7a9a2514870b1643a0638d244da": {
      "model_module": "@jupyter-widgets/base",
      "model_module_version": "1.2.0",
      "model_name": "LayoutModel",
      "state": {
       "_model_module": "@jupyter-widgets/base",
       "_model_module_version": "1.2.0",
       "_model_name": "LayoutModel",
       "_view_count": null,
       "_view_module": "@jupyter-widgets/base",
       "_view_module_version": "1.2.0",
       "_view_name": "LayoutView",
       "align_content": null,
       "align_items": null,
       "align_self": null,
       "border": null,
       "bottom": null,
       "display": null,
       "flex": null,
       "flex_flow": null,
       "grid_area": null,
       "grid_auto_columns": null,
       "grid_auto_flow": null,
       "grid_auto_rows": null,
       "grid_column": null,
       "grid_gap": null,
       "grid_row": null,
       "grid_template_areas": null,
       "grid_template_columns": null,
       "grid_template_rows": null,
       "height": null,
       "justify_content": null,
       "justify_items": null,
       "left": null,
       "margin": null,
       "max_height": null,
       "max_width": null,
       "min_height": null,
       "min_width": null,
       "object_fit": null,
       "object_position": null,
       "order": null,
       "overflow": null,
       "overflow_x": null,
       "overflow_y": null,
       "padding": null,
       "right": null,
       "top": null,
       "visibility": null,
       "width": null
      }
     },
     "88b57fa6163a44688f1e26bff00d7c82": {
      "model_module": "@jupyter-widgets/controls",
      "model_module_version": "1.5.0",
      "model_name": "HTMLModel",
      "state": {
       "_dom_classes": [],
       "_model_module": "@jupyter-widgets/controls",
       "_model_module_version": "1.5.0",
       "_model_name": "HTMLModel",
       "_view_count": null,
       "_view_module": "@jupyter-widgets/controls",
       "_view_module_version": "1.5.0",
       "_view_name": "HTMLView",
       "description": "",
       "description_tooltip": null,
       "layout": "IPY_MODEL_8be8d9277ff145f38aa72174750d923f",
       "placeholder": "​",
       "style": "IPY_MODEL_c2a032b18fed4db79e6dc26898639455",
       "value": " 369M/369M [00:01&lt;00:00, 256MB/s]"
      }
     },
     "8be8d9277ff145f38aa72174750d923f": {
      "model_module": "@jupyter-widgets/base",
      "model_module_version": "1.2.0",
      "model_name": "LayoutModel",
      "state": {
       "_model_module": "@jupyter-widgets/base",
       "_model_module_version": "1.2.0",
       "_model_name": "LayoutModel",
       "_view_count": null,
       "_view_module": "@jupyter-widgets/base",
       "_view_module_version": "1.2.0",
       "_view_name": "LayoutView",
       "align_content": null,
       "align_items": null,
       "align_self": null,
       "border": null,
       "bottom": null,
       "display": null,
       "flex": null,
       "flex_flow": null,
       "grid_area": null,
       "grid_auto_columns": null,
       "grid_auto_flow": null,
       "grid_auto_rows": null,
       "grid_column": null,
       "grid_gap": null,
       "grid_row": null,
       "grid_template_areas": null,
       "grid_template_columns": null,
       "grid_template_rows": null,
       "height": null,
       "justify_content": null,
       "justify_items": null,
       "left": null,
       "margin": null,
       "max_height": null,
       "max_width": null,
       "min_height": null,
       "min_width": null,
       "object_fit": null,
       "object_position": null,
       "order": null,
       "overflow": null,
       "overflow_x": null,
       "overflow_y": null,
       "padding": null,
       "right": null,
       "top": null,
       "visibility": null,
       "width": null
      }
     },
     "9b18859df5c54615b59c7f1d4fc40911": {
      "model_module": "@jupyter-widgets/base",
      "model_module_version": "1.2.0",
      "model_name": "LayoutModel",
      "state": {
       "_model_module": "@jupyter-widgets/base",
       "_model_module_version": "1.2.0",
       "_model_name": "LayoutModel",
       "_view_count": null,
       "_view_module": "@jupyter-widgets/base",
       "_view_module_version": "1.2.0",
       "_view_name": "LayoutView",
       "align_content": null,
       "align_items": null,
       "align_self": null,
       "border": null,
       "bottom": null,
       "display": null,
       "flex": null,
       "flex_flow": null,
       "grid_area": null,
       "grid_auto_columns": null,
       "grid_auto_flow": null,
       "grid_auto_rows": null,
       "grid_column": null,
       "grid_gap": null,
       "grid_row": null,
       "grid_template_areas": null,
       "grid_template_columns": null,
       "grid_template_rows": null,
       "height": null,
       "justify_content": null,
       "justify_items": null,
       "left": null,
       "margin": null,
       "max_height": null,
       "max_width": null,
       "min_height": null,
       "min_width": null,
       "object_fit": null,
       "object_position": null,
       "order": null,
       "overflow": null,
       "overflow_x": null,
       "overflow_y": null,
       "padding": null,
       "right": null,
       "top": null,
       "visibility": null,
       "width": null
      }
     },
     "9dd3ccd2bce14a2e81fa0b02b5d808c9": {
      "model_module": "@jupyter-widgets/controls",
      "model_module_version": "1.5.0",
      "model_name": "DescriptionStyleModel",
      "state": {
       "_model_module": "@jupyter-widgets/controls",
       "_model_module_version": "1.5.0",
       "_model_name": "DescriptionStyleModel",
       "_view_count": null,
       "_view_module": "@jupyter-widgets/base",
       "_view_module_version": "1.2.0",
       "_view_name": "StyleView",
       "description_width": ""
      }
     },
     "a7ea1255b2ea48f3b85aae56625a47b9": {
      "model_module": "@jupyter-widgets/controls",
      "model_module_version": "1.5.0",
      "model_name": "HTMLModel",
      "state": {
       "_dom_classes": [],
       "_model_module": "@jupyter-widgets/controls",
       "_model_module_version": "1.5.0",
       "_model_name": "HTMLModel",
       "_view_count": null,
       "_view_module": "@jupyter-widgets/controls",
       "_view_module_version": "1.5.0",
       "_view_name": "HTMLView",
       "description": "",
       "description_tooltip": null,
       "layout": "IPY_MODEL_84dd738d9aaf4047918a28d7c9566440",
       "placeholder": "​",
       "style": "IPY_MODEL_9dd3ccd2bce14a2e81fa0b02b5d808c9",
       "value": " 263/263 [00:00&lt;00:00, 21.2kB/s]"
      }
     },
     "a80f7c9243444e108b70e55a1055db19": {
      "model_module": "@jupyter-widgets/controls",
      "model_module_version": "1.5.0",
      "model_name": "DescriptionStyleModel",
      "state": {
       "_model_module": "@jupyter-widgets/controls",
       "_model_module_version": "1.5.0",
       "_model_name": "DescriptionStyleModel",
       "_view_count": null,
       "_view_module": "@jupyter-widgets/base",
       "_view_module_version": "1.2.0",
       "_view_name": "StyleView",
       "description_width": ""
      }
     },
     "b5abebb8ee15419aac4803d3c2e4cb09": {
      "model_module": "@jupyter-widgets/base",
      "model_module_version": "1.2.0",
      "model_name": "LayoutModel",
      "state": {
       "_model_module": "@jupyter-widgets/base",
       "_model_module_version": "1.2.0",
       "_model_name": "LayoutModel",
       "_view_count": null,
       "_view_module": "@jupyter-widgets/base",
       "_view_module_version": "1.2.0",
       "_view_name": "LayoutView",
       "align_content": null,
       "align_items": null,
       "align_self": null,
       "border": null,
       "bottom": null,
       "display": null,
       "flex": null,
       "flex_flow": null,
       "grid_area": null,
       "grid_auto_columns": null,
       "grid_auto_flow": null,
       "grid_auto_rows": null,
       "grid_column": null,
       "grid_gap": null,
       "grid_row": null,
       "grid_template_areas": null,
       "grid_template_columns": null,
       "grid_template_rows": null,
       "height": null,
       "justify_content": null,
       "justify_items": null,
       "left": null,
       "margin": null,
       "max_height": null,
       "max_width": null,
       "min_height": null,
       "min_width": null,
       "object_fit": null,
       "object_position": null,
       "order": null,
       "overflow": null,
       "overflow_x": null,
       "overflow_y": null,
       "padding": null,
       "right": null,
       "top": null,
       "visibility": null,
       "width": null
      }
     },
     "b9dbbeeea15a41d68f2ed19d465690d7": {
      "model_module": "@jupyter-widgets/base",
      "model_module_version": "1.2.0",
      "model_name": "LayoutModel",
      "state": {
       "_model_module": "@jupyter-widgets/base",
       "_model_module_version": "1.2.0",
       "_model_name": "LayoutModel",
       "_view_count": null,
       "_view_module": "@jupyter-widgets/base",
       "_view_module_version": "1.2.0",
       "_view_name": "LayoutView",
       "align_content": null,
       "align_items": null,
       "align_self": null,
       "border": null,
       "bottom": null,
       "display": null,
       "flex": null,
       "flex_flow": null,
       "grid_area": null,
       "grid_auto_columns": null,
       "grid_auto_flow": null,
       "grid_auto_rows": null,
       "grid_column": null,
       "grid_gap": null,
       "grid_row": null,
       "grid_template_areas": null,
       "grid_template_columns": null,
       "grid_template_rows": null,
       "height": null,
       "justify_content": null,
       "justify_items": null,
       "left": null,
       "margin": null,
       "max_height": null,
       "max_width": null,
       "min_height": null,
       "min_width": null,
       "object_fit": null,
       "object_position": null,
       "order": null,
       "overflow": null,
       "overflow_x": null,
       "overflow_y": null,
       "padding": null,
       "right": null,
       "top": null,
       "visibility": null,
       "width": null
      }
     },
     "bff33e863c6b45efa4b4a7d86f9f64bd": {
      "model_module": "@jupyter-widgets/controls",
      "model_module_version": "1.5.0",
      "model_name": "DescriptionStyleModel",
      "state": {
       "_model_module": "@jupyter-widgets/controls",
       "_model_module_version": "1.5.0",
       "_model_name": "DescriptionStyleModel",
       "_view_count": null,
       "_view_module": "@jupyter-widgets/base",
       "_view_module_version": "1.2.0",
       "_view_name": "StyleView",
       "description_width": ""
      }
     },
     "c2a032b18fed4db79e6dc26898639455": {
      "model_module": "@jupyter-widgets/controls",
      "model_module_version": "1.5.0",
      "model_name": "DescriptionStyleModel",
      "state": {
       "_model_module": "@jupyter-widgets/controls",
       "_model_module_version": "1.5.0",
       "_model_name": "DescriptionStyleModel",
       "_view_count": null,
       "_view_module": "@jupyter-widgets/base",
       "_view_module_version": "1.2.0",
       "_view_name": "StyleView",
       "description_width": ""
      }
     },
     "cc0b354eec9a4ca69e4167275740d288": {
      "model_module": "@jupyter-widgets/base",
      "model_module_version": "1.2.0",
      "model_name": "LayoutModel",
      "state": {
       "_model_module": "@jupyter-widgets/base",
       "_model_module_version": "1.2.0",
       "_model_name": "LayoutModel",
       "_view_count": null,
       "_view_module": "@jupyter-widgets/base",
       "_view_module_version": "1.2.0",
       "_view_name": "LayoutView",
       "align_content": null,
       "align_items": null,
       "align_self": null,
       "border": null,
       "bottom": null,
       "display": null,
       "flex": null,
       "flex_flow": null,
       "grid_area": null,
       "grid_auto_columns": null,
       "grid_auto_flow": null,
       "grid_auto_rows": null,
       "grid_column": null,
       "grid_gap": null,
       "grid_row": null,
       "grid_template_areas": null,
       "grid_template_columns": null,
       "grid_template_rows": null,
       "height": null,
       "justify_content": null,
       "justify_items": null,
       "left": null,
       "margin": null,
       "max_height": null,
       "max_width": null,
       "min_height": null,
       "min_width": null,
       "object_fit": null,
       "object_position": null,
       "order": null,
       "overflow": null,
       "overflow_x": null,
       "overflow_y": null,
       "padding": null,
       "right": null,
       "top": null,
       "visibility": null,
       "width": null
      }
     },
     "cde2795372ea455090f2990e73abca1e": {
      "model_module": "@jupyter-widgets/controls",
      "model_module_version": "1.5.0",
      "model_name": "ProgressStyleModel",
      "state": {
       "_model_module": "@jupyter-widgets/controls",
       "_model_module_version": "1.5.0",
       "_model_name": "ProgressStyleModel",
       "_view_count": null,
       "_view_module": "@jupyter-widgets/base",
       "_view_module_version": "1.2.0",
       "_view_name": "StyleView",
       "bar_color": null,
       "description_width": ""
      }
     },
     "cf015665fa7c46bbbd866a6a7725c256": {
      "model_module": "@jupyter-widgets/controls",
      "model_module_version": "1.5.0",
      "model_name": "FloatProgressModel",
      "state": {
       "_dom_classes": [],
       "_model_module": "@jupyter-widgets/controls",
       "_model_module_version": "1.5.0",
       "_model_name": "FloatProgressModel",
       "_view_count": null,
       "_view_module": "@jupyter-widgets/controls",
       "_view_module_version": "1.5.0",
       "_view_name": "ProgressView",
       "bar_style": "success",
       "description": "",
       "description_tooltip": null,
       "layout": "IPY_MODEL_703858e8e35543faa535f03426386c96",
       "max": 77779.0,
       "min": 0.0,
       "orientation": "horizontal",
       "style": "IPY_MODEL_0131dd6d74eb4f5b8a97ef98964dc347",
       "value": 77779.0
      }
     },
     "ea2402e4b1d64e3e96eb8896bce27de9": {
      "model_module": "@jupyter-widgets/controls",
      "model_module_version": "1.5.0",
      "model_name": "DescriptionStyleModel",
      "state": {
       "_model_module": "@jupyter-widgets/controls",
       "_model_module_version": "1.5.0",
       "_model_name": "DescriptionStyleModel",
       "_view_count": null,
       "_view_module": "@jupyter-widgets/base",
       "_view_module_version": "1.2.0",
       "_view_name": "StyleView",
       "description_width": ""
      }
     },
     "ec29a6fbc167489db369a13b7f667203": {
      "model_module": "@jupyter-widgets/base",
      "model_module_version": "1.2.0",
      "model_name": "LayoutModel",
      "state": {
       "_model_module": "@jupyter-widgets/base",
       "_model_module_version": "1.2.0",
       "_model_name": "LayoutModel",
       "_view_count": null,
       "_view_module": "@jupyter-widgets/base",
       "_view_module_version": "1.2.0",
       "_view_name": "LayoutView",
       "align_content": null,
       "align_items": null,
       "align_self": null,
       "border": null,
       "bottom": null,
       "display": null,
       "flex": null,
       "flex_flow": null,
       "grid_area": null,
       "grid_auto_columns": null,
       "grid_auto_flow": null,
       "grid_auto_rows": null,
       "grid_column": null,
       "grid_gap": null,
       "grid_row": null,
       "grid_template_areas": null,
       "grid_template_columns": null,
       "grid_template_rows": null,
       "height": null,
       "justify_content": null,
       "justify_items": null,
       "left": null,
       "margin": null,
       "max_height": null,
       "max_width": null,
       "min_height": null,
       "min_width": null,
       "object_fit": null,
       "object_position": null,
       "order": null,
       "overflow": null,
       "overflow_x": null,
       "overflow_y": null,
       "padding": null,
       "right": null,
       "top": null,
       "visibility": null,
       "width": null
      }
     },
     "f599bd628e884d31b85c2257772ad656": {
      "model_module": "@jupyter-widgets/controls",
      "model_module_version": "1.5.0",
      "model_name": "ProgressStyleModel",
      "state": {
       "_model_module": "@jupyter-widgets/controls",
       "_model_module_version": "1.5.0",
       "_model_name": "ProgressStyleModel",
       "_view_count": null,
       "_view_module": "@jupyter-widgets/base",
       "_view_module_version": "1.2.0",
       "_view_name": "StyleView",
       "bar_color": null,
       "description_width": ""
      }
     },
     "f857672443fe451fa65b7223f250e3ba": {
      "model_module": "@jupyter-widgets/controls",
      "model_module_version": "1.5.0",
      "model_name": "FloatProgressModel",
      "state": {
       "_dom_classes": [],
       "_model_module": "@jupyter-widgets/controls",
       "_model_module_version": "1.5.0",
       "_model_name": "FloatProgressModel",
       "_view_count": null,
       "_view_module": "@jupyter-widgets/controls",
       "_view_module_version": "1.5.0",
       "_view_name": "ProgressView",
       "bar_style": "success",
       "description": "",
       "description_tooltip": null,
       "layout": "IPY_MODEL_b5abebb8ee15419aac4803d3c2e4cb09",
       "max": 263.0,
       "min": 0.0,
       "orientation": "horizontal",
       "style": "IPY_MODEL_0f818a95135b42f2a99ba0080e344387",
       "value": 263.0
      }
     },
     "fd01c0e38e8543ea8ee212fbe0c5276a": {
      "model_module": "@jupyter-widgets/base",
      "model_module_version": "1.2.0",
      "model_name": "LayoutModel",
      "state": {
       "_model_module": "@jupyter-widgets/base",
       "_model_module_version": "1.2.0",
       "_model_name": "LayoutModel",
       "_view_count": null,
       "_view_module": "@jupyter-widgets/base",
       "_view_module_version": "1.2.0",
       "_view_name": "LayoutView",
       "align_content": null,
       "align_items": null,
       "align_self": null,
       "border": null,
       "bottom": null,
       "display": null,
       "flex": null,
       "flex_flow": null,
       "grid_area": null,
       "grid_auto_columns": null,
       "grid_auto_flow": null,
       "grid_auto_rows": null,
       "grid_column": null,
       "grid_gap": null,
       "grid_row": null,
       "grid_template_areas": null,
       "grid_template_columns": null,
       "grid_template_rows": null,
       "height": null,
       "justify_content": null,
       "justify_items": null,
       "left": null,
       "margin": null,
       "max_height": null,
       "max_width": null,
       "min_height": null,
       "min_width": null,
       "object_fit": null,
       "object_position": null,
       "order": null,
       "overflow": null,
       "overflow_x": null,
       "overflow_y": null,
       "padding": null,
       "right": null,
       "top": null,
       "visibility": null,
       "width": null
      }
     }
    },
    "version_major": 2,
    "version_minor": 0
   }
  }
 },
 "nbformat": 4,
 "nbformat_minor": 5
}
